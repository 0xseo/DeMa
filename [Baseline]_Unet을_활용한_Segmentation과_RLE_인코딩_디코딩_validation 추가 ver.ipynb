{
  "cells": [
    {
      "cell_type": "markdown",
      "id": "rnWvAfNHH_x7",
      "metadata": {
        "id": "rnWvAfNHH_x7"
      },
      "source": [
        "## 구글 드라이브 마운트"
      ]
    },
    {
      "cell_type": "code",
      "execution_count": 1,
      "id": "cjQIYXA-HzVo",
      "metadata": {
        "colab": {
          "base_uri": "https://localhost:8080/"
        },
        "id": "cjQIYXA-HzVo",
        "outputId": "1b678d3b-cb0e-495d-c5f9-6498cacda868"
      },
      "outputs": [
        {
          "name": "stdout",
          "output_type": "stream",
          "text": [
            "Mounted at /content/drive\n"
          ]
        }
      ],
      "source": [
        "from google.colab import drive\n",
        "drive.mount('/content/drive')"
      ]
    },
    {
      "cell_type": "code",
      "execution_count": 2,
      "id": "bUGspjR_aumU",
      "metadata": {
        "colab": {
          "base_uri": "https://localhost:8080/"
        },
        "id": "bUGspjR_aumU",
        "outputId": "0bca6350-5ff0-471c-bd20-80e67773a27d"
      },
      "outputs": [
        {
          "name": "stdout",
          "output_type": "stream",
          "text": [
            "/content/drive/MyDrive/데이터 마법사들\n"
          ]
        }
      ],
      "source": [
        "cd /content/drive/MyDrive/데이터 마법사들"
      ]
    },
    {
      "cell_type": "code",
      "execution_count": 3,
      "id": "ckwgWCS7bVKo",
      "metadata": {
        "colab": {
          "base_uri": "https://localhost:8080/",
          "height": 35
        },
        "id": "ckwgWCS7bVKo",
        "outputId": "f834e796-a36b-4dc1-e078-5fb6af050b0d"
      },
      "outputs": [
        {
          "data": {
            "application/vnd.google.colaboratory.intrinsic+json": {
              "type": "string"
            },
            "text/plain": [
              "'/content/drive/MyDrive/데이터 마법사들'"
            ]
          },
          "execution_count": 3,
          "metadata": {},
          "output_type": "execute_result"
        }
      ],
      "source": [
        "pwd"
      ]
    },
    {
      "cell_type": "code",
      "execution_count": 1,
      "id": "OK3q1YpA0L4V",
      "metadata": {
        "colab": {
          "base_uri": "https://localhost:8080/"
        },
        "id": "OK3q1YpA0L4V",
        "outputId": "4e41c6b4-e2a3-485e-b923-9e32ca711ad1"
      },
      "outputs": [
        {
          "name": "stdout",
          "output_type": "stream",
          "text": [
            "Requirement already satisfied: timm in c:\\users\\user\\anaconda3\\envs\\dema\\lib\\site-packages (0.9.2)\n",
            "Requirement already satisfied: torch>=1.7 in c:\\users\\user\\anaconda3\\envs\\dema\\lib\\site-packages (from timm) (2.0.1)\n",
            "Requirement already satisfied: torchvision in c:\\users\\user\\anaconda3\\envs\\dema\\lib\\site-packages (from timm) (0.15.2)\n",
            "Requirement already satisfied: pyyaml in c:\\users\\user\\anaconda3\\envs\\dema\\lib\\site-packages (from timm) (6.0)\n",
            "Requirement already satisfied: huggingface-hub in c:\\users\\user\\anaconda3\\envs\\dema\\lib\\site-packages (from timm) (0.16.4)\n",
            "Requirement already satisfied: safetensors in c:\\users\\user\\anaconda3\\envs\\dema\\lib\\site-packages (from timm) (0.3.1)\n",
            "Requirement already satisfied: filelock in c:\\users\\user\\anaconda3\\envs\\dema\\lib\\site-packages (from torch>=1.7->timm) (3.9.0)\n",
            "Requirement already satisfied: typing-extensions in c:\\users\\user\\anaconda3\\envs\\dema\\lib\\site-packages (from torch>=1.7->timm) (4.6.3)\n",
            "Requirement already satisfied: sympy in c:\\users\\user\\anaconda3\\envs\\dema\\lib\\site-packages (from torch>=1.7->timm) (1.11.1)\n",
            "Requirement already satisfied: networkx in c:\\users\\user\\anaconda3\\envs\\dema\\lib\\site-packages (from torch>=1.7->timm) (2.8.4)\n",
            "Requirement already satisfied: jinja2 in c:\\users\\user\\anaconda3\\envs\\dema\\lib\\site-packages (from torch>=1.7->timm) (3.1.2)\n",
            "Requirement already satisfied: fsspec in c:\\users\\user\\anaconda3\\envs\\dema\\lib\\site-packages (from huggingface-hub->timm) (2023.6.0)\n",
            "Requirement already satisfied: requests in c:\\users\\user\\anaconda3\\envs\\dema\\lib\\site-packages (from huggingface-hub->timm) (2.29.0)\n",
            "Requirement already satisfied: tqdm>=4.42.1 in c:\\users\\user\\anaconda3\\envs\\dema\\lib\\site-packages (from huggingface-hub->timm) (4.65.0)\n",
            "Requirement already satisfied: packaging>=20.9 in c:\\users\\user\\appdata\\roaming\\python\\python311\\site-packages (from huggingface-hub->timm) (23.0)\n",
            "Requirement already satisfied: numpy in c:\\users\\user\\anaconda3\\envs\\dema\\lib\\site-packages (from torchvision->timm) (1.25.0)\n",
            "Requirement already satisfied: pillow!=8.3.*,>=5.3.0 in c:\\users\\user\\anaconda3\\envs\\dema\\lib\\site-packages (from torchvision->timm) (9.4.0)\n",
            "Requirement already satisfied: colorama in c:\\users\\user\\appdata\\roaming\\python\\python311\\site-packages (from tqdm>=4.42.1->huggingface-hub->timm) (0.4.6)\n",
            "Requirement already satisfied: MarkupSafe>=2.0 in c:\\users\\user\\anaconda3\\envs\\dema\\lib\\site-packages (from jinja2->torch>=1.7->timm) (2.1.1)\n",
            "Requirement already satisfied: charset-normalizer<4,>=2 in c:\\users\\user\\anaconda3\\envs\\dema\\lib\\site-packages (from requests->huggingface-hub->timm) (2.0.4)\n",
            "Requirement already satisfied: idna<4,>=2.5 in c:\\users\\user\\anaconda3\\envs\\dema\\lib\\site-packages (from requests->huggingface-hub->timm) (3.4)\n",
            "Requirement already satisfied: urllib3<1.27,>=1.21.1 in c:\\users\\user\\anaconda3\\envs\\dema\\lib\\site-packages (from requests->huggingface-hub->timm) (1.26.16)\n",
            "Requirement already satisfied: certifi>=2017.4.17 in c:\\users\\user\\anaconda3\\envs\\dema\\lib\\site-packages (from requests->huggingface-hub->timm) (2023.5.7)\n",
            "Requirement already satisfied: mpmath>=0.19 in c:\\users\\user\\anaconda3\\envs\\dema\\lib\\site-packages (from sympy->torch>=1.7->timm) (1.2.1)\n"
          ]
        }
      ],
      "source": [
        "!pip install timm"
      ]
    },
    {
      "cell_type": "code",
      "execution_count": 2,
      "id": "w9_Urmq807cw",
      "metadata": {
        "colab": {
          "base_uri": "https://localhost:8080/"
        },
        "id": "w9_Urmq807cw",
        "outputId": "f79e374a-c046-4242-b11f-ba943f55f703"
      },
      "outputs": [
        {
          "name": "stdout",
          "output_type": "stream",
          "text": [
            "Requirement already satisfied: einops in c:\\users\\user\\anaconda3\\envs\\dema\\lib\\site-packages (0.6.1)\n"
          ]
        }
      ],
      "source": [
        "!pip install einops"
      ]
    },
    {
      "cell_type": "markdown",
      "id": "d73d24e3-5c9e-4ade-9e6e-ca6f46a2d914",
      "metadata": {
        "id": "d73d24e3-5c9e-4ade-9e6e-ca6f46a2d914"
      },
      "source": [
        "## Import"
      ]
    },
    {
      "cell_type": "code",
      "execution_count": 1,
      "id": "ad9b681e-370a-4cfa-a452-dd2d7f0cd77f",
      "metadata": {
        "id": "ad9b681e-370a-4cfa-a452-dd2d7f0cd77f"
      },
      "outputs": [
        {
          "name": "stderr",
          "output_type": "stream",
          "text": [
            "c:\\Users\\user\\anaconda3\\envs\\DeMa\\Lib\\site-packages\\tqdm\\auto.py:21: TqdmWarning: IProgress not found. Please update jupyter and ipywidgets. See https://ipywidgets.readthedocs.io/en/stable/user_install.html\n",
            "  from .autonotebook import tqdm as notebook_tqdm\n"
          ]
        }
      ],
      "source": [
        "import os\n",
        "import cv2\n",
        "import pandas as pd\n",
        "import numpy as np\n",
        "\n",
        "import torch\n",
        "import torch.nn as nn\n",
        "import torch.nn.functional as F\n",
        "from torch.utils.data import Dataset, DataLoader, random_split\n",
        "from torchvision import transforms\n",
        "\n",
        "from tqdm import tqdm\n",
        "import albumentations as A\n",
        "from albumentations.pytorch import ToTensorV2\n",
        "\n",
        "from einops import rearrange, repeat\n",
        "from timm.models.layers import DropPath, to_2tuple, trunc_normal_\n",
        "import timm\n",
        "import matplotlib.pyplot as plt\n",
        "\n",
        "device = torch.device('cuda' if torch.cuda.is_available() else 'cpu')"
      ]
    },
    {
      "cell_type": "code",
      "execution_count": 2,
      "id": "9EEbTwKrbhRA",
      "metadata": {
        "colab": {
          "base_uri": "https://localhost:8080/"
        },
        "id": "9EEbTwKrbhRA",
        "outputId": "91331c23-2e69-49cc-aedc-85172b06cd79"
      },
      "outputs": [
        {
          "name": "stdout",
          "output_type": "stream",
          "text": [
            "cuda\n"
          ]
        }
      ],
      "source": [
        "print(device)"
      ]
    },
    {
      "cell_type": "markdown",
      "id": "20ff3de5-0d0e-497b-ac75-d5179a3f65d3",
      "metadata": {
        "id": "20ff3de5-0d0e-497b-ac75-d5179a3f65d3"
      },
      "source": [
        "## Utils"
      ]
    },
    {
      "cell_type": "code",
      "execution_count": 3,
      "id": "838e1d83-8670-407b-82f6-bf9652f58639",
      "metadata": {
        "id": "838e1d83-8670-407b-82f6-bf9652f58639"
      },
      "outputs": [],
      "source": [
        "# RLE 디코딩 함수\n",
        "def rle_decode(mask_rle, shape):\n",
        "    s = mask_rle.split()\n",
        "    starts, lengths = [np.asarray(x, dtype=int) for x in (s[0:][::2], s[1:][::2])]\n",
        "    starts -= 1\n",
        "    ends = starts + lengths\n",
        "    img = np.zeros(shape[0]*shape[1], dtype=np.uint8)\n",
        "    for lo, hi in zip(starts, ends):\n",
        "        img[lo:hi] = 1\n",
        "    return img.reshape(shape)\n",
        "\n",
        "# RLE 인코딩 함수\n",
        "def rle_encode(mask):\n",
        "    pixels = mask.flatten()\n",
        "    pixels = np.concatenate([[0], pixels, [0]])\n",
        "    runs = np.where(pixels[1:] != pixels[:-1])[0] + 1\n",
        "    runs[1::2] -= runs[::2]\n",
        "    return ' '.join(str(x) for x in runs)"
      ]
    },
    {
      "cell_type": "markdown",
      "id": "be76a29e-e9c2-411a-a569-04166f074184",
      "metadata": {
        "id": "be76a29e-e9c2-411a-a569-04166f074184"
      },
      "source": [
        "## Custom Dataset"
      ]
    },
    {
      "cell_type": "code",
      "execution_count": 4,
      "id": "a8496767-2f64-4285-bec4-c6f53a1fd9d2",
      "metadata": {
        "id": "a8496767-2f64-4285-bec4-c6f53a1fd9d2"
      },
      "outputs": [],
      "source": [
        "class SatelliteDataset(Dataset):\n",
        "    def __init__(self, csv_file, transform=None, infer=False):\n",
        "        self.data = pd.read_csv(csv_file)\n",
        "        self.transform = transform\n",
        "        self.infer = infer\n",
        "\n",
        "    def __len__(self):\n",
        "        return len(self.data)\n",
        "\n",
        "    def __getitem__(self, idx):\n",
        "        img_path = self.data.iloc[idx, 1]\n",
        "        image = cv2.imread(img_path)\n",
        "        image = cv2.cvtColor(image, cv2.COLOR_BGR2RGB)\n",
        "\n",
        "        if self.infer:\n",
        "            if self.transform:\n",
        "                image = self.transform(image=image)['image']\n",
        "            return image\n",
        "\n",
        "        mask_rle = self.data.iloc[idx, 2]\n",
        "        mask = rle_decode(mask_rle, (image.shape[0], image.shape[1]))\n",
        "\n",
        "        if self.transform:\n",
        "            augmented = self.transform(image=image, mask=mask)\n",
        "            image = augmented['image']\n",
        "            mask = augmented['mask']\n",
        "\n",
        "        return image, mask"
      ]
    },
    {
      "cell_type": "markdown",
      "id": "dc955893-22fd-4320-88be-7aa0d790cbd9",
      "metadata": {
        "id": "dc955893-22fd-4320-88be-7aa0d790cbd9"
      },
      "source": [
        "## Data Loader"
      ]
    },
    {
      "cell_type": "code",
      "execution_count": 5,
      "id": "1b708503-2ff9-4584-9d73-40990b3572f8",
      "metadata": {
        "colab": {
          "base_uri": "https://localhost:8080/"
        },
        "id": "1b708503-2ff9-4584-9d73-40990b3572f8",
        "outputId": "29f877e8-75eb-466e-a304-0ee44415e49b"
      },
      "outputs": [],
      "source": [
        "transform = A.Compose(\n",
        "    [\n",
        "        A.Resize(224, 224),\n",
        "        A.Normalize(),\n",
        "        ToTensorV2()\n",
        "    ]\n",
        ")\n",
        "\n",
        "dataset = SatelliteDataset(csv_file='./train.csv', transform=transform)\n",
        "dataset_size = len(dataset)\n",
        "train_size = int(dataset_size * 0.9)\n",
        "val_size = int(dataset_size * 0.1)\n",
        "train_dataset, validation_dataset = random_split(dataset, [train_size, val_size])\n",
        "train_dataloader = DataLoader(train_dataset, batch_size=16, shuffle=True)\n",
        "val_dataloader = DataLoader(validation_dataset, batch_size=16, shuffle=True)"
      ]
    },
    {
      "cell_type": "markdown",
      "id": "f42501fc-b573-4893-a7c4-5e280dfdaf09",
      "metadata": {
        "id": "f42501fc-b573-4893-a7c4-5e280dfdaf09"
      },
      "source": [
        "## Define Model"
      ]
    },
    {
      "cell_type": "code",
      "execution_count": 6,
      "id": "65960bfb-803a-4c40-b713-6f647779e4ea",
      "metadata": {
        "id": "65960bfb-803a-4c40-b713-6f647779e4ea"
      },
      "outputs": [],
      "source": [
        "# U-Net의 기본 구성 요소인 Double Convolution Block을 정의합니다.\n",
        "def double_conv(in_channels, out_channels):\n",
        "    return nn.Sequential(\n",
        "        nn.Conv2d(in_channels, out_channels, 3, padding=1),\n",
        "        nn.ReLU(inplace=True),\n",
        "        nn.Conv2d(out_channels, out_channels, 3, padding=1),\n",
        "        nn.ReLU(inplace=True)\n",
        "    )\n",
        "\n",
        "# 간단한 U-Net 모델 정의\n",
        "class UNet(nn.Module):\n",
        "    def __init__(self):\n",
        "        super(UNet, self).__init__()\n",
        "        self.dconv_down1 = double_conv(3, 64)\n",
        "        self.dconv_down2 = double_conv(64, 128)\n",
        "        self.dconv_down3 = double_conv(128, 256)\n",
        "        self.dconv_down4 = double_conv(256, 512)\n",
        "\n",
        "        self.maxpool = nn.MaxPool2d(2)\n",
        "        self.upsample = nn.Upsample(scale_factor=2, mode='bilinear', align_corners=True)\n",
        "\n",
        "        self.dconv_up3 = double_conv(256 + 512, 256)\n",
        "        self.dconv_up2 = double_conv(128 + 256, 128)\n",
        "        self.dconv_up1 = double_conv(128 + 64, 64)\n",
        "\n",
        "        self.conv_last = nn.Conv2d(64, 1, 1)\n",
        "\n",
        "    def forward(self, x):\n",
        "        conv1 = self.dconv_down1(x)\n",
        "        x = self.maxpool(conv1)\n",
        "\n",
        "        conv2 = self.dconv_down2(x)\n",
        "        x = self.maxpool(conv2)\n",
        "\n",
        "        conv3 = self.dconv_down3(x)\n",
        "        x = self.maxpool(conv3)\n",
        "\n",
        "        x = self.dconv_down4(x)\n",
        "\n",
        "        x = self.upsample(x)\n",
        "        x = torch.cat([x, conv3], dim=1)\n",
        "\n",
        "        x = self.dconv_up3(x)\n",
        "        x = self.upsample(x)\n",
        "        x = torch.cat([x, conv2], dim=1)\n",
        "\n",
        "        x = self.dconv_up2(x)\n",
        "        x = self.upsample(x)\n",
        "        x = torch.cat([x, conv1], dim=1)\n",
        "\n",
        "        x = self.dconv_up1(x)\n",
        "\n",
        "        out = self.conv_last(x)\n",
        "\n",
        "        return out"
      ]
    },
    {
      "cell_type": "markdown",
      "id": "k4XbvfG3z2C3",
      "metadata": {
        "id": "k4XbvfG3z2C3"
      },
      "source": [
        "## UNetFormer"
      ]
    },
    {
      "cell_type": "code",
      "execution_count": 7,
      "id": "ZPNS9iRaz1sT",
      "metadata": {
        "id": "ZPNS9iRaz1sT"
      },
      "outputs": [],
      "source": [
        "class ConvBNReLU(nn.Sequential):\n",
        "    def __init__(self, in_channels, out_channels, kernel_size=3, dilation=1, stride=1, norm_layer=nn.BatchNorm2d, bias=False):\n",
        "        super(ConvBNReLU, self).__init__(\n",
        "            nn.Conv2d(in_channels, out_channels, kernel_size=kernel_size, bias=bias,\n",
        "                      dilation=dilation, stride=stride, padding=((stride - 1) + dilation * (kernel_size - 1)) // 2),\n",
        "            norm_layer(out_channels),\n",
        "            nn.ReLU6()\n",
        "        )\n",
        "\n",
        "\n",
        "class ConvBN(nn.Sequential):\n",
        "    def __init__(self, in_channels, out_channels, kernel_size=3, dilation=1, stride=1, norm_layer=nn.BatchNorm2d, bias=False):\n",
        "        super(ConvBN, self).__init__(\n",
        "            nn.Conv2d(in_channels, out_channels, kernel_size=kernel_size, bias=bias,\n",
        "                      dilation=dilation, stride=stride, padding=((stride - 1) + dilation * (kernel_size - 1)) // 2),\n",
        "            norm_layer(out_channels)\n",
        "        )\n",
        "\n",
        "\n",
        "class Conv(nn.Sequential):\n",
        "    def __init__(self, in_channels, out_channels, kernel_size=3, dilation=1, stride=1, bias=False):\n",
        "        super(Conv, self).__init__(\n",
        "            nn.Conv2d(in_channels, out_channels, kernel_size=kernel_size, bias=bias,\n",
        "                      dilation=dilation, stride=stride, padding=((stride - 1) + dilation * (kernel_size - 1)) // 2)\n",
        "        )\n",
        "\n",
        "\n",
        "class SeparableConvBNReLU(nn.Sequential):\n",
        "    def __init__(self, in_channels, out_channels, kernel_size=3, stride=1, dilation=1,\n",
        "                 norm_layer=nn.BatchNorm2d):\n",
        "        super(SeparableConvBNReLU, self).__init__(\n",
        "            nn.Conv2d(in_channels, in_channels, kernel_size, stride=stride, dilation=dilation,\n",
        "                      padding=((stride - 1) + dilation * (kernel_size - 1)) // 2,\n",
        "                      groups=in_channels, bias=False),\n",
        "            norm_layer(out_channels),\n",
        "            nn.Conv2d(in_channels, out_channels, kernel_size=1, bias=False),\n",
        "            nn.ReLU6()\n",
        "        )\n",
        "\n",
        "\n",
        "class SeparableConvBN(nn.Sequential):\n",
        "    def __init__(self, in_channels, out_channels, kernel_size=3, stride=1, dilation=1,\n",
        "                 norm_layer=nn.BatchNorm2d):\n",
        "        super(SeparableConvBN, self).__init__(\n",
        "            nn.Conv2d(in_channels, in_channels, kernel_size, stride=stride, dilation=dilation,\n",
        "                      padding=((stride - 1) + dilation * (kernel_size - 1)) // 2,\n",
        "                      groups=in_channels, bias=False),\n",
        "            norm_layer(out_channels),\n",
        "            nn.Conv2d(in_channels, out_channels, kernel_size=1, bias=False)\n",
        "        )\n",
        "\n",
        "\n",
        "class SeparableConv(nn.Sequential):\n",
        "    def __init__(self, in_channels, out_channels, kernel_size=3, stride=1, dilation=1):\n",
        "        super(SeparableConv, self).__init__(\n",
        "            nn.Conv2d(in_channels, in_channels, kernel_size, stride=stride, dilation=dilation,\n",
        "                      padding=((stride - 1) + dilation * (kernel_size - 1)) // 2,\n",
        "                      groups=in_channels, bias=False),\n",
        "            nn.Conv2d(in_channels, out_channels, kernel_size=1, bias=False)\n",
        "        )\n",
        "\n",
        "\n",
        "class Mlp(nn.Module):\n",
        "    def __init__(self, in_features, hidden_features=None, out_features=None, act_layer=nn.ReLU6, drop=0.):\n",
        "        super().__init__()\n",
        "        out_features = out_features or in_features\n",
        "        hidden_features = hidden_features or in_features\n",
        "        self.fc1 = nn.Conv2d(in_features, hidden_features, 1, 1, 0, bias=True)\n",
        "        self.act = act_layer()\n",
        "        self.fc2 = nn.Conv2d(hidden_features, out_features, 1, 1, 0, bias=True)\n",
        "        self.drop = nn.Dropout(drop, inplace=True)\n",
        "\n",
        "    def forward(self, x):\n",
        "        x = self.fc1(x)\n",
        "        x = self.act(x)\n",
        "        x = self.drop(x)\n",
        "        x = self.fc2(x)\n",
        "        x = self.drop(x)\n",
        "        return x\n",
        "\n",
        "\n",
        "class GlobalLocalAttention(nn.Module):\n",
        "    def __init__(self,\n",
        "                 dim=256,\n",
        "                 num_heads=16,\n",
        "                 qkv_bias=False,\n",
        "                 window_size=8,\n",
        "                 relative_pos_embedding=True\n",
        "                 ):\n",
        "        super().__init__()\n",
        "        self.num_heads = num_heads\n",
        "        head_dim = dim // self.num_heads\n",
        "        self.scale = head_dim ** -0.5\n",
        "        self.ws = window_size\n",
        "\n",
        "        self.qkv = Conv(dim, 3*dim, kernel_size=1, bias=qkv_bias)\n",
        "        self.local1 = ConvBN(dim, dim, kernel_size=3)\n",
        "        self.local2 = ConvBN(dim, dim, kernel_size=1)\n",
        "        self.proj = SeparableConvBN(dim, dim, kernel_size=window_size)\n",
        "\n",
        "        self.attn_x = nn.AvgPool2d(kernel_size=(window_size, 1), stride=1,  padding=(window_size//2 - 1, 0))\n",
        "        self.attn_y = nn.AvgPool2d(kernel_size=(1, window_size), stride=1, padding=(0, window_size//2 - 1))\n",
        "\n",
        "        self.relative_pos_embedding = relative_pos_embedding\n",
        "\n",
        "        if self.relative_pos_embedding:\n",
        "            # define a parameter table of relative position bias\n",
        "            self.relative_position_bias_table = nn.Parameter(\n",
        "                torch.zeros((2 * window_size - 1) * (2 * window_size - 1), num_heads))  # 2*Wh-1 * 2*Ww-1, nH\n",
        "\n",
        "            # get pair-wise relative position index for each token inside the window\n",
        "            coords_h = torch.arange(self.ws)\n",
        "            coords_w = torch.arange(self.ws)\n",
        "            coords = torch.stack(torch.meshgrid([coords_h, coords_w]))  # 2, Wh, Ww\n",
        "            coords_flatten = torch.flatten(coords, 1)  # 2, Wh*Ww\n",
        "            relative_coords = coords_flatten[:, :, None] - coords_flatten[:, None, :]  # 2, Wh*Ww, Wh*Ww\n",
        "            relative_coords = relative_coords.permute(1, 2, 0).contiguous()  # Wh*Ww, Wh*Ww, 2\n",
        "            relative_coords[:, :, 0] += self.ws - 1  # shift to start from 0\n",
        "            relative_coords[:, :, 1] += self.ws - 1\n",
        "            relative_coords[:, :, 0] *= 2 * self.ws - 1\n",
        "            relative_position_index = relative_coords.sum(-1)  # Wh*Ww, Wh*Ww\n",
        "            self.register_buffer(\"relative_position_index\", relative_position_index)\n",
        "\n",
        "            trunc_normal_(self.relative_position_bias_table, std=.02)\n",
        "\n",
        "    def pad(self, x, ps):\n",
        "        _, _, H, W = x.size()\n",
        "        if W % ps != 0:\n",
        "            x = F.pad(x, (0, ps - W % ps, 0, 0), mode='reflect')\n",
        "        if H % ps != 0:\n",
        "            x = F.pad(x, (0, 0, 0, ps - H % ps), mode='reflect')\n",
        "        return x\n",
        "\n",
        "    def pad_out(self, x):\n",
        "        x = F.pad(x, pad=(0, 1, 0, 1), mode='reflect')\n",
        "        return x\n",
        "\n",
        "    def forward(self, x):\n",
        "        B, C, H, W = x.shape\n",
        "\n",
        "        local = self.local2(x) + self.local1(x)\n",
        "\n",
        "        x = self.pad(x, self.ws)\n",
        "        B, C, Hp, Wp = x.shape\n",
        "        qkv = self.qkv(x)\n",
        "\n",
        "        q, k, v = rearrange(qkv, 'b (qkv h d) (hh ws1) (ww ws2) -> qkv (b hh ww) h (ws1 ws2) d', h=self.num_heads,\n",
        "                            d=C//self.num_heads, hh=Hp//self.ws, ww=Wp//self.ws, qkv=3, ws1=self.ws, ws2=self.ws)\n",
        "\n",
        "        dots = (q @ k.transpose(-2, -1)) * self.scale\n",
        "\n",
        "        if self.relative_pos_embedding:\n",
        "            relative_position_bias = self.relative_position_bias_table[self.relative_position_index.view(-1)].view(\n",
        "                self.ws * self.ws, self.ws * self.ws, -1)  # Wh*Ww,Wh*Ww,nH\n",
        "            relative_position_bias = relative_position_bias.permute(2, 0, 1).contiguous()  # nH, Wh*Ww, Wh*Ww\n",
        "            dots += relative_position_bias.unsqueeze(0)\n",
        "\n",
        "        attn = dots.softmax(dim=-1)\n",
        "        attn = attn @ v\n",
        "\n",
        "        attn = rearrange(attn, '(b hh ww) h (ws1 ws2) d -> b (h d) (hh ws1) (ww ws2)', h=self.num_heads,\n",
        "                         d=C//self.num_heads, hh=Hp//self.ws, ww=Wp//self.ws, ws1=self.ws, ws2=self.ws)\n",
        "\n",
        "        attn = attn[:, :, :H, :W]\n",
        "\n",
        "        out = self.attn_x(F.pad(attn, pad=(0, 0, 0, 1), mode='reflect')) + \\\n",
        "              self.attn_y(F.pad(attn, pad=(0, 1, 0, 0), mode='reflect'))\n",
        "\n",
        "        out = out + local\n",
        "        out = self.pad_out(out)\n",
        "        out = self.proj(out)\n",
        "        # print(out.size())\n",
        "        out = out[:, :, :H, :W]\n",
        "\n",
        "        return out\n",
        "\n",
        "\n",
        "class Block(nn.Module):\n",
        "    def __init__(self, dim=256, num_heads=16,  mlp_ratio=4., qkv_bias=False, drop=0., attn_drop=0.,\n",
        "                 drop_path=0., act_layer=nn.ReLU6, norm_layer=nn.BatchNorm2d, window_size=8):\n",
        "        super().__init__()\n",
        "        self.norm1 = norm_layer(dim)\n",
        "        self.attn = GlobalLocalAttention(dim, num_heads=num_heads, qkv_bias=qkv_bias, window_size=window_size)\n",
        "\n",
        "        self.drop_path = DropPath(drop_path) if drop_path > 0. else nn.Identity()\n",
        "        mlp_hidden_dim = int(dim * mlp_ratio)\n",
        "        self.mlp = Mlp(in_features=dim, hidden_features=mlp_hidden_dim, out_features=dim, act_layer=act_layer, drop=drop)\n",
        "        self.norm2 = norm_layer(dim)\n",
        "\n",
        "    def forward(self, x):\n",
        "\n",
        "        x = x + self.drop_path(self.attn(self.norm1(x)))\n",
        "        x = x + self.drop_path(self.mlp(self.norm2(x)))\n",
        "\n",
        "        return x\n",
        "\n",
        "\n",
        "class WF(nn.Module):\n",
        "    def __init__(self, in_channels=128, decode_channels=128, eps=1e-8):\n",
        "        super(WF, self).__init__()\n",
        "        self.pre_conv = Conv(in_channels, decode_channels, kernel_size=1)\n",
        "\n",
        "        self.weights = nn.Parameter(torch.ones(2, dtype=torch.float32), requires_grad=True)\n",
        "        self.eps = eps\n",
        "        self.post_conv = ConvBNReLU(decode_channels, decode_channels, kernel_size=3)\n",
        "\n",
        "    def forward(self, x, res):\n",
        "        x = F.interpolate(x, scale_factor=2, mode='bilinear', align_corners=False)\n",
        "        weights = nn.ReLU()(self.weights)\n",
        "        fuse_weights = weights / (torch.sum(weights, dim=0) + self.eps)\n",
        "        x = fuse_weights[0] * self.pre_conv(res) + fuse_weights[1] * x\n",
        "        x = self.post_conv(x)\n",
        "        return x\n",
        "\n",
        "\n",
        "class FeatureRefinementHead(nn.Module):\n",
        "    def __init__(self, in_channels=64, decode_channels=64):\n",
        "        super().__init__()\n",
        "        self.pre_conv = Conv(in_channels, decode_channels, kernel_size=1)\n",
        "\n",
        "        self.weights = nn.Parameter(torch.ones(2, dtype=torch.float32), requires_grad=True)\n",
        "        self.eps = 1e-8\n",
        "        self.post_conv = ConvBNReLU(decode_channels, decode_channels, kernel_size=3)\n",
        "\n",
        "        self.pa = nn.Sequential(nn.Conv2d(decode_channels, decode_channels, kernel_size=3, padding=1, groups=decode_channels),\n",
        "                                nn.Sigmoid())\n",
        "        self.ca = nn.Sequential(nn.AdaptiveAvgPool2d(1),\n",
        "                                Conv(decode_channels, decode_channels//16, kernel_size=1),\n",
        "                                nn.ReLU6(),\n",
        "                                Conv(decode_channels//16, decode_channels, kernel_size=1),\n",
        "                                nn.Sigmoid())\n",
        "\n",
        "        self.shortcut = ConvBN(decode_channels, decode_channels, kernel_size=1)\n",
        "        self.proj = SeparableConvBN(decode_channels, decode_channels, kernel_size=3)\n",
        "        self.act = nn.ReLU6()\n",
        "\n",
        "    def forward(self, x, res):\n",
        "        x = F.interpolate(x, scale_factor=2, mode='bilinear', align_corners=False)\n",
        "        weights = nn.ReLU()(self.weights)\n",
        "        fuse_weights = weights / (torch.sum(weights, dim=0) + self.eps)\n",
        "        x = fuse_weights[0] * self.pre_conv(res) + fuse_weights[1] * x\n",
        "        x = self.post_conv(x)\n",
        "        shortcut = self.shortcut(x)\n",
        "        pa = self.pa(x) * x\n",
        "        ca = self.ca(x) * x\n",
        "        x = pa + ca\n",
        "        x = self.proj(x) + shortcut\n",
        "        x = self.act(x)\n",
        "\n",
        "        return x\n",
        "\n",
        "\n",
        "class AuxHead(nn.Module):\n",
        "\n",
        "    def __init__(self, in_channels=64, num_classes=8):\n",
        "        super().__init__()\n",
        "        self.conv = ConvBNReLU(in_channels, in_channels)\n",
        "        self.drop = nn.Dropout(0.1)\n",
        "        self.conv_out = Conv(in_channels, num_classes, kernel_size=1)\n",
        "\n",
        "    def forward(self, x, h, w):\n",
        "        feat = self.conv(x)\n",
        "        feat = self.drop(feat)\n",
        "        feat = self.conv_out(feat)\n",
        "        feat = F.interpolate(feat, size=(h, w), mode='bilinear', align_corners=False)\n",
        "        return feat\n",
        "\n",
        "\n",
        "class Decoder(nn.Module):\n",
        "    def __init__(self,\n",
        "                 encoder_channels=(64, 128, 256, 512),\n",
        "                 decode_channels=64,\n",
        "                 dropout=0.1,\n",
        "                 window_size=8,\n",
        "                 num_classes=6):\n",
        "        super(Decoder, self).__init__()\n",
        "\n",
        "        self.pre_conv = ConvBN(encoder_channels[-1], decode_channels, kernel_size=1)\n",
        "        self.b4 = Block(dim=decode_channels, num_heads=8, window_size=window_size)\n",
        "\n",
        "        self.b3 = Block(dim=decode_channels, num_heads=8, window_size=window_size)\n",
        "        self.p3 = WF(encoder_channels[-2], decode_channels)\n",
        "\n",
        "        self.b2 = Block(dim=decode_channels, num_heads=8, window_size=window_size)\n",
        "        self.p2 = WF(encoder_channels[-3], decode_channels)\n",
        "\n",
        "        if self.training:\n",
        "            self.up4 = nn.UpsamplingBilinear2d(scale_factor=4)\n",
        "            self.up3 = nn.UpsamplingBilinear2d(scale_factor=2)\n",
        "            self.aux_head = AuxHead(decode_channels, num_classes)\n",
        "\n",
        "        self.p1 = FeatureRefinementHead(encoder_channels[-4], decode_channels)\n",
        "\n",
        "        self.segmentation_head = nn.Sequential(ConvBNReLU(decode_channels, decode_channels),\n",
        "                                               nn.Dropout2d(p=dropout, inplace=True),\n",
        "                                               Conv(decode_channels, num_classes, kernel_size=1))\n",
        "        self.init_weight()\n",
        "\n",
        "    def forward(self, res1, res2, res3, res4, h, w):\n",
        "        if self.training:\n",
        "            x = self.b4(self.pre_conv(res4))\n",
        "            h4 = self.up4(x)\n",
        "\n",
        "            x = self.p3(x, res3)\n",
        "            x = self.b3(x)\n",
        "            h3 = self.up3(x)\n",
        "\n",
        "            x = self.p2(x, res2)\n",
        "            x = self.b2(x)\n",
        "            h2 = x\n",
        "            x = self.p1(x, res1)\n",
        "            x = self.segmentation_head(x)\n",
        "            x = F.interpolate(x, size=(h, w), mode='bilinear', align_corners=False)\n",
        "\n",
        "            ah = h4 + h3 + h2\n",
        "            ah = self.aux_head(ah, h, w)\n",
        "\n",
        "            return x, ah\n",
        "        else:\n",
        "            x = self.b4(self.pre_conv(res4))\n",
        "            x = self.p3(x, res3)\n",
        "            x = self.b3(x)\n",
        "\n",
        "            x = self.p2(x, res2)\n",
        "            x = self.b2(x)\n",
        "\n",
        "            x = self.p1(x, res1)\n",
        "\n",
        "            x = self.segmentation_head(x)\n",
        "            x = F.interpolate(x, size=(h, w), mode='bilinear', align_corners=False)\n",
        "\n",
        "            return x\n",
        "\n",
        "    def init_weight(self):\n",
        "        for m in self.children():\n",
        "            if isinstance(m, nn.Conv2d):\n",
        "                nn.init.kaiming_normal_(m.weight, a=1)\n",
        "                if m.bias is not None:\n",
        "                    nn.init.constant_(m.bias, 0)\n",
        "\n",
        "\n",
        "class UNetFormer(nn.Module):\n",
        "    def __init__(self,\n",
        "                 decode_channels=64,\n",
        "                 dropout=0.1,\n",
        "                 backbone_name='swsl_resnet18',\n",
        "                 pretrained=True,\n",
        "                 window_size=8,\n",
        "                 num_classes=1\n",
        "                 ):\n",
        "        super().__init__()\n",
        "\n",
        "        self.backbone = timm.create_model(backbone_name, features_only=True, output_stride=32,\n",
        "                                          out_indices=(1, 2, 3, 4), pretrained=pretrained)\n",
        "        encoder_channels = self.backbone.feature_info.channels()\n",
        "\n",
        "        self.decoder = Decoder(encoder_channels, decode_channels, dropout, window_size, num_classes)\n",
        "\n",
        "    def forward(self, x):\n",
        "        h, w = x.size()[-2:]\n",
        "        res1, res2, res3, res4 = self.backbone(x)\n",
        "        if self.training:\n",
        "            x, ah = self.decoder(res1, res2, res3, res4, h, w)\n",
        "            return x, ah\n",
        "        else:\n",
        "            x = self.decoder(res1, res2, res3, res4, h, w)\n",
        "            return x"
      ]
    },
    {
      "cell_type": "markdown",
      "id": "a0895765-fba0-4fd9-b955-a6c0e43012e9",
      "metadata": {
        "id": "a0895765-fba0-4fd9-b955-a6c0e43012e9"
      },
      "source": [
        "## Model Train"
      ]
    },
    {
      "cell_type": "code",
      "execution_count": 9,
      "id": "63efb381-98c6-4d9b-a3b6-bd11c7fa8c41",
      "metadata": {
        "colab": {
          "base_uri": "https://localhost:8080/"
        },
        "id": "63efb381-98c6-4d9b-a3b6-bd11c7fa8c41",
        "outputId": "b2193874-ea07-4812-c43e-9650a39446a2"
      },
      "outputs": [
        {
          "name": "stderr",
          "output_type": "stream",
          "text": [
            "train: 100%|██████████| 402/402 [05:33<00:00,  1.21it/s]\n"
          ]
        },
        {
          "name": "stdout",
          "output_type": "stream",
          "text": [
            "Epoch 1, Loss: 0.24038111596409953\n"
          ]
        },
        {
          "name": "stderr",
          "output_type": "stream",
          "text": [
            "validation:  91%|█████████ | 41/45 [00:22<00:02,  1.83it/s]"
          ]
        },
        {
          "name": "stderr",
          "output_type": "stream",
          "text": [
            "validation:  96%|█████████▌| 43/45 [00:23<00:01,  1.79it/s]"
          ]
        }
      ],
      "source": [
        "# model 초기화\n",
        "model = UNet().to(device)\n",
        "# model = UNetFormer().to(device)\n",
        "\n",
        "# loss function과 optimizer 정의\n",
        "criterion = torch.nn.BCEWithLogitsLoss()\n",
        "optimizer = torch.optim.AdamW(model.parameters(), lr=3e-5)\n",
        "\n",
        "train_running_loss_history = []\n",
        "val_running_loss_history = []\n",
        "\n",
        "# training loop\n",
        "for epoch in range(20):  # 10 에폭 동안 학습합니다.\n",
        "    model.train()\n",
        "    epoch_loss = 0\n",
        "    val_epoch_loss = 0\n",
        "    for images, masks in tqdm(train_dataloader, desc = 'train'):\n",
        "        images = images.float().to(device)\n",
        "        masks = masks.float().to(device)\n",
        "\n",
        "        optimizer.zero_grad()\n",
        "        outputs = model(images)\n",
        "\n",
        "        # loss = criterion(outputs[0], masks.unsqueeze(1))\n",
        "        loss = criterion(outputs, masks.unsqueeze(1))\n",
        "\n",
        "        loss.backward()\n",
        "        optimizer.step()\n",
        "\n",
        "        epoch_loss += loss.item()\n",
        "\n",
        "    train_running_loss_history.append(epoch_loss)\n",
        "    print(f'Epoch {epoch+1}, Loss: {epoch_loss/len(train_dataloader)}')\n",
        "\n",
        "    with torch.no_grad():\n",
        "        model.eval()\n",
        "        for val_images, val_masks in tqdm(val_dataloader, desc = 'validation'):\n",
        "            val_images = val_images.float().to(device)\n",
        "            val_masks = val_masks.float().to(device)\n",
        "\n",
        "            val_outputs = model(val_images)\n",
        "\n",
        "            val_loss = criterion(val_outputs, val_masks.unsqueeze(1))\n",
        "\n",
        "            val_epoch_loss += loss.item()\n",
        "\n",
        "    val_running_loss_history.append(val_epoch_loss)\n",
        "    print(f'Epoch {epoch+1}, VAL_Loss: {val_epoch_loss/len(val_dataloader)}')"
      ]
    },
    {
      "cell_type": "code",
      "execution_count": null,
      "id": "oXkjFboz5Q7W",
      "metadata": {
        "id": "oXkjFboz5Q7W"
      },
      "outputs": [],
      "source": [
        "plt.plot(train_running_loss_history, label='training loss')\n",
        "plt.plot(val_running_loss_history, label='val loss')\n",
        "plt.legend()"
      ]
    },
    {
      "cell_type": "markdown",
      "id": "c32eb51c-a3fe-4e11-a616-3a717ba16f7e",
      "metadata": {
        "id": "c32eb51c-a3fe-4e11-a616-3a717ba16f7e"
      },
      "source": [
        "## Inference"
      ]
    },
    {
      "cell_type": "code",
      "execution_count": null,
      "id": "12371c8b-0c78-47df-89ec-2d8b55c8ea94",
      "metadata": {
        "id": "12371c8b-0c78-47df-89ec-2d8b55c8ea94"
      },
      "outputs": [],
      "source": [
        "test_dataset = SatelliteDataset(csv_file='./test.csv', transform=transform, infer=True)\n",
        "test_dataloader = DataLoader(test_dataset, batch_size=16, shuffle=False)"
      ]
    },
    {
      "cell_type": "code",
      "execution_count": null,
      "id": "355b431c-ac8e-4c40-9046-4d53e4bab14a",
      "metadata": {
        "colab": {
          "base_uri": "https://localhost:8080/"
        },
        "id": "355b431c-ac8e-4c40-9046-4d53e4bab14a",
        "outputId": "c0c758ed-a708-4d19-a0db-e67f6a39e12c"
      },
      "outputs": [
        {
          "name": "stderr",
          "output_type": "stream",
          "text": [
            "100%|██████████| 3790/3790 [1:03:51<00:00,  1.01s/it]\n"
          ]
        }
      ],
      "source": [
        "with torch.no_grad():\n",
        "    model.eval()\n",
        "    result = []\n",
        "    for images in tqdm(test_dataloader):\n",
        "        images = images.float().to(device)\n",
        "\n",
        "        outputs = model(images)\n",
        "        masks = torch.sigmoid(outputs).cpu().numpy()\n",
        "        masks = np.squeeze(masks, axis=1)\n",
        "        masks = (masks > 0.35).astype(np.uint8) # Threshold = 0.35\n",
        "\n",
        "        for i in range(len(images)):\n",
        "            mask_rle = rle_encode(masks[i])\n",
        "            if mask_rle == '': # 예측된 건물 픽셀이 아예 없는 경우 -1\n",
        "                result.append(-1)\n",
        "            else:\n",
        "                result.append(mask_rle)"
      ]
    },
    {
      "cell_type": "markdown",
      "id": "36c2cbbb-04f1-4f9c-b4df-4b744dfce046",
      "metadata": {
        "id": "36c2cbbb-04f1-4f9c-b4df-4b744dfce046"
      },
      "source": [
        "## Submission"
      ]
    },
    {
      "cell_type": "code",
      "execution_count": null,
      "id": "f6543d00-32b3-4f2d-a572-d0879fd0a497",
      "metadata": {
        "id": "f6543d00-32b3-4f2d-a572-d0879fd0a497"
      },
      "outputs": [],
      "source": [
        "submit = pd.read_csv('./sample_submission.csv')\n",
        "submit['mask_rle'] = result"
      ]
    },
    {
      "cell_type": "code",
      "execution_count": null,
      "id": "da10cb6f-0826-4755-a376-97b695ae8f86",
      "metadata": {
        "id": "da10cb6f-0826-4755-a376-97b695ae8f86"
      },
      "outputs": [],
      "source": [
        "submit.to_csv('./submit.csv', index=False)"
      ]
    },
    {
      "cell_type": "code",
      "execution_count": null,
      "id": "5a30e8bd",
      "metadata": {},
      "outputs": [],
      "source": []
    },
    {
      "cell_type": "code",
      "execution_count": null,
      "id": "5041d2cc",
      "metadata": {},
      "outputs": [],
      "source": []
    },
    {
      "cell_type": "code",
      "execution_count": null,
      "id": "2839eaa7",
      "metadata": {},
      "outputs": [],
      "source": []
    }
  ],
  "metadata": {
    "accelerator": "GPU",
    "colab": {
      "gpuType": "V100",
      "provenance": []
    },
    "kernelspec": {
      "display_name": "Python 3",
      "name": "python3"
    },
    "language_info": {
      "codemirror_mode": {
        "name": "ipython",
        "version": 3
      },
      "file_extension": ".py",
      "mimetype": "text/x-python",
      "name": "python",
      "nbconvert_exporter": "python",
      "pygments_lexer": "ipython3",
      "version": "3.11.4"
    }
  },
  "nbformat": 4,
  "nbformat_minor": 5
}
