{
  "cells": [
    {
      "cell_type": "markdown",
      "id": "rnWvAfNHH_x7",
      "metadata": {
        "id": "rnWvAfNHH_x7"
      },
      "source": [
        "## 구글 드라이브 마운트"
      ]
    },
    {
      "cell_type": "code",
      "execution_count": 1,
      "id": "cjQIYXA-HzVo",
      "metadata": {
        "colab": {
          "base_uri": "https://localhost:8080/"
        },
        "id": "cjQIYXA-HzVo",
        "outputId": "e4581ce0-6a95-41b5-e63b-e5a77f36936c"
      },
      "outputs": [],
      "source": [
        "# from google.colab import drive\n",
        "# drive.mount('/content/drive')"
      ]
    },
    {
      "cell_type": "code",
      "execution_count": 2,
      "id": "bUGspjR_aumU",
      "metadata": {
        "colab": {
          "base_uri": "https://localhost:8080/"
        },
        "id": "bUGspjR_aumU",
        "outputId": "276ad4a5-5316-441d-f3e0-c6d2f29a63dc"
      },
      "outputs": [],
      "source": [
        "# cd /content/drive/MyDrive/데이터 마법사들"
      ]
    },
    {
      "cell_type": "code",
      "execution_count": 3,
      "id": "ckwgWCS7bVKo",
      "metadata": {
        "colab": {
          "base_uri": "https://localhost:8080/",
          "height": 35
        },
        "id": "ckwgWCS7bVKo",
        "outputId": "ebb1876f-1e5a-452e-f340-121e37187be2"
      },
      "outputs": [],
      "source": [
        "# pwd"
      ]
    },
    {
      "cell_type": "code",
      "execution_count": 4,
      "id": "OK3q1YpA0L4V",
      "metadata": {
        "colab": {
          "base_uri": "https://localhost:8080/"
        },
        "id": "OK3q1YpA0L4V",
        "outputId": "16d2eafa-9a2b-4942-8245-31a1b28fab5b"
      },
      "outputs": [
        {
          "name": "stdout",
          "output_type": "stream",
          "text": [
            "Requirement already satisfied: timm in c:\\users\\user\\anaconda3\\envs\\dema\\lib\\site-packages (0.9.2)\n",
            "Requirement already satisfied: torch>=1.7 in c:\\users\\user\\anaconda3\\envs\\dema\\lib\\site-packages (from timm) (2.0.1)\n",
            "Requirement already satisfied: torchvision in c:\\users\\user\\anaconda3\\envs\\dema\\lib\\site-packages (from timm) (0.15.2)\n",
            "Requirement already satisfied: pyyaml in c:\\users\\user\\anaconda3\\envs\\dema\\lib\\site-packages (from timm) (6.0)\n",
            "Requirement already satisfied: huggingface-hub in c:\\users\\user\\anaconda3\\envs\\dema\\lib\\site-packages (from timm) (0.16.4)\n",
            "Requirement already satisfied: safetensors in c:\\users\\user\\anaconda3\\envs\\dema\\lib\\site-packages (from timm) (0.3.1)\n",
            "Requirement already satisfied: filelock in c:\\users\\user\\anaconda3\\envs\\dema\\lib\\site-packages (from torch>=1.7->timm) (3.9.0)\n",
            "Requirement already satisfied: typing-extensions in c:\\users\\user\\anaconda3\\envs\\dema\\lib\\site-packages (from torch>=1.7->timm) (4.6.3)\n",
            "Requirement already satisfied: sympy in c:\\users\\user\\anaconda3\\envs\\dema\\lib\\site-packages (from torch>=1.7->timm) (1.11.1)\n",
            "Requirement already satisfied: networkx in c:\\users\\user\\anaconda3\\envs\\dema\\lib\\site-packages (from torch>=1.7->timm) (2.8.4)\n",
            "Requirement already satisfied: jinja2 in c:\\users\\user\\anaconda3\\envs\\dema\\lib\\site-packages (from torch>=1.7->timm) (3.1.2)\n",
            "Requirement already satisfied: fsspec in c:\\users\\user\\anaconda3\\envs\\dema\\lib\\site-packages (from huggingface-hub->timm) (2023.6.0)\n",
            "Requirement already satisfied: requests in c:\\users\\user\\anaconda3\\envs\\dema\\lib\\site-packages (from huggingface-hub->timm) (2.29.0)\n",
            "Requirement already satisfied: tqdm>=4.42.1 in c:\\users\\user\\anaconda3\\envs\\dema\\lib\\site-packages (from huggingface-hub->timm) (4.65.0)\n",
            "Requirement already satisfied: packaging>=20.9 in c:\\users\\user\\appdata\\roaming\\python\\python311\\site-packages (from huggingface-hub->timm) (23.0)\n",
            "Requirement already satisfied: numpy in c:\\users\\user\\anaconda3\\envs\\dema\\lib\\site-packages (from torchvision->timm) (1.25.0)\n",
            "Requirement already satisfied: pillow!=8.3.*,>=5.3.0 in c:\\users\\user\\anaconda3\\envs\\dema\\lib\\site-packages (from torchvision->timm) (9.4.0)\n",
            "Requirement already satisfied: colorama in c:\\users\\user\\appdata\\roaming\\python\\python311\\site-packages (from tqdm>=4.42.1->huggingface-hub->timm) (0.4.6)\n",
            "Requirement already satisfied: MarkupSafe>=2.0 in c:\\users\\user\\anaconda3\\envs\\dema\\lib\\site-packages (from jinja2->torch>=1.7->timm) (2.1.1)\n",
            "Requirement already satisfied: charset-normalizer<4,>=2 in c:\\users\\user\\anaconda3\\envs\\dema\\lib\\site-packages (from requests->huggingface-hub->timm) (2.0.4)\n",
            "Requirement already satisfied: idna<4,>=2.5 in c:\\users\\user\\anaconda3\\envs\\dema\\lib\\site-packages (from requests->huggingface-hub->timm) (3.4)\n",
            "Requirement already satisfied: urllib3<1.27,>=1.21.1 in c:\\users\\user\\anaconda3\\envs\\dema\\lib\\site-packages (from requests->huggingface-hub->timm) (1.26.16)\n",
            "Requirement already satisfied: certifi>=2017.4.17 in c:\\users\\user\\anaconda3\\envs\\dema\\lib\\site-packages (from requests->huggingface-hub->timm) (2023.5.7)\n",
            "Requirement already satisfied: mpmath>=0.19 in c:\\users\\user\\anaconda3\\envs\\dema\\lib\\site-packages (from sympy->torch>=1.7->timm) (1.2.1)\n"
          ]
        }
      ],
      "source": [
        "!pip install timm"
      ]
    },
    {
      "cell_type": "code",
      "execution_count": 5,
      "id": "w9_Urmq807cw",
      "metadata": {
        "colab": {
          "base_uri": "https://localhost:8080/"
        },
        "id": "w9_Urmq807cw",
        "outputId": "bee0b9aa-7094-4872-c254-55c9d81f2453"
      },
      "outputs": [
        {
          "name": "stdout",
          "output_type": "stream",
          "text": [
            "Requirement already satisfied: einops in c:\\users\\user\\anaconda3\\envs\\dema\\lib\\site-packages (0.6.1)\n"
          ]
        }
      ],
      "source": [
        "!pip install einops"
      ]
    },
    {
      "cell_type": "markdown",
      "id": "d73d24e3-5c9e-4ade-9e6e-ca6f46a2d914",
      "metadata": {
        "id": "d73d24e3-5c9e-4ade-9e6e-ca6f46a2d914"
      },
      "source": [
        "## Import"
      ]
    },
    {
      "cell_type": "code",
      "execution_count": 6,
      "id": "5j-KwQ5P5TJX",
      "metadata": {
        "colab": {
          "base_uri": "https://localhost:8080/"
        },
        "id": "5j-KwQ5P5TJX",
        "outputId": "fc77e3cf-ffdf-4cd3-d0d4-9f6ed330ad9c"
      },
      "outputs": [
        {
          "name": "stdout",
          "output_type": "stream",
          "text": [
            "Collecting git+https://github.com/qubvel/segmentation_models.pytorch\n",
            "  Cloning https://github.com/qubvel/segmentation_models.pytorch to c:\\users\\user\\appdata\\local\\temp\\pip-req-build-l_pa5pw8\n",
            "  Resolved https://github.com/qubvel/segmentation_models.pytorch to commit e5d3db20e9c2ddb76f88642409e527239943c983\n",
            "  Installing build dependencies: started\n",
            "  Installing build dependencies: finished with status 'done'\n",
            "  Getting requirements to build wheel: started\n",
            "  Getting requirements to build wheel: finished with status 'done'\n",
            "  Preparing metadata (pyproject.toml): started\n",
            "  Preparing metadata (pyproject.toml): finished with status 'done'\n",
            "Requirement already satisfied: torchvision>=0.5.0 in c:\\users\\user\\anaconda3\\envs\\dema\\lib\\site-packages (from segmentation-models-pytorch==0.3.3) (0.15.2)\n",
            "Requirement already satisfied: pretrainedmodels==0.7.4 in c:\\users\\user\\anaconda3\\envs\\dema\\lib\\site-packages (from segmentation-models-pytorch==0.3.3) (0.7.4)\n",
            "Requirement already satisfied: efficientnet-pytorch==0.7.1 in c:\\users\\user\\anaconda3\\envs\\dema\\lib\\site-packages (from segmentation-models-pytorch==0.3.3) (0.7.1)\n",
            "Requirement already satisfied: timm==0.9.2 in c:\\users\\user\\anaconda3\\envs\\dema\\lib\\site-packages (from segmentation-models-pytorch==0.3.3) (0.9.2)\n",
            "Requirement already satisfied: tqdm in c:\\users\\user\\anaconda3\\envs\\dema\\lib\\site-packages (from segmentation-models-pytorch==0.3.3) (4.65.0)\n",
            "Requirement already satisfied: pillow in c:\\users\\user\\anaconda3\\envs\\dema\\lib\\site-packages (from segmentation-models-pytorch==0.3.3) (9.4.0)\n",
            "Requirement already satisfied: torch in c:\\users\\user\\anaconda3\\envs\\dema\\lib\\site-packages (from efficientnet-pytorch==0.7.1->segmentation-models-pytorch==0.3.3) (2.0.1)\n",
            "Requirement already satisfied: munch in c:\\users\\user\\anaconda3\\envs\\dema\\lib\\site-packages (from pretrainedmodels==0.7.4->segmentation-models-pytorch==0.3.3) (4.0.0)\n",
            "Requirement already satisfied: pyyaml in c:\\users\\user\\anaconda3\\envs\\dema\\lib\\site-packages (from timm==0.9.2->segmentation-models-pytorch==0.3.3) (6.0)\n",
            "Requirement already satisfied: huggingface-hub in c:\\users\\user\\anaconda3\\envs\\dema\\lib\\site-packages (from timm==0.9.2->segmentation-models-pytorch==0.3.3) (0.16.4)\n",
            "Requirement already satisfied: safetensors in c:\\users\\user\\anaconda3\\envs\\dema\\lib\\site-packages (from timm==0.9.2->segmentation-models-pytorch==0.3.3) (0.3.1)\n",
            "Requirement already satisfied: numpy in c:\\users\\user\\anaconda3\\envs\\dema\\lib\\site-packages (from torchvision>=0.5.0->segmentation-models-pytorch==0.3.3) (1.25.0)\n",
            "Requirement already satisfied: requests in c:\\users\\user\\anaconda3\\envs\\dema\\lib\\site-packages (from torchvision>=0.5.0->segmentation-models-pytorch==0.3.3) (2.29.0)\n",
            "Requirement already satisfied: filelock in c:\\users\\user\\anaconda3\\envs\\dema\\lib\\site-packages (from torch->efficientnet-pytorch==0.7.1->segmentation-models-pytorch==0.3.3) (3.9.0)\n",
            "Requirement already satisfied: typing-extensions in c:\\users\\user\\anaconda3\\envs\\dema\\lib\\site-packages (from torch->efficientnet-pytorch==0.7.1->segmentation-models-pytorch==0.3.3) (4.6.3)\n",
            "Requirement already satisfied: sympy in c:\\users\\user\\anaconda3\\envs\\dema\\lib\\site-packages (from torch->efficientnet-pytorch==0.7.1->segmentation-models-pytorch==0.3.3) (1.11.1)\n",
            "Requirement already satisfied: networkx in c:\\users\\user\\anaconda3\\envs\\dema\\lib\\site-packages (from torch->efficientnet-pytorch==0.7.1->segmentation-models-pytorch==0.3.3) (2.8.4)\n",
            "Requirement already satisfied: jinja2 in c:\\users\\user\\anaconda3\\envs\\dema\\lib\\site-packages (from torch->efficientnet-pytorch==0.7.1->segmentation-models-pytorch==0.3.3) (3.1.2)\n",
            "Requirement already satisfied: colorama in c:\\users\\user\\appdata\\roaming\\python\\python311\\site-packages (from tqdm->segmentation-models-pytorch==0.3.3) (0.4.6)\n",
            "Requirement already satisfied: fsspec in c:\\users\\user\\anaconda3\\envs\\dema\\lib\\site-packages (from huggingface-hub->timm==0.9.2->segmentation-models-pytorch==0.3.3) (2023.6.0)\n",
            "Requirement already satisfied: packaging>=20.9 in c:\\users\\user\\appdata\\roaming\\python\\python311\\site-packages (from huggingface-hub->timm==0.9.2->segmentation-models-pytorch==0.3.3) (23.0)\n",
            "Requirement already satisfied: charset-normalizer<4,>=2 in c:\\users\\user\\anaconda3\\envs\\dema\\lib\\site-packages (from requests->torchvision>=0.5.0->segmentation-models-pytorch==0.3.3) (2.0.4)\n",
            "Requirement already satisfied: idna<4,>=2.5 in c:\\users\\user\\anaconda3\\envs\\dema\\lib\\site-packages (from requests->torchvision>=0.5.0->segmentation-models-pytorch==0.3.3) (3.4)\n",
            "Requirement already satisfied: urllib3<1.27,>=1.21.1 in c:\\users\\user\\anaconda3\\envs\\dema\\lib\\site-packages (from requests->torchvision>=0.5.0->segmentation-models-pytorch==0.3.3) (1.26.16)\n",
            "Requirement already satisfied: certifi>=2017.4.17 in c:\\users\\user\\anaconda3\\envs\\dema\\lib\\site-packages (from requests->torchvision>=0.5.0->segmentation-models-pytorch==0.3.3) (2023.5.7)\n",
            "Requirement already satisfied: MarkupSafe>=2.0 in c:\\users\\user\\anaconda3\\envs\\dema\\lib\\site-packages (from jinja2->torch->efficientnet-pytorch==0.7.1->segmentation-models-pytorch==0.3.3) (2.1.1)\n",
            "Requirement already satisfied: mpmath>=0.19 in c:\\users\\user\\anaconda3\\envs\\dema\\lib\\site-packages (from sympy->torch->efficientnet-pytorch==0.7.1->segmentation-models-pytorch==0.3.3) (1.2.1)\n"
          ]
        },
        {
          "name": "stderr",
          "output_type": "stream",
          "text": [
            "  Running command git clone --filter=blob:none --quiet https://github.com/qubvel/segmentation_models.pytorch 'C:\\Users\\user\\AppData\\Local\\Temp\\pip-req-build-l_pa5pw8'\n"
          ]
        }
      ],
      "source": [
        "!pip install -U git+https://github.com/qubvel/segmentation_models.pytorch"
      ]
    },
    {
      "cell_type": "code",
      "execution_count": 7,
      "id": "ad9b681e-370a-4cfa-a452-dd2d7f0cd77f",
      "metadata": {
        "id": "ad9b681e-370a-4cfa-a452-dd2d7f0cd77f"
      },
      "outputs": [
        {
          "name": "stderr",
          "output_type": "stream",
          "text": [
            "c:\\Users\\user\\anaconda3\\envs\\DeMa\\Lib\\site-packages\\tqdm\\auto.py:21: TqdmWarning: IProgress not found. Please update jupyter and ipywidgets. See https://ipywidgets.readthedocs.io/en/stable/user_install.html\n",
            "  from .autonotebook import tqdm as notebook_tqdm\n"
          ]
        }
      ],
      "source": [
        "import os\n",
        "import cv2\n",
        "import pandas as pd\n",
        "import numpy as np\n",
        "import random\n",
        "\n",
        "import torch\n",
        "import torch.nn as nn\n",
        "import torch.nn.functional as F\n",
        "from torch.utils.data import Dataset, DataLoader, random_split\n",
        "from torchvision import transforms\n",
        "\n",
        "from tqdm import tqdm\n",
        "import albumentations as A\n",
        "from albumentations.pytorch import ToTensorV2\n",
        "\n",
        "from einops import rearrange, repeat\n",
        "from timm.models.layers import DropPath, to_2tuple, trunc_normal_\n",
        "import timm\n",
        "import matplotlib.pyplot as plt\n",
        "# from torch.utils.tensorboard import SummaryWriter\n",
        "import segmentation_models_pytorch as smp\n",
        "\n",
        "device = torch.device('cuda' if torch.cuda.is_available() else 'cpu')"
      ]
    },
    {
      "cell_type": "code",
      "execution_count": 8,
      "id": "9EEbTwKrbhRA",
      "metadata": {
        "colab": {
          "base_uri": "https://localhost:8080/"
        },
        "id": "9EEbTwKrbhRA",
        "outputId": "5a99714e-c794-4abb-8a2f-3ea25c6501fc"
      },
      "outputs": [
        {
          "name": "stdout",
          "output_type": "stream",
          "text": [
            "cuda\n"
          ]
        }
      ],
      "source": [
        "print(device)"
      ]
    },
    {
      "cell_type": "markdown",
      "id": "tFSAHehzGmDl",
      "metadata": {
        "id": "tFSAHehzGmDl"
      },
      "source": [
        "## Seed 설정"
      ]
    },
    {
      "cell_type": "code",
      "execution_count": 9,
      "id": "R6OklPg6GoeX",
      "metadata": {
        "id": "R6OklPg6GoeX"
      },
      "outputs": [],
      "source": [
        "def seed_everything(seed: int = 42, contain_cuda: bool = False):\n",
        "    os.environ['PYTHONHASHSEED'] = str(seed)\n",
        "    random.seed(seed)\n",
        "    np.random.seed(seed)\n",
        "\n",
        "    torch.backends.cudnn.deterministic = True\n",
        "    torch.backends.cudnn.benchmark = False\n",
        "\n",
        "    torch.manual_seed(seed)\n",
        "    torch.cuda.manual_seed(seed)\n",
        "    torch.cuda.manual_seed_all(seed)\n",
        "    print(f\"Seed set as {seed}\")"
      ]
    },
    {
      "cell_type": "code",
      "execution_count": 10,
      "id": "xAAy6CH-GpVG",
      "metadata": {
        "id": "xAAy6CH-GpVG"
      },
      "outputs": [
        {
          "name": "stdout",
          "output_type": "stream",
          "text": [
            "Seed set as 2023\n"
          ]
        }
      ],
      "source": [
        "seed_everything(seed=2023)"
      ]
    },
    {
      "cell_type": "markdown",
      "id": "20ff3de5-0d0e-497b-ac75-d5179a3f65d3",
      "metadata": {
        "id": "20ff3de5-0d0e-497b-ac75-d5179a3f65d3"
      },
      "source": [
        "## Utils"
      ]
    },
    {
      "cell_type": "code",
      "execution_count": 11,
      "id": "838e1d83-8670-407b-82f6-bf9652f58639",
      "metadata": {
        "id": "838e1d83-8670-407b-82f6-bf9652f58639"
      },
      "outputs": [],
      "source": [
        "# RLE 디코딩 함수\n",
        "def rle_decode(mask_rle, shape):\n",
        "    s = mask_rle.split()\n",
        "    starts, lengths = [np.asarray(x, dtype=int) for x in (s[0:][::2], s[1:][::2])]\n",
        "    starts -= 1\n",
        "    ends = starts + lengths\n",
        "    img = np.zeros(shape[0]*shape[1], dtype=np.uint8)\n",
        "    for lo, hi in zip(starts, ends):\n",
        "        img[lo:hi] = 1\n",
        "    return img.reshape(shape)\n",
        "\n",
        "# RLE 인코딩 함수\n",
        "def rle_encode(mask):\n",
        "    pixels = mask.flatten()\n",
        "    pixels = np.concatenate([[0], pixels, [0]])\n",
        "    runs = np.where(pixels[1:] != pixels[:-1])[0] + 1\n",
        "    runs[1::2] -= runs[::2]\n",
        "    return ' '.join(str(x) for x in runs)"
      ]
    },
    {
      "cell_type": "markdown",
      "id": "be76a29e-e9c2-411a-a569-04166f074184",
      "metadata": {
        "id": "be76a29e-e9c2-411a-a569-04166f074184"
      },
      "source": [
        "## Custom Dataset"
      ]
    },
    {
      "cell_type": "code",
      "execution_count": 12,
      "id": "a8496767-2f64-4285-bec4-c6f53a1fd9d2",
      "metadata": {
        "id": "a8496767-2f64-4285-bec4-c6f53a1fd9d2"
      },
      "outputs": [],
      "source": [
        "class SatelliteDataset(Dataset):\n",
        "    def __init__(self, csv_file, transform=None, infer=False):\n",
        "        self.data = pd.read_csv(csv_file)\n",
        "        self.transform = transform\n",
        "        self.infer = infer\n",
        "\n",
        "    def __len__(self):\n",
        "        return len(self.data)\n",
        "\n",
        "    def __getitem__(self, idx):\n",
        "        img_path = self.data.iloc[idx, 1]\n",
        "        image = cv2.imread(img_path)\n",
        "        image = cv2.cvtColor(image, cv2.COLOR_BGR2RGB)\n",
        "\n",
        "        if self.infer:\n",
        "            if self.transform:\n",
        "                image = self.transform(image=image)['image']\n",
        "            return image\n",
        "\n",
        "        mask_rle = self.data.iloc[idx, 2]\n",
        "        mask = rle_decode(mask_rle, (image.shape[0], image.shape[1]))\n",
        "\n",
        "        if self.transform:\n",
        "            augmented = self.transform(image=image, mask=mask)\n",
        "            image = augmented['image']\n",
        "            mask = augmented['mask']\n",
        "\n",
        "        return image, mask"
      ]
    },
    {
      "cell_type": "markdown",
      "id": "dc955893-22fd-4320-88be-7aa0d790cbd9",
      "metadata": {
        "id": "dc955893-22fd-4320-88be-7aa0d790cbd9"
      },
      "source": [
        "## Data Loader"
      ]
    },
    {
      "cell_type": "code",
      "execution_count": 13,
      "id": "1b708503-2ff9-4584-9d73-40990b3572f8",
      "metadata": {
        "colab": {
          "base_uri": "https://localhost:8080/"
        },
        "id": "1b708503-2ff9-4584-9d73-40990b3572f8",
        "outputId": "3cf57c8f-3453-4093-ff8d-4de5bca17f3f"
      },
      "outputs": [],
      "source": [
        "transform = A.Compose(\n",
        "    [\n",
        "        A.Resize(224, 224),\n",
        "        # A.HorizontalFlip(p=0.5),\n",
        "        # A.RandomBrightnessContrast(brightness_limit=0.1, contrast_limit=0.15, p=0.5),\n",
        "        # A.CLAHE(clip_limit=4.0, tile_grid_size=(8, 8), always_apply=False, p=0.5),\n",
        "        # A.HueSaturationValue(hue_shift_limit=15, sat_shift_limit=25, val_shift_limit=10, p=0.5),\n",
        "        A.Normalize(),\n",
        "        ToTensorV2()\n",
        "    ]\n",
        ")\n",
        "\n",
        "dataset = SatelliteDataset(csv_file='./train.csv', transform=transform)\n",
        "dataset_size = len(dataset)\n",
        "train_size = int(dataset_size * 0.9)\n",
        "val_size = int(dataset_size * 0.1)\n",
        "train_dataset, validation_dataset = random_split(dataset, [train_size, val_size])\n",
        "train_dataloader = DataLoader(train_dataset, batch_size=16, shuffle=True)\n",
        "val_dataloader = DataLoader(validation_dataset, batch_size=16, shuffle=True)"
      ]
    },
    {
      "cell_type": "markdown",
      "id": "f42501fc-b573-4893-a7c4-5e280dfdaf09",
      "metadata": {
        "id": "f42501fc-b573-4893-a7c4-5e280dfdaf09"
      },
      "source": [
        "## Define Model"
      ]
    },
    {
      "cell_type": "markdown",
      "id": "BWWVjyqGBeS_",
      "metadata": {
        "id": "BWWVjyqGBeS_"
      },
      "source": [
        "## Deeplab V3+"
      ]
    },
    {
      "cell_type": "markdown",
      "id": "-fYK-8jbChPI",
      "metadata": {
        "id": "-fYK-8jbChPI"
      },
      "source": [
        "### Encoder"
      ]
    },
    {
      "cell_type": "code",
      "execution_count": 14,
      "id": "8vwJS4IlBn4W",
      "metadata": {
        "id": "8vwJS4IlBn4W"
      },
      "outputs": [],
      "source": [
        "import math\n",
        "import torch\n",
        "import torch.nn as nn\n",
        "import torch.nn.functional as F\n",
        "import torch.utils.model_zoo as model_zoo\n",
        "# from modeling.sync_batchnorm.batchnorm import SynchronizedBatchNorm2d\n",
        "\n",
        "def fixed_padding(inputs, kernel_size, dilation):\n",
        "    kernel_size_effective = kernel_size + (kernel_size - 1) * (dilation - 1)\n",
        "    pad_total = kernel_size_effective - 1\n",
        "    pad_beg = pad_total // 2\n",
        "    pad_end = pad_total - pad_beg\n",
        "    padded_inputs = F.pad(inputs, (pad_beg, pad_end, pad_beg, pad_end))\n",
        "    return padded_inputs\n",
        "\n",
        "\n",
        "class SeparableConv2d(nn.Module):\n",
        "    def __init__(self, inplanes, planes, kernel_size=3, stride=1, dilation=1, bias=False, BatchNorm=None):\n",
        "        super(SeparableConv2d, self).__init__()\n",
        "\n",
        "        self.conv1 = nn.Conv2d(inplanes, inplanes, kernel_size, stride, 0, dilation,\n",
        "                               groups=inplanes, bias=bias)\n",
        "        self.bn = BatchNorm(inplanes)\n",
        "        self.pointwise = nn.Conv2d(inplanes, planes, 1, 1, 0, 1, 1, bias=bias)\n",
        "\n",
        "    def forward(self, x):\n",
        "        x = fixed_padding(x, self.conv1.kernel_size[0], dilation=self.conv1.dilation[0])\n",
        "        x = self.conv1(x)\n",
        "        x = self.bn(x)\n",
        "        x = self.pointwise(x)\n",
        "        return x\n",
        "\n",
        "\n",
        "class Block(nn.Module):\n",
        "    def __init__(self, inplanes, planes, reps, stride=1, dilation=1, BatchNorm=None,\n",
        "                 start_with_relu=True, grow_first=True, is_last=False):\n",
        "        super(Block, self).__init__()\n",
        "\n",
        "        if planes != inplanes or stride != 1:\n",
        "            self.skip = nn.Conv2d(inplanes, planes, 1, stride=stride, bias=False)\n",
        "            self.skipbn = BatchNorm(planes)\n",
        "        else:\n",
        "            self.skip = None\n",
        "\n",
        "        self.relu = nn.ReLU(inplace=True)\n",
        "        rep = []\n",
        "\n",
        "        filters = inplanes\n",
        "        if grow_first:\n",
        "            rep.append(self.relu)\n",
        "            rep.append(SeparableConv2d(inplanes, planes, 3, 1, dilation, BatchNorm=BatchNorm))\n",
        "            rep.append(BatchNorm(planes))\n",
        "            filters = planes\n",
        "\n",
        "        for i in range(reps - 1):\n",
        "            rep.append(self.relu)\n",
        "            rep.append(SeparableConv2d(filters, filters, 3, 1, dilation, BatchNorm=BatchNorm))\n",
        "            rep.append(BatchNorm(filters))\n",
        "\n",
        "        if not grow_first:\n",
        "            rep.append(self.relu)\n",
        "            rep.append(SeparableConv2d(inplanes, planes, 3, 1, dilation, BatchNorm=BatchNorm))\n",
        "            rep.append(BatchNorm(planes))\n",
        "\n",
        "        if stride != 1:\n",
        "            rep.append(self.relu)\n",
        "            rep.append(SeparableConv2d(planes, planes, 3, 2, BatchNorm=BatchNorm))\n",
        "            rep.append(BatchNorm(planes))\n",
        "\n",
        "        if stride == 1 and is_last:\n",
        "            rep.append(self.relu)\n",
        "            rep.append(SeparableConv2d(planes, planes, 3, 1, BatchNorm=BatchNorm))\n",
        "            rep.append(BatchNorm(planes))\n",
        "\n",
        "        if not start_with_relu:\n",
        "            rep = rep[1:]\n",
        "\n",
        "        self.rep = nn.Sequential(*rep)\n",
        "\n",
        "    def forward(self, inp):\n",
        "        x = self.rep(inp)\n",
        "\n",
        "        if self.skip is not None:\n",
        "            skip = self.skip(inp)\n",
        "            skip = self.skipbn(skip)\n",
        "        else:\n",
        "            skip = inp\n",
        "\n",
        "        x = x + skip\n",
        "\n",
        "        return x\n",
        "\n",
        "\n",
        "class AlignedXception(nn.Module):\n",
        "    \"\"\"\n",
        "    Modified Alighed Xception\n",
        "    \"\"\"\n",
        "    def __init__(self, output_stride, BatchNorm,\n",
        "                 pretrained=True):\n",
        "        super(AlignedXception, self).__init__()\n",
        "\n",
        "        if output_stride == 16:\n",
        "            entry_block3_stride = 2\n",
        "            middle_block_dilation = 1\n",
        "            exit_block_dilations = (1, 2)\n",
        "        elif output_stride == 8:\n",
        "            entry_block3_stride = 1\n",
        "            middle_block_dilation = 2\n",
        "            exit_block_dilations = (2, 4)\n",
        "        else:\n",
        "            raise NotImplementedError\n",
        "\n",
        "\n",
        "        # Entry flow\n",
        "        self.conv1 = nn.Conv2d(3, 32, 3, stride=2, padding=1, bias=False)\n",
        "        self.bn1 = BatchNorm(32)\n",
        "        self.relu = nn.ReLU(inplace=True)\n",
        "\n",
        "        self.conv2 = nn.Conv2d(32, 64, 3, stride=1, padding=1, bias=False)\n",
        "        self.bn2 = BatchNorm(64)\n",
        "\n",
        "        self.block1 = Block(64, 128, reps=2, stride=2, BatchNorm=BatchNorm, start_with_relu=False)\n",
        "        self.block2 = Block(128, 256, reps=2, stride=2, BatchNorm=BatchNorm, start_with_relu=False,\n",
        "                            grow_first=True)\n",
        "        self.block3 = Block(256, 728, reps=2, stride=entry_block3_stride, BatchNorm=BatchNorm,\n",
        "                            start_with_relu=True, grow_first=True, is_last=True)\n",
        "\n",
        "        # Middle flow\n",
        "        self.block4  = Block(728, 728, reps=3, stride=1, dilation=middle_block_dilation,\n",
        "                             BatchNorm=BatchNorm, start_with_relu=True, grow_first=True)\n",
        "        self.block5  = Block(728, 728, reps=3, stride=1, dilation=middle_block_dilation,\n",
        "                             BatchNorm=BatchNorm, start_with_relu=True, grow_first=True)\n",
        "        self.block6  = Block(728, 728, reps=3, stride=1, dilation=middle_block_dilation,\n",
        "                             BatchNorm=BatchNorm, start_with_relu=True, grow_first=True)\n",
        "        self.block7  = Block(728, 728, reps=3, stride=1, dilation=middle_block_dilation,\n",
        "                             BatchNorm=BatchNorm, start_with_relu=True, grow_first=True)\n",
        "        self.block8  = Block(728, 728, reps=3, stride=1, dilation=middle_block_dilation,\n",
        "                             BatchNorm=BatchNorm, start_with_relu=True, grow_first=True)\n",
        "        self.block9  = Block(728, 728, reps=3, stride=1, dilation=middle_block_dilation,\n",
        "                             BatchNorm=BatchNorm, start_with_relu=True, grow_first=True)\n",
        "        self.block10 = Block(728, 728, reps=3, stride=1, dilation=middle_block_dilation,\n",
        "                             BatchNorm=BatchNorm, start_with_relu=True, grow_first=True)\n",
        "        self.block11 = Block(728, 728, reps=3, stride=1, dilation=middle_block_dilation,\n",
        "                             BatchNorm=BatchNorm, start_with_relu=True, grow_first=True)\n",
        "        self.block12 = Block(728, 728, reps=3, stride=1, dilation=middle_block_dilation,\n",
        "                             BatchNorm=BatchNorm, start_with_relu=True, grow_first=True)\n",
        "        self.block13 = Block(728, 728, reps=3, stride=1, dilation=middle_block_dilation,\n",
        "                             BatchNorm=BatchNorm, start_with_relu=True, grow_first=True)\n",
        "        self.block14 = Block(728, 728, reps=3, stride=1, dilation=middle_block_dilation,\n",
        "                             BatchNorm=BatchNorm, start_with_relu=True, grow_first=True)\n",
        "        self.block15 = Block(728, 728, reps=3, stride=1, dilation=middle_block_dilation,\n",
        "                             BatchNorm=BatchNorm, start_with_relu=True, grow_first=True)\n",
        "        self.block16 = Block(728, 728, reps=3, stride=1, dilation=middle_block_dilation,\n",
        "                             BatchNorm=BatchNorm, start_with_relu=True, grow_first=True)\n",
        "        self.block17 = Block(728, 728, reps=3, stride=1, dilation=middle_block_dilation,\n",
        "                             BatchNorm=BatchNorm, start_with_relu=True, grow_first=True)\n",
        "        self.block18 = Block(728, 728, reps=3, stride=1, dilation=middle_block_dilation,\n",
        "                             BatchNorm=BatchNorm, start_with_relu=True, grow_first=True)\n",
        "        self.block19 = Block(728, 728, reps=3, stride=1, dilation=middle_block_dilation,\n",
        "                             BatchNorm=BatchNorm, start_with_relu=True, grow_first=True)\n",
        "\n",
        "        # Exit flow\n",
        "        self.block20 = Block(728, 1024, reps=2, stride=1, dilation=exit_block_dilations[0],\n",
        "                             BatchNorm=BatchNorm, start_with_relu=True, grow_first=False, is_last=True)\n",
        "\n",
        "        self.conv3 = SeparableConv2d(1024, 1536, 3, stride=1, dilation=exit_block_dilations[1], BatchNorm=BatchNorm)\n",
        "        self.bn3 = BatchNorm(1536)\n",
        "\n",
        "        self.conv4 = SeparableConv2d(1536, 1536, 3, stride=1, dilation=exit_block_dilations[1], BatchNorm=BatchNorm)\n",
        "        self.bn4 = BatchNorm(1536)\n",
        "\n",
        "        self.conv5 = SeparableConv2d(1536, 2048, 3, stride=1, dilation=exit_block_dilations[1], BatchNorm=BatchNorm)\n",
        "        self.bn5 = BatchNorm(2048)\n",
        "\n",
        "        # Init weights\n",
        "        self._init_weight()\n",
        "\n",
        "        # Load pretrained model\n",
        "        if pretrained:\n",
        "            self._load_pretrained_model()\n",
        "\n",
        "    def forward(self, x):\n",
        "        # Entry flow\n",
        "        x = self.conv1(x)\n",
        "        x = self.bn1(x)\n",
        "        x = self.relu(x)\n",
        "\n",
        "        x = self.conv2(x)\n",
        "        x = self.bn2(x)\n",
        "        x = self.relu(x)\n",
        "\n",
        "        x = self.block1(x)\n",
        "        # add relu here\n",
        "        x = self.relu(x)\n",
        "        low_level_feat = x\n",
        "        x = self.block2(x)\n",
        "        x = self.block3(x)\n",
        "\n",
        "        # Middle flow\n",
        "        x = self.block4(x)\n",
        "        x = self.block5(x)\n",
        "        x = self.block6(x)\n",
        "        x = self.block7(x)\n",
        "        x = self.block8(x)\n",
        "        x = self.block9(x)\n",
        "        x = self.block10(x)\n",
        "        x = self.block11(x)\n",
        "        x = self.block12(x)\n",
        "        x = self.block13(x)\n",
        "        x = self.block14(x)\n",
        "        x = self.block15(x)\n",
        "        x = self.block16(x)\n",
        "        x = self.block17(x)\n",
        "        x = self.block18(x)\n",
        "        x = self.block19(x)\n",
        "\n",
        "        # Exit flow\n",
        "        x = self.block20(x)\n",
        "        x = self.relu(x)\n",
        "        x = self.conv3(x)\n",
        "        x = self.bn3(x)\n",
        "        x = self.relu(x)\n",
        "\n",
        "        x = self.conv4(x)\n",
        "        x = self.bn4(x)\n",
        "        x = self.relu(x)\n",
        "\n",
        "        x = self.conv5(x)\n",
        "        x = self.bn5(x)\n",
        "        x = self.relu(x)\n",
        "\n",
        "        return x, low_level_feat\n",
        "\n",
        "    def _init_weight(self):\n",
        "        for m in self.modules():\n",
        "            if isinstance(m, nn.Conv2d):\n",
        "                n = m.kernel_size[0] * m.kernel_size[1] * m.out_channels\n",
        "                m.weight.data.normal_(0, math.sqrt(2. / n))\n",
        "            # elif isinstance(m, SynchronizedBatchNorm2d):\n",
        "            #     m.weight.data.fill_(1)\n",
        "            #     m.bias.data.zero_()\n",
        "            elif isinstance(m, nn.BatchNorm2d):\n",
        "                m.weight.data.fill_(1)\n",
        "                m.bias.data.zero_()\n",
        "\n",
        "\n",
        "    def _load_pretrained_model(self):\n",
        "        pretrain_dict = model_zoo.load_url('http://data.lip6.fr/cadene/pretrainedmodels/xception-b5690688.pth')\n",
        "        model_dict = {}\n",
        "        state_dict = self.state_dict()\n",
        "\n",
        "        for k, v in pretrain_dict.items():\n",
        "            if k in state_dict:\n",
        "                if 'pointwise' in k:\n",
        "                    v = v.unsqueeze(-1).unsqueeze(-1)\n",
        "                if k.startswith('block11'):\n",
        "                    model_dict[k] = v\n",
        "                    model_dict[k.replace('block11', 'block12')] = v\n",
        "                    model_dict[k.replace('block11', 'block13')] = v\n",
        "                    model_dict[k.replace('block11', 'block14')] = v\n",
        "                    model_dict[k.replace('block11', 'block15')] = v\n",
        "                    model_dict[k.replace('block11', 'block16')] = v\n",
        "                    model_dict[k.replace('block11', 'block17')] = v\n",
        "                    model_dict[k.replace('block11', 'block18')] = v\n",
        "                    model_dict[k.replace('block11', 'block19')] = v\n",
        "                elif k.startswith('block12'):\n",
        "                    model_dict[k.replace('block12', 'block20')] = v\n",
        "                elif k.startswith('bn3'):\n",
        "                    model_dict[k] = v\n",
        "                    model_dict[k.replace('bn3', 'bn4')] = v\n",
        "                elif k.startswith('conv4'):\n",
        "                    model_dict[k.replace('conv4', 'conv5')] = v\n",
        "                elif k.startswith('bn4'):\n",
        "                    model_dict[k.replace('bn4', 'bn5')] = v\n",
        "                else:\n",
        "                    model_dict[k] = v\n",
        "        state_dict.update(model_dict)\n",
        "        self.load_state_dict(state_dict)\n",
        "\n",
        "def build_backbone(backbone, output_stride, BatchNorm):\n",
        "    return AlignedXception(output_stride, BatchNorm)"
      ]
    },
    {
      "cell_type": "markdown",
      "id": "bFphjuD88IG5",
      "metadata": {
        "id": "bFphjuD88IG5"
      },
      "source": [
        "### ASPP"
      ]
    },
    {
      "cell_type": "code",
      "execution_count": 15,
      "id": "GcsUO_Ph8Jm3",
      "metadata": {
        "id": "GcsUO_Ph8Jm3"
      },
      "outputs": [],
      "source": [
        "class _ASPPModule(nn.Module):\n",
        "    def __init__(self, inplanes, planes, kernel_size, padding, dilation, BatchNorm):\n",
        "        super(_ASPPModule, self).__init__()\n",
        "        self.atrous_conv = nn.Conv2d(inplanes, planes, kernel_size=kernel_size,\n",
        "                                            stride=1, padding=padding, dilation=dilation, bias=False)\n",
        "        self.bn = BatchNorm(planes)\n",
        "        self.relu = nn.ReLU()\n",
        "\n",
        "        self._init_weight()\n",
        "\n",
        "    def forward(self, x):\n",
        "        x = self.atrous_conv(x)\n",
        "        x = self.bn(x)\n",
        "\n",
        "        return self.relu(x)\n",
        "\n",
        "    def _init_weight(self):\n",
        "        for m in self.modules():\n",
        "            if isinstance(m, nn.Conv2d):\n",
        "                torch.nn.init.kaiming_normal_(m.weight)\n",
        "            # elif isinstance(m, SynchronizedBatchNorm2d):\n",
        "            #     m.weight.data.fill_(1)\n",
        "            #     m.bias.data.zero_()\n",
        "            elif isinstance(m, nn.BatchNorm2d):\n",
        "                m.weight.data.fill_(1)\n",
        "                m.bias.data.zero_()\n",
        "\n",
        "class ASPP(nn.Module):\n",
        "    def __init__(self, backbone, output_stride, BatchNorm):\n",
        "        super(ASPP, self).__init__()\n",
        "        if backbone == 'drn':\n",
        "            inplanes = 512\n",
        "        elif backbone == 'mobilenet':\n",
        "            inplanes = 320\n",
        "        else:\n",
        "            inplanes = 2048\n",
        "        if output_stride == 16:\n",
        "            dilations = [1, 6, 12, 18]\n",
        "        elif output_stride == 8:\n",
        "            dilations = [1, 12, 24, 36]\n",
        "        else:\n",
        "            raise NotImplementedError\n",
        "\n",
        "        self.aspp1 = _ASPPModule(inplanes, 256, 1, padding=0, dilation=dilations[0], BatchNorm=BatchNorm)\n",
        "        self.aspp2 = _ASPPModule(inplanes, 256, 3, padding=dilations[1], dilation=dilations[1], BatchNorm=BatchNorm)\n",
        "        self.aspp3 = _ASPPModule(inplanes, 256, 3, padding=dilations[2], dilation=dilations[2], BatchNorm=BatchNorm)\n",
        "        self.aspp4 = _ASPPModule(inplanes, 256, 3, padding=dilations[3], dilation=dilations[3], BatchNorm=BatchNorm)\n",
        "\n",
        "        self.global_avg_pool = nn.Sequential(nn.AdaptiveAvgPool2d((1, 1)),\n",
        "                                             nn.Conv2d(inplanes, 256, 1, stride=1, bias=False),\n",
        "                                             BatchNorm(256),\n",
        "                                             nn.ReLU())\n",
        "        self.conv1 = nn.Conv2d(1280, 256, 1, bias=False)\n",
        "        self.bn1 = BatchNorm(256)\n",
        "        self.relu = nn.ReLU()\n",
        "        self.dropout = nn.Dropout(0.5)\n",
        "        self._init_weight()\n",
        "\n",
        "    def forward(self, x):\n",
        "        x1 = self.aspp1(x)\n",
        "        x2 = self.aspp2(x)\n",
        "        x3 = self.aspp3(x)\n",
        "        x4 = self.aspp4(x)\n",
        "        x5 = self.global_avg_pool(x)\n",
        "        x5 = F.interpolate(x5, size=x4.size()[2:], mode='bilinear', align_corners=True)\n",
        "        x = torch.cat((x1, x2, x3, x4, x5), dim=1)\n",
        "\n",
        "        x = self.conv1(x)\n",
        "        x = self.bn1(x)\n",
        "        x = self.relu(x)\n",
        "\n",
        "        return self.dropout(x)\n",
        "\n",
        "    def _init_weight(self):\n",
        "        for m in self.modules():\n",
        "            if isinstance(m, nn.Conv2d):\n",
        "                # n = m.kernel_size[0] * m.kernel_size[1] * m.out_channels\n",
        "                # m.weight.data.normal_(0, math.sqrt(2. / n))\n",
        "                torch.nn.init.kaiming_normal_(m.weight)\n",
        "            # elif isinstance(m, SynchronizedBatchNorm2d):\n",
        "            #     m.weight.data.fill_(1)\n",
        "            #     m.bias.data.zero_()\n",
        "            elif isinstance(m, nn.BatchNorm2d):\n",
        "                m.weight.data.fill_(1)\n",
        "                m.bias.data.zero_()\n",
        "\n",
        "\n",
        "def build_aspp(backbone, output_stride, BatchNorm):\n",
        "    return ASPP(backbone, output_stride, BatchNorm)"
      ]
    },
    {
      "cell_type": "markdown",
      "id": "UqrRhXv_Ck_K",
      "metadata": {
        "id": "UqrRhXv_Ck_K"
      },
      "source": [
        "### Decoder"
      ]
    },
    {
      "cell_type": "code",
      "execution_count": 16,
      "id": "mjtQRfLNi_Ko",
      "metadata": {
        "id": "mjtQRfLNi_Ko"
      },
      "outputs": [],
      "source": [
        "class Decoder(nn.Module):\n",
        "    def __init__(self, num_classes, backbone, BatchNorm):\n",
        "        super(Decoder, self).__init__()\n",
        "        low_level_inplanes = 128\n",
        "        # if backbone == 'resnet' or backbone == 'drn':\n",
        "        #     low_level_inplanes = 256\n",
        "        # elif backbone == 'xception':\n",
        "\n",
        "        # elif backbone == 'mobilenet':\n",
        "        #     low_level_inplanes = 24\n",
        "        # else:\n",
        "        #     raise NotImplementedError\n",
        "\n",
        "        self.conv1 = nn.Conv2d(low_level_inplanes, 48, 1, bias=False)\n",
        "        self.bn1 = BatchNorm(48)\n",
        "        self.relu = nn.ReLU()\n",
        "        self.last_conv = nn.Sequential(nn.Conv2d(304, 256, kernel_size=3, stride=1, padding=1, bias=False),\n",
        "                                       BatchNorm(256),\n",
        "                                       nn.ReLU(),\n",
        "                                       nn.Dropout(0.5),\n",
        "                                       nn.Conv2d(256, 256, kernel_size=3, stride=1, padding=1, bias=False),\n",
        "                                       BatchNorm(256),\n",
        "                                       nn.ReLU(),\n",
        "                                       nn.Dropout(0.1),\n",
        "                                       nn.Conv2d(256, num_classes, kernel_size=1, stride=1))\n",
        "        self._init_weight()\n",
        "\n",
        "\n",
        "    def forward(self, x, low_level_feat):\n",
        "        low_level_feat = self.conv1(low_level_feat)\n",
        "        low_level_feat = self.bn1(low_level_feat)\n",
        "        low_level_feat = self.relu(low_level_feat)\n",
        "\n",
        "        x = F.interpolate(x, size=low_level_feat.size()[2:], mode='bilinear', align_corners=True)\n",
        "        x = torch.cat((x, low_level_feat), dim=1)\n",
        "        x = self.last_conv(x)\n",
        "\n",
        "        return x\n",
        "\n",
        "    def _init_weight(self):\n",
        "        for m in self.modules():\n",
        "            if isinstance(m, nn.Conv2d):\n",
        "                torch.nn.init.kaiming_normal_(m.weight)\n",
        "            # elif isinstance(m, SynchronizedBatchNorm2d):\n",
        "            #     m.weight.data.fill_(1)\n",
        "            #     m.bias.data.zero_()\n",
        "            elif isinstance(m, nn.BatchNorm2d):\n",
        "                m.weight.data.fill_(1)\n",
        "                m.bias.data.zero_()\n",
        "\n",
        "def build_decoder(num_classes, backbone, BatchNorm):\n",
        "    return Decoder(num_classes, backbone, BatchNorm)"
      ]
    },
    {
      "cell_type": "markdown",
      "id": "N7LV5AvO7jYj",
      "metadata": {
        "id": "N7LV5AvO7jYj"
      },
      "source": [
        "### Deeplab"
      ]
    },
    {
      "cell_type": "code",
      "execution_count": 17,
      "id": "Jx_qNt6g7i6W",
      "metadata": {
        "id": "Jx_qNt6g7i6W"
      },
      "outputs": [],
      "source": [
        "class DeepLab(nn.Module):\n",
        "    def __init__(self, backbone='resnet', output_stride=16, num_classes=1,\n",
        "                 sync_bn=True, freeze_bn=False):\n",
        "        super(DeepLab, self).__init__()\n",
        "        # if backbone == 'drn':\n",
        "        #     output_stride = 8\n",
        "\n",
        "        # if sync_bn == True:\n",
        "        #     BatchNorm = SynchronizedBatchNorm2d\n",
        "        # else:\n",
        "        BatchNorm = nn.BatchNorm2d\n",
        "\n",
        "        self.backbone = build_backbone(backbone, output_stride, BatchNorm)\n",
        "        self.aspp = build_aspp(backbone, output_stride, BatchNorm)\n",
        "        self.decoder = build_decoder(num_classes, backbone, BatchNorm)\n",
        "\n",
        "        self.freeze_bn = freeze_bn\n",
        "\n",
        "    def forward(self, input):\n",
        "        x, low_level_feat = self.backbone(input)\n",
        "        x = self.aspp(x)\n",
        "        x = self.decoder(x, low_level_feat)\n",
        "        x = F.interpolate(x, size=input.size()[2:], mode='bilinear', align_corners=True)\n",
        "\n",
        "        return x"
      ]
    },
    {
      "cell_type": "code",
      "execution_count": 18,
      "id": "seVkOurM-fKT",
      "metadata": {
        "id": "seVkOurM-fKT"
      },
      "outputs": [],
      "source": [
        "import ssl\n",
        "\n",
        "ssl._create_default_https_context = ssl._create_unverified_context"
      ]
    },
    {
      "cell_type": "code",
      "execution_count": 19,
      "id": "KwbwOUsY-Czt",
      "metadata": {
        "id": "KwbwOUsY-Czt"
      },
      "outputs": [],
      "source": [
        "model = DeepLab().to(device)"
      ]
    },
    {
      "cell_type": "markdown",
      "id": "a0895765-fba0-4fd9-b955-a6c0e43012e9",
      "metadata": {
        "id": "a0895765-fba0-4fd9-b955-a6c0e43012e9"
      },
      "source": [
        "## Model Train"
      ]
    },
    {
      "cell_type": "code",
      "execution_count": 20,
      "id": "LYJeQnfu2g6b",
      "metadata": {
        "id": "LYJeQnfu2g6b"
      },
      "outputs": [],
      "source": [
        "import numpy as np\n",
        "import pandas as pd\n",
        "from typing import List, Union\n",
        "from joblib import Parallel, delayed\n",
        "\n",
        "def dice_score(prediction: np.array, ground_truth: np.array, smooth=1e-7) -> float:\n",
        "    '''\n",
        "    Calculate Dice Score between two binary masks.\n",
        "    '''\n",
        "    intersection = np.sum(prediction * ground_truth)\n",
        "    return (2.0 * intersection + smooth) / (np.sum(prediction) + np.sum(ground_truth) + smooth)\n",
        "\n",
        "\n",
        "def calculate_dice_scores(ground_truth_df, prediction_df, img_shape=(224, 224)) -> List[float]:\n",
        "    '''\n",
        "    Calculate Dice scores for a dataset.\n",
        "    '''\n",
        "\n",
        "\n",
        "    # Keep only the rows in the prediction dataframe that have matching img_ids in the ground truth dataframe\n",
        "    prediction_df = prediction_df[prediction_df.iloc[:, 0].isin(ground_truth_df.iloc[:, 0])]\n",
        "    prediction_df.index = range(prediction_df.shape[0])\n",
        "\n",
        "\n",
        "    # Extract the mask_rle columns\n",
        "    pred_mask_rle = prediction_df.iloc[:, 1]\n",
        "    gt_mask_rle = ground_truth_df.iloc[:, 1]\n",
        "\n",
        "\n",
        "    def calculate_dice(pred_rle, gt_rle):\n",
        "        pred_mask = rle_decode(pred_rle, img_shape)\n",
        "        gt_mask = rle_decode(gt_rle, img_shape)\n",
        "\n",
        "\n",
        "        if np.sum(gt_mask) > 0 or np.sum(pred_mask) > 0:\n",
        "            return dice_score(pred_mask, gt_mask)\n",
        "        else:\n",
        "            return None  # No valid masks found, return None\n",
        "\n",
        "\n",
        "    dice_scores = Parallel(n_jobs=-1)(\n",
        "        delayed(calculate_dice)(pred_rle, gt_rle) for pred_rle, gt_rle in zip(pred_mask_rle, gt_mask_rle)\n",
        "    )\n",
        "\n",
        "\n",
        "    dice_scores = [score for score in dice_scores if score is not None]  # Exclude None values\n",
        "\n",
        "\n",
        "    return np.mean(dice_scores)"
      ]
    },
    {
      "cell_type": "code",
      "execution_count": 21,
      "id": "QbYbhmzgA1bo",
      "metadata": {
        "id": "QbYbhmzgA1bo"
      },
      "outputs": [],
      "source": [
        "import gc\n",
        "gc.collect()\n",
        "torch.cuda.empty_cache()"
      ]
    },
    {
      "cell_type": "code",
      "execution_count": 22,
      "id": "63efb381-98c6-4d9b-a3b6-bd11c7fa8c41",
      "metadata": {
        "colab": {
          "base_uri": "https://localhost:8080/",
          "height": 1000
        },
        "id": "63efb381-98c6-4d9b-a3b6-bd11c7fa8c41",
        "outputId": "89f9ed68-bb07-4916-d93a-53b024eb2628"
      },
      "outputs": [
        {
          "name": "stderr",
          "output_type": "stream",
          "text": [
            "train: 100%|██████████| 402/402 [04:37<00:00,  1.45it/s]\n"
          ]
        },
        {
          "name": "stdout",
          "output_type": "stream",
          "text": [
            "Epoch 1, Loss: 0.5398223234053275\n"
          ]
        },
        {
          "name": "stderr",
          "output_type": "stream",
          "text": [
            "validation: 100%|██████████| 45/45 [00:18<00:00,  2.47it/s]\n"
          ]
        },
        {
          "name": "stdout",
          "output_type": "stream",
          "text": [
            "Epoch 1, VAL_Loss: 0.3523672819137573\n"
          ]
        },
        {
          "name": "stderr",
          "output_type": "stream",
          "text": [
            "train: 100%|██████████| 402/402 [04:35<00:00,  1.46it/s]\n"
          ]
        },
        {
          "name": "stdout",
          "output_type": "stream",
          "text": [
            "Epoch 2, Loss: 0.4082492370510576\n"
          ]
        },
        {
          "name": "stderr",
          "output_type": "stream",
          "text": [
            "validation: 100%|██████████| 45/45 [00:18<00:00,  2.47it/s]\n"
          ]
        },
        {
          "name": "stdout",
          "output_type": "stream",
          "text": [
            "Epoch 2, VAL_Loss: 0.4372091293334961\n"
          ]
        },
        {
          "name": "stderr",
          "output_type": "stream",
          "text": [
            "train: 100%|██████████| 402/402 [04:35<00:00,  1.46it/s]\n"
          ]
        },
        {
          "name": "stdout",
          "output_type": "stream",
          "text": [
            "Epoch 3, Loss: 0.3686617018275\n"
          ]
        },
        {
          "name": "stderr",
          "output_type": "stream",
          "text": [
            "validation: 100%|██████████| 45/45 [00:18<00:00,  2.47it/s]\n"
          ]
        },
        {
          "name": "stdout",
          "output_type": "stream",
          "text": [
            "Epoch 3, VAL_Loss: 0.3499720096588135\n"
          ]
        },
        {
          "name": "stderr",
          "output_type": "stream",
          "text": [
            "train: 100%|██████████| 402/402 [04:34<00:00,  1.46it/s]\n"
          ]
        },
        {
          "name": "stdout",
          "output_type": "stream",
          "text": [
            "Epoch 4, Loss: 0.35119572622859063\n"
          ]
        },
        {
          "name": "stderr",
          "output_type": "stream",
          "text": [
            "validation: 100%|██████████| 45/45 [00:18<00:00,  2.47it/s]\n"
          ]
        },
        {
          "name": "stdout",
          "output_type": "stream",
          "text": [
            "Epoch 4, VAL_Loss: 0.3176344037055969\n"
          ]
        },
        {
          "name": "stderr",
          "output_type": "stream",
          "text": [
            "train: 100%|██████████| 402/402 [04:34<00:00,  1.46it/s]\n"
          ]
        },
        {
          "name": "stdout",
          "output_type": "stream",
          "text": [
            "Epoch 5, Loss: 0.3362646483959843\n"
          ]
        },
        {
          "name": "stderr",
          "output_type": "stream",
          "text": [
            "validation: 100%|██████████| 45/45 [00:18<00:00,  2.47it/s]\n"
          ]
        },
        {
          "name": "stdout",
          "output_type": "stream",
          "text": [
            "Epoch 5, VAL_Loss: 0.32421815395355225\n"
          ]
        },
        {
          "name": "stderr",
          "output_type": "stream",
          "text": [
            "train: 100%|██████████| 402/402 [04:34<00:00,  1.46it/s]\n"
          ]
        },
        {
          "name": "stdout",
          "output_type": "stream",
          "text": [
            "Epoch 6, Loss: 0.32690805122626954\n"
          ]
        },
        {
          "name": "stderr",
          "output_type": "stream",
          "text": [
            "validation: 100%|██████████| 45/45 [00:18<00:00,  2.47it/s]\n"
          ]
        },
        {
          "name": "stdout",
          "output_type": "stream",
          "text": [
            "Epoch 6, VAL_Loss: 0.339884877204895\n"
          ]
        },
        {
          "name": "stderr",
          "output_type": "stream",
          "text": [
            "train: 100%|██████████| 402/402 [04:34<00:00,  1.46it/s]\n"
          ]
        },
        {
          "name": "stdout",
          "output_type": "stream",
          "text": [
            "Epoch 7, Loss: 0.3187695562246427\n"
          ]
        },
        {
          "name": "stderr",
          "output_type": "stream",
          "text": [
            "validation: 100%|██████████| 45/45 [00:18<00:00,  2.47it/s]\n"
          ]
        },
        {
          "name": "stdout",
          "output_type": "stream",
          "text": [
            "Epoch 7, VAL_Loss: 0.2838181257247925\n"
          ]
        },
        {
          "name": "stderr",
          "output_type": "stream",
          "text": [
            "train: 100%|██████████| 402/402 [04:34<00:00,  1.46it/s]\n"
          ]
        },
        {
          "name": "stdout",
          "output_type": "stream",
          "text": [
            "Epoch 8, Loss: 0.31336888937807794\n"
          ]
        },
        {
          "name": "stderr",
          "output_type": "stream",
          "text": [
            "validation: 100%|██████████| 45/45 [00:18<00:00,  2.48it/s]\n"
          ]
        },
        {
          "name": "stdout",
          "output_type": "stream",
          "text": [
            "Epoch 8, VAL_Loss: 0.32901984453201294\n"
          ]
        },
        {
          "name": "stderr",
          "output_type": "stream",
          "text": [
            "train: 100%|██████████| 402/402 [04:34<00:00,  1.46it/s]\n"
          ]
        },
        {
          "name": "stdout",
          "output_type": "stream",
          "text": [
            "Epoch 9, Loss: 0.3057889260759401\n"
          ]
        },
        {
          "name": "stderr",
          "output_type": "stream",
          "text": [
            "validation: 100%|██████████| 45/45 [00:20<00:00,  2.19it/s]\n"
          ]
        },
        {
          "name": "stdout",
          "output_type": "stream",
          "text": [
            "Epoch 9, VAL_Loss: 0.3759709596633911\n"
          ]
        },
        {
          "name": "stderr",
          "output_type": "stream",
          "text": [
            "train: 100%|██████████| 402/402 [04:41<00:00,  1.43it/s]\n"
          ]
        },
        {
          "name": "stdout",
          "output_type": "stream",
          "text": [
            "Epoch 10, Loss: 0.2997134010590131\n"
          ]
        },
        {
          "name": "stderr",
          "output_type": "stream",
          "text": [
            "validation: 100%|██████████| 45/45 [00:22<00:00,  1.97it/s]\n"
          ]
        },
        {
          "name": "stdout",
          "output_type": "stream",
          "text": [
            "Epoch 10, VAL_Loss: 0.28420156240463257\n"
          ]
        },
        {
          "name": "stderr",
          "output_type": "stream",
          "text": [
            "train: 100%|██████████| 402/402 [05:11<00:00,  1.29it/s]\n"
          ]
        },
        {
          "name": "stdout",
          "output_type": "stream",
          "text": [
            "Epoch 11, Loss: 0.2955123884464378\n"
          ]
        },
        {
          "name": "stderr",
          "output_type": "stream",
          "text": [
            "validation: 100%|██████████| 45/45 [00:18<00:00,  2.47it/s]\n"
          ]
        },
        {
          "name": "stdout",
          "output_type": "stream",
          "text": [
            "Epoch 11, VAL_Loss: 0.30003541707992554\n"
          ]
        },
        {
          "name": "stderr",
          "output_type": "stream",
          "text": [
            "train: 100%|██████████| 402/402 [04:35<00:00,  1.46it/s]\n"
          ]
        },
        {
          "name": "stdout",
          "output_type": "stream",
          "text": [
            "Epoch 12, Loss: 0.2896968786099657\n"
          ]
        },
        {
          "name": "stderr",
          "output_type": "stream",
          "text": [
            "validation: 100%|██████████| 45/45 [00:18<00:00,  2.47it/s]\n"
          ]
        },
        {
          "name": "stdout",
          "output_type": "stream",
          "text": [
            "Epoch 12, VAL_Loss: 0.2559358477592468\n"
          ]
        },
        {
          "name": "stderr",
          "output_type": "stream",
          "text": [
            "train: 100%|██████████| 402/402 [04:34<00:00,  1.46it/s]\n"
          ]
        },
        {
          "name": "stdout",
          "output_type": "stream",
          "text": [
            "Epoch 13, Loss: 0.2875963602196518\n"
          ]
        },
        {
          "name": "stderr",
          "output_type": "stream",
          "text": [
            "validation: 100%|██████████| 45/45 [00:18<00:00,  2.47it/s]\n"
          ]
        },
        {
          "name": "stdout",
          "output_type": "stream",
          "text": [
            "Epoch 13, VAL_Loss: 0.26530134677886963\n"
          ]
        },
        {
          "name": "stderr",
          "output_type": "stream",
          "text": [
            "train: 100%|██████████| 402/402 [04:35<00:00,  1.46it/s]\n"
          ]
        },
        {
          "name": "stdout",
          "output_type": "stream",
          "text": [
            "Epoch 14, Loss: 0.28527203394998957\n"
          ]
        },
        {
          "name": "stderr",
          "output_type": "stream",
          "text": [
            "validation: 100%|██████████| 45/45 [00:18<00:00,  2.46it/s]\n"
          ]
        },
        {
          "name": "stdout",
          "output_type": "stream",
          "text": [
            "Epoch 14, VAL_Loss: 0.26954156160354614\n"
          ]
        },
        {
          "name": "stderr",
          "output_type": "stream",
          "text": [
            "train: 100%|██████████| 402/402 [04:35<00:00,  1.46it/s]\n"
          ]
        },
        {
          "name": "stdout",
          "output_type": "stream",
          "text": [
            "Epoch 15, Loss: 0.283549581001054\n"
          ]
        },
        {
          "name": "stderr",
          "output_type": "stream",
          "text": [
            "validation: 100%|██████████| 45/45 [00:18<00:00,  2.47it/s]\n"
          ]
        },
        {
          "name": "stdout",
          "output_type": "stream",
          "text": [
            "Epoch 15, VAL_Loss: 0.28016865253448486\n"
          ]
        },
        {
          "name": "stderr",
          "output_type": "stream",
          "text": [
            "train: 100%|██████████| 402/402 [04:35<00:00,  1.46it/s]\n"
          ]
        },
        {
          "name": "stdout",
          "output_type": "stream",
          "text": [
            "Epoch 16, Loss: 0.28163207288998277\n"
          ]
        },
        {
          "name": "stderr",
          "output_type": "stream",
          "text": [
            "validation: 100%|██████████| 45/45 [00:18<00:00,  2.46it/s]\n"
          ]
        },
        {
          "name": "stdout",
          "output_type": "stream",
          "text": [
            "Epoch 16, VAL_Loss: 0.32264626026153564\n"
          ]
        },
        {
          "name": "stderr",
          "output_type": "stream",
          "text": [
            "train: 100%|██████████| 402/402 [04:34<00:00,  1.46it/s]\n"
          ]
        },
        {
          "name": "stdout",
          "output_type": "stream",
          "text": [
            "Epoch 17, Loss: 0.2775897708401751\n"
          ]
        },
        {
          "name": "stderr",
          "output_type": "stream",
          "text": [
            "validation: 100%|██████████| 45/45 [00:18<00:00,  2.46it/s]\n"
          ]
        },
        {
          "name": "stdout",
          "output_type": "stream",
          "text": [
            "Epoch 17, VAL_Loss: 0.30065256357192993\n"
          ]
        },
        {
          "name": "stderr",
          "output_type": "stream",
          "text": [
            "train: 100%|██████████| 402/402 [04:35<00:00,  1.46it/s]\n"
          ]
        },
        {
          "name": "stdout",
          "output_type": "stream",
          "text": [
            "Epoch 18, Loss: 0.27366326845700467\n"
          ]
        },
        {
          "name": "stderr",
          "output_type": "stream",
          "text": [
            "validation: 100%|██████████| 45/45 [00:18<00:00,  2.47it/s]\n"
          ]
        },
        {
          "name": "stdout",
          "output_type": "stream",
          "text": [
            "Epoch 18, VAL_Loss: 0.27277421951293945\n"
          ]
        },
        {
          "name": "stderr",
          "output_type": "stream",
          "text": [
            "train: 100%|██████████| 402/402 [04:35<00:00,  1.46it/s]\n"
          ]
        },
        {
          "name": "stdout",
          "output_type": "stream",
          "text": [
            "Epoch 19, Loss: 0.27122505772766187\n"
          ]
        },
        {
          "name": "stderr",
          "output_type": "stream",
          "text": [
            "validation: 100%|██████████| 45/45 [00:18<00:00,  2.47it/s]\n"
          ]
        },
        {
          "name": "stdout",
          "output_type": "stream",
          "text": [
            "Epoch 19, VAL_Loss: 0.2521781325340271\n"
          ]
        },
        {
          "name": "stderr",
          "output_type": "stream",
          "text": [
            "train: 100%|██████████| 402/402 [04:35<00:00,  1.46it/s]\n"
          ]
        },
        {
          "name": "stdout",
          "output_type": "stream",
          "text": [
            "Epoch 20, Loss: 0.2705335228597347\n"
          ]
        },
        {
          "name": "stderr",
          "output_type": "stream",
          "text": [
            "validation: 100%|██████████| 45/45 [00:18<00:00,  2.46it/s]\n"
          ]
        },
        {
          "name": "stdout",
          "output_type": "stream",
          "text": [
            "Epoch 20, VAL_Loss: 0.2749652862548828\n"
          ]
        },
        {
          "name": "stderr",
          "output_type": "stream",
          "text": [
            "train: 100%|██████████| 402/402 [04:34<00:00,  1.46it/s]\n"
          ]
        },
        {
          "name": "stdout",
          "output_type": "stream",
          "text": [
            "Epoch 21, Loss: 0.2674628605890037\n"
          ]
        },
        {
          "name": "stderr",
          "output_type": "stream",
          "text": [
            "validation: 100%|██████████| 45/45 [00:18<00:00,  2.45it/s]\n"
          ]
        },
        {
          "name": "stdout",
          "output_type": "stream",
          "text": [
            "Epoch 21, VAL_Loss: 0.2505658268928528\n"
          ]
        },
        {
          "name": "stderr",
          "output_type": "stream",
          "text": [
            "train: 100%|██████████| 402/402 [04:34<00:00,  1.46it/s]\n"
          ]
        },
        {
          "name": "stdout",
          "output_type": "stream",
          "text": [
            "Epoch 22, Loss: 0.2658465730017097\n"
          ]
        },
        {
          "name": "stderr",
          "output_type": "stream",
          "text": [
            "validation: 100%|██████████| 45/45 [00:18<00:00,  2.47it/s]\n"
          ]
        },
        {
          "name": "stdout",
          "output_type": "stream",
          "text": [
            "Epoch 22, VAL_Loss: 0.34006941318511963\n"
          ]
        },
        {
          "name": "stderr",
          "output_type": "stream",
          "text": [
            "train: 100%|██████████| 402/402 [04:35<00:00,  1.46it/s]\n"
          ]
        },
        {
          "name": "stdout",
          "output_type": "stream",
          "text": [
            "Epoch 23, Loss: 0.2646285666162102\n"
          ]
        },
        {
          "name": "stderr",
          "output_type": "stream",
          "text": [
            "validation: 100%|██████████| 45/45 [00:18<00:00,  2.47it/s]\n"
          ]
        },
        {
          "name": "stdout",
          "output_type": "stream",
          "text": [
            "Epoch 23, VAL_Loss: 0.2674708962440491\n"
          ]
        },
        {
          "name": "stderr",
          "output_type": "stream",
          "text": [
            "train: 100%|██████████| 402/402 [04:35<00:00,  1.46it/s]\n"
          ]
        },
        {
          "name": "stdout",
          "output_type": "stream",
          "text": [
            "Epoch 24, Loss: 0.2667578860598417\n"
          ]
        },
        {
          "name": "stderr",
          "output_type": "stream",
          "text": [
            "validation: 100%|██████████| 45/45 [00:18<00:00,  2.47it/s]\n"
          ]
        },
        {
          "name": "stdout",
          "output_type": "stream",
          "text": [
            "Epoch 24, VAL_Loss: 0.27799010276794434\n"
          ]
        },
        {
          "name": "stderr",
          "output_type": "stream",
          "text": [
            "train: 100%|██████████| 402/402 [04:34<00:00,  1.46it/s]\n"
          ]
        },
        {
          "name": "stdout",
          "output_type": "stream",
          "text": [
            "Epoch 25, Loss: 0.2649214909740941\n"
          ]
        },
        {
          "name": "stderr",
          "output_type": "stream",
          "text": [
            "validation: 100%|██████████| 45/45 [00:18<00:00,  2.47it/s]\n"
          ]
        },
        {
          "name": "stdout",
          "output_type": "stream",
          "text": [
            "Epoch 25, VAL_Loss: 0.2619088888168335\n"
          ]
        },
        {
          "name": "stderr",
          "output_type": "stream",
          "text": [
            "train: 100%|██████████| 402/402 [04:37<00:00,  1.45it/s]\n"
          ]
        },
        {
          "name": "stdout",
          "output_type": "stream",
          "text": [
            "Epoch 26, Loss: 0.2581618927901064\n"
          ]
        },
        {
          "name": "stderr",
          "output_type": "stream",
          "text": [
            "validation: 100%|██████████| 45/45 [00:19<00:00,  2.31it/s]\n"
          ]
        },
        {
          "name": "stdout",
          "output_type": "stream",
          "text": [
            "Epoch 26, VAL_Loss: 0.2337910532951355\n"
          ]
        },
        {
          "name": "stderr",
          "output_type": "stream",
          "text": [
            "train: 100%|██████████| 402/402 [04:56<00:00,  1.36it/s]\n"
          ]
        },
        {
          "name": "stdout",
          "output_type": "stream",
          "text": [
            "Epoch 27, Loss: 0.25760642642998577\n"
          ]
        },
        {
          "name": "stderr",
          "output_type": "stream",
          "text": [
            "validation: 100%|██████████| 45/45 [00:19<00:00,  2.36it/s]\n"
          ]
        },
        {
          "name": "stdout",
          "output_type": "stream",
          "text": [
            "Epoch 27, VAL_Loss: 0.2075682282447815\n"
          ]
        },
        {
          "name": "stderr",
          "output_type": "stream",
          "text": [
            "train: 100%|██████████| 402/402 [04:37<00:00,  1.45it/s]\n"
          ]
        },
        {
          "name": "stdout",
          "output_type": "stream",
          "text": [
            "Epoch 28, Loss: 0.2547608823028963\n"
          ]
        },
        {
          "name": "stderr",
          "output_type": "stream",
          "text": [
            "validation: 100%|██████████| 45/45 [00:18<00:00,  2.46it/s]\n"
          ]
        },
        {
          "name": "stdout",
          "output_type": "stream",
          "text": [
            "Epoch 28, VAL_Loss: 0.287841260433197\n"
          ]
        },
        {
          "name": "stderr",
          "output_type": "stream",
          "text": [
            "train: 100%|██████████| 402/402 [04:35<00:00,  1.46it/s]\n"
          ]
        },
        {
          "name": "stdout",
          "output_type": "stream",
          "text": [
            "Epoch 29, Loss: 0.25510746240615845\n"
          ]
        },
        {
          "name": "stderr",
          "output_type": "stream",
          "text": [
            "validation: 100%|██████████| 45/45 [00:18<00:00,  2.46it/s]\n"
          ]
        },
        {
          "name": "stdout",
          "output_type": "stream",
          "text": [
            "Epoch 29, VAL_Loss: 0.28965961933135986\n"
          ]
        },
        {
          "name": "stderr",
          "output_type": "stream",
          "text": [
            "train: 100%|██████████| 402/402 [04:35<00:00,  1.46it/s]\n"
          ]
        },
        {
          "name": "stdout",
          "output_type": "stream",
          "text": [
            "Epoch 30, Loss: 0.253867402895173\n"
          ]
        },
        {
          "name": "stderr",
          "output_type": "stream",
          "text": [
            "validation: 100%|██████████| 45/45 [00:18<00:00,  2.47it/s]\n"
          ]
        },
        {
          "name": "stdout",
          "output_type": "stream",
          "text": [
            "Epoch 30, VAL_Loss: 0.26369595527648926\n"
          ]
        },
        {
          "name": "stderr",
          "output_type": "stream",
          "text": [
            "train: 100%|██████████| 402/402 [04:35<00:00,  1.46it/s]\n"
          ]
        },
        {
          "name": "stdout",
          "output_type": "stream",
          "text": [
            "Epoch 31, Loss: 0.25043715202986305\n"
          ]
        },
        {
          "name": "stderr",
          "output_type": "stream",
          "text": [
            "validation: 100%|██████████| 45/45 [00:18<00:00,  2.47it/s]\n"
          ]
        },
        {
          "name": "stdout",
          "output_type": "stream",
          "text": [
            "Epoch 31, VAL_Loss: 0.2584722638130188\n"
          ]
        },
        {
          "name": "stderr",
          "output_type": "stream",
          "text": [
            "train: 100%|██████████| 402/402 [04:34<00:00,  1.46it/s]\n"
          ]
        },
        {
          "name": "stdout",
          "output_type": "stream",
          "text": [
            "Epoch 32, Loss: 0.2493879760972303\n"
          ]
        },
        {
          "name": "stderr",
          "output_type": "stream",
          "text": [
            "validation: 100%|██████████| 45/45 [00:18<00:00,  2.46it/s]\n"
          ]
        },
        {
          "name": "stdout",
          "output_type": "stream",
          "text": [
            "Epoch 32, VAL_Loss: 0.1992674469947815\n"
          ]
        },
        {
          "name": "stderr",
          "output_type": "stream",
          "text": [
            "train: 100%|██████████| 402/402 [04:34<00:00,  1.46it/s]\n"
          ]
        },
        {
          "name": "stdout",
          "output_type": "stream",
          "text": [
            "Epoch 33, Loss: 0.24775531635948675\n"
          ]
        },
        {
          "name": "stderr",
          "output_type": "stream",
          "text": [
            "validation: 100%|██████████| 45/45 [00:18<00:00,  2.47it/s]\n"
          ]
        },
        {
          "name": "stdout",
          "output_type": "stream",
          "text": [
            "Epoch 33, VAL_Loss: 0.2025355100631714\n"
          ]
        },
        {
          "name": "stderr",
          "output_type": "stream",
          "text": [
            "train: 100%|██████████| 402/402 [04:35<00:00,  1.46it/s]\n"
          ]
        },
        {
          "name": "stdout",
          "output_type": "stream",
          "text": [
            "Epoch 34, Loss: 0.24529674352698067\n"
          ]
        },
        {
          "name": "stderr",
          "output_type": "stream",
          "text": [
            "validation: 100%|██████████| 45/45 [00:18<00:00,  2.46it/s]\n"
          ]
        },
        {
          "name": "stdout",
          "output_type": "stream",
          "text": [
            "Epoch 34, VAL_Loss: 0.2438604235649109\n"
          ]
        },
        {
          "name": "stderr",
          "output_type": "stream",
          "text": [
            "train: 100%|██████████| 402/402 [04:35<00:00,  1.46it/s]\n"
          ]
        },
        {
          "name": "stdout",
          "output_type": "stream",
          "text": [
            "Epoch 35, Loss: 0.2484533533231536\n"
          ]
        },
        {
          "name": "stderr",
          "output_type": "stream",
          "text": [
            "validation: 100%|██████████| 45/45 [00:18<00:00,  2.46it/s]\n"
          ]
        },
        {
          "name": "stdout",
          "output_type": "stream",
          "text": [
            "Epoch 35, VAL_Loss: 0.2528965473175049\n"
          ]
        },
        {
          "name": "stderr",
          "output_type": "stream",
          "text": [
            "train: 100%|██████████| 402/402 [04:34<00:00,  1.46it/s]\n"
          ]
        },
        {
          "name": "stdout",
          "output_type": "stream",
          "text": [
            "Epoch 36, Loss: 0.24270606693343735\n"
          ]
        },
        {
          "name": "stderr",
          "output_type": "stream",
          "text": [
            "validation: 100%|██████████| 45/45 [00:18<00:00,  2.46it/s]\n"
          ]
        },
        {
          "name": "stdout",
          "output_type": "stream",
          "text": [
            "Epoch 36, VAL_Loss: 0.2739470601081848\n"
          ]
        },
        {
          "name": "stderr",
          "output_type": "stream",
          "text": [
            "train: 100%|██████████| 402/402 [04:35<00:00,  1.46it/s]\n"
          ]
        },
        {
          "name": "stdout",
          "output_type": "stream",
          "text": [
            "Epoch 37, Loss: 0.24120790507662948\n"
          ]
        },
        {
          "name": "stderr",
          "output_type": "stream",
          "text": [
            "validation: 100%|██████████| 45/45 [00:18<00:00,  2.46it/s]\n"
          ]
        },
        {
          "name": "stdout",
          "output_type": "stream",
          "text": [
            "Epoch 37, VAL_Loss: 0.2655453085899353\n"
          ]
        },
        {
          "name": "stderr",
          "output_type": "stream",
          "text": [
            "train: 100%|██████████| 402/402 [04:34<00:00,  1.46it/s]\n"
          ]
        },
        {
          "name": "stdout",
          "output_type": "stream",
          "text": [
            "Epoch 38, Loss: 0.2410682537662449\n"
          ]
        },
        {
          "name": "stderr",
          "output_type": "stream",
          "text": [
            "validation: 100%|██████████| 45/45 [00:18<00:00,  2.46it/s]\n"
          ]
        },
        {
          "name": "stdout",
          "output_type": "stream",
          "text": [
            "Epoch 38, VAL_Loss: 0.21941816806793213\n"
          ]
        },
        {
          "name": "stderr",
          "output_type": "stream",
          "text": [
            "train: 100%|██████████| 402/402 [04:34<00:00,  1.46it/s]\n"
          ]
        },
        {
          "name": "stdout",
          "output_type": "stream",
          "text": [
            "Epoch 39, Loss: 0.23830847271639316\n"
          ]
        },
        {
          "name": "stderr",
          "output_type": "stream",
          "text": [
            "validation: 100%|██████████| 45/45 [00:18<00:00,  2.46it/s]\n"
          ]
        },
        {
          "name": "stdout",
          "output_type": "stream",
          "text": [
            "Epoch 39, VAL_Loss: 0.23315763473510742\n"
          ]
        },
        {
          "name": "stderr",
          "output_type": "stream",
          "text": [
            "train: 100%|██████████| 402/402 [04:35<00:00,  1.46it/s]\n"
          ]
        },
        {
          "name": "stdout",
          "output_type": "stream",
          "text": [
            "Epoch 40, Loss: 0.2362259215679928\n"
          ]
        },
        {
          "name": "stderr",
          "output_type": "stream",
          "text": [
            "validation: 100%|██████████| 45/45 [00:18<00:00,  2.47it/s]\n"
          ]
        },
        {
          "name": "stdout",
          "output_type": "stream",
          "text": [
            "Epoch 40, VAL_Loss: 0.22596025466918945\n"
          ]
        },
        {
          "name": "stderr",
          "output_type": "stream",
          "text": [
            "train: 100%|██████████| 402/402 [04:35<00:00,  1.46it/s]\n"
          ]
        },
        {
          "name": "stdout",
          "output_type": "stream",
          "text": [
            "Epoch 41, Loss: 0.23662142537126493\n"
          ]
        },
        {
          "name": "stderr",
          "output_type": "stream",
          "text": [
            "validation: 100%|██████████| 45/45 [00:18<00:00,  2.46it/s]\n"
          ]
        },
        {
          "name": "stdout",
          "output_type": "stream",
          "text": [
            "Epoch 41, VAL_Loss: 0.21262365579605103\n"
          ]
        },
        {
          "name": "stderr",
          "output_type": "stream",
          "text": [
            "train: 100%|██████████| 402/402 [04:34<00:00,  1.46it/s]\n"
          ]
        },
        {
          "name": "stdout",
          "output_type": "stream",
          "text": [
            "Epoch 42, Loss: 0.2379830758369977\n"
          ]
        },
        {
          "name": "stderr",
          "output_type": "stream",
          "text": [
            "validation: 100%|██████████| 45/45 [00:18<00:00,  2.47it/s]\n"
          ]
        },
        {
          "name": "stdout",
          "output_type": "stream",
          "text": [
            "Epoch 42, VAL_Loss: 0.2501083016395569\n"
          ]
        },
        {
          "name": "stderr",
          "output_type": "stream",
          "text": [
            "train: 100%|██████████| 402/402 [04:34<00:00,  1.46it/s]\n"
          ]
        },
        {
          "name": "stdout",
          "output_type": "stream",
          "text": [
            "Epoch 43, Loss: 0.23533699465035207\n"
          ]
        },
        {
          "name": "stderr",
          "output_type": "stream",
          "text": [
            "validation: 100%|██████████| 45/45 [00:18<00:00,  2.46it/s]\n"
          ]
        },
        {
          "name": "stdout",
          "output_type": "stream",
          "text": [
            "Epoch 43, VAL_Loss: 0.25222164392471313\n"
          ]
        },
        {
          "name": "stderr",
          "output_type": "stream",
          "text": [
            "train: 100%|██████████| 402/402 [04:34<00:00,  1.46it/s]\n"
          ]
        },
        {
          "name": "stdout",
          "output_type": "stream",
          "text": [
            "Epoch 44, Loss: 0.23217606114510872\n"
          ]
        },
        {
          "name": "stderr",
          "output_type": "stream",
          "text": [
            "validation: 100%|██████████| 45/45 [00:18<00:00,  2.47it/s]\n"
          ]
        },
        {
          "name": "stdout",
          "output_type": "stream",
          "text": [
            "Epoch 44, VAL_Loss: 0.26103395223617554\n"
          ]
        },
        {
          "name": "stderr",
          "output_type": "stream",
          "text": [
            "train: 100%|██████████| 402/402 [04:34<00:00,  1.46it/s]\n"
          ]
        },
        {
          "name": "stdout",
          "output_type": "stream",
          "text": [
            "Epoch 45, Loss: 0.2304858955281291\n"
          ]
        },
        {
          "name": "stderr",
          "output_type": "stream",
          "text": [
            "validation: 100%|██████████| 45/45 [00:18<00:00,  2.46it/s]\n"
          ]
        },
        {
          "name": "stdout",
          "output_type": "stream",
          "text": [
            "Epoch 45, VAL_Loss: 0.21385180950164795\n"
          ]
        },
        {
          "name": "stderr",
          "output_type": "stream",
          "text": [
            "train: 100%|██████████| 402/402 [04:34<00:00,  1.46it/s]\n"
          ]
        },
        {
          "name": "stdout",
          "output_type": "stream",
          "text": [
            "Epoch 46, Loss: 0.23295954492554735\n"
          ]
        },
        {
          "name": "stderr",
          "output_type": "stream",
          "text": [
            "validation: 100%|██████████| 45/45 [00:18<00:00,  2.46it/s]\n"
          ]
        },
        {
          "name": "stdout",
          "output_type": "stream",
          "text": [
            "Epoch 46, VAL_Loss: 0.23726016283035278\n"
          ]
        },
        {
          "name": "stderr",
          "output_type": "stream",
          "text": [
            "train: 100%|██████████| 402/402 [04:34<00:00,  1.46it/s]\n"
          ]
        },
        {
          "name": "stdout",
          "output_type": "stream",
          "text": [
            "Epoch 47, Loss: 0.22965494539607223\n"
          ]
        },
        {
          "name": "stderr",
          "output_type": "stream",
          "text": [
            "validation: 100%|██████████| 45/45 [00:18<00:00,  2.46it/s]\n"
          ]
        },
        {
          "name": "stdout",
          "output_type": "stream",
          "text": [
            "Epoch 47, VAL_Loss: 0.18830204010009766\n"
          ]
        },
        {
          "name": "stderr",
          "output_type": "stream",
          "text": [
            "train: 100%|██████████| 402/402 [04:34<00:00,  1.46it/s]\n"
          ]
        },
        {
          "name": "stdout",
          "output_type": "stream",
          "text": [
            "Epoch 48, Loss: 0.22802715381579614\n"
          ]
        },
        {
          "name": "stderr",
          "output_type": "stream",
          "text": [
            "validation: 100%|██████████| 45/45 [00:18<00:00,  2.47it/s]\n"
          ]
        },
        {
          "name": "stdout",
          "output_type": "stream",
          "text": [
            "Epoch 48, VAL_Loss: 0.2137414813041687\n"
          ]
        },
        {
          "name": "stderr",
          "output_type": "stream",
          "text": [
            "train: 100%|██████████| 402/402 [04:35<00:00,  1.46it/s]\n"
          ]
        },
        {
          "name": "stdout",
          "output_type": "stream",
          "text": [
            "Epoch 49, Loss: 0.22574697931607565\n"
          ]
        },
        {
          "name": "stderr",
          "output_type": "stream",
          "text": [
            "validation: 100%|██████████| 45/45 [00:18<00:00,  2.47it/s]\n"
          ]
        },
        {
          "name": "stdout",
          "output_type": "stream",
          "text": [
            "Epoch 49, VAL_Loss: 0.22931557893753052\n"
          ]
        },
        {
          "name": "stderr",
          "output_type": "stream",
          "text": [
            "train: 100%|██████████| 402/402 [04:34<00:00,  1.46it/s]\n"
          ]
        },
        {
          "name": "stdout",
          "output_type": "stream",
          "text": [
            "Epoch 50, Loss: 0.22478830502994024\n"
          ]
        },
        {
          "name": "stderr",
          "output_type": "stream",
          "text": [
            "validation: 100%|██████████| 45/45 [00:18<00:00,  2.47it/s]\n"
          ]
        },
        {
          "name": "stdout",
          "output_type": "stream",
          "text": [
            "Epoch 50, VAL_Loss: 0.2574186325073242\n"
          ]
        },
        {
          "name": "stderr",
          "output_type": "stream",
          "text": [
            "train: 100%|██████████| 402/402 [04:35<00:00,  1.46it/s]\n"
          ]
        },
        {
          "name": "stdout",
          "output_type": "stream",
          "text": [
            "Epoch 51, Loss: 0.22632513043299243\n"
          ]
        },
        {
          "name": "stderr",
          "output_type": "stream",
          "text": [
            "validation: 100%|██████████| 45/45 [00:18<00:00,  2.46it/s]\n"
          ]
        },
        {
          "name": "stdout",
          "output_type": "stream",
          "text": [
            "Epoch 51, VAL_Loss: 0.21639889478683472\n"
          ]
        },
        {
          "name": "stderr",
          "output_type": "stream",
          "text": [
            "train: 100%|██████████| 402/402 [04:35<00:00,  1.46it/s]\n"
          ]
        },
        {
          "name": "stdout",
          "output_type": "stream",
          "text": [
            "Epoch 52, Loss: 0.22380628336721392\n"
          ]
        },
        {
          "name": "stderr",
          "output_type": "stream",
          "text": [
            "validation: 100%|██████████| 45/45 [00:18<00:00,  2.45it/s]\n"
          ]
        },
        {
          "name": "stdout",
          "output_type": "stream",
          "text": [
            "Epoch 52, VAL_Loss: 0.20314544439315796\n"
          ]
        },
        {
          "name": "stderr",
          "output_type": "stream",
          "text": [
            "train: 100%|██████████| 402/402 [04:35<00:00,  1.46it/s]\n"
          ]
        },
        {
          "name": "stdout",
          "output_type": "stream",
          "text": [
            "Epoch 53, Loss: 0.22317704676988706\n"
          ]
        },
        {
          "name": "stderr",
          "output_type": "stream",
          "text": [
            "validation: 100%|██████████| 45/45 [00:18<00:00,  2.46it/s]\n"
          ]
        },
        {
          "name": "stdout",
          "output_type": "stream",
          "text": [
            "Epoch 53, VAL_Loss: 0.19934016466140747\n"
          ]
        },
        {
          "name": "stderr",
          "output_type": "stream",
          "text": [
            "train: 100%|██████████| 402/402 [04:34<00:00,  1.46it/s]\n"
          ]
        },
        {
          "name": "stdout",
          "output_type": "stream",
          "text": [
            "Epoch 54, Loss: 0.22167802405594594\n"
          ]
        },
        {
          "name": "stderr",
          "output_type": "stream",
          "text": [
            "validation: 100%|██████████| 45/45 [00:18<00:00,  2.46it/s]\n"
          ]
        },
        {
          "name": "stdout",
          "output_type": "stream",
          "text": [
            "Epoch 54, VAL_Loss: 0.23398065567016602\n"
          ]
        },
        {
          "name": "stderr",
          "output_type": "stream",
          "text": [
            "train: 100%|██████████| 402/402 [04:34<00:00,  1.46it/s]\n"
          ]
        },
        {
          "name": "stdout",
          "output_type": "stream",
          "text": [
            "Epoch 55, Loss: 0.22067613091634875\n"
          ]
        },
        {
          "name": "stderr",
          "output_type": "stream",
          "text": [
            "validation: 100%|██████████| 45/45 [00:18<00:00,  2.47it/s]\n"
          ]
        },
        {
          "name": "stdout",
          "output_type": "stream",
          "text": [
            "Epoch 55, VAL_Loss: 0.23825132846832275\n"
          ]
        },
        {
          "name": "stderr",
          "output_type": "stream",
          "text": [
            "train: 100%|██████████| 402/402 [04:35<00:00,  1.46it/s]\n"
          ]
        },
        {
          "name": "stdout",
          "output_type": "stream",
          "text": [
            "Epoch 56, Loss: 0.21946850166985052\n"
          ]
        },
        {
          "name": "stderr",
          "output_type": "stream",
          "text": [
            "validation: 100%|██████████| 45/45 [00:18<00:00,  2.47it/s]\n"
          ]
        },
        {
          "name": "stdout",
          "output_type": "stream",
          "text": [
            "Epoch 56, VAL_Loss: 0.1947723627090454\n"
          ]
        },
        {
          "name": "stderr",
          "output_type": "stream",
          "text": [
            "train: 100%|██████████| 402/402 [04:34<00:00,  1.46it/s]\n"
          ]
        },
        {
          "name": "stdout",
          "output_type": "stream",
          "text": [
            "Epoch 57, Loss: 0.21898340570985975\n"
          ]
        },
        {
          "name": "stderr",
          "output_type": "stream",
          "text": [
            "validation: 100%|██████████| 45/45 [00:18<00:00,  2.47it/s]\n"
          ]
        },
        {
          "name": "stdout",
          "output_type": "stream",
          "text": [
            "Epoch 57, VAL_Loss: 0.21855652332305908\n"
          ]
        },
        {
          "name": "stderr",
          "output_type": "stream",
          "text": [
            "train: 100%|██████████| 402/402 [04:34<00:00,  1.46it/s]\n"
          ]
        },
        {
          "name": "stdout",
          "output_type": "stream",
          "text": [
            "Epoch 58, Loss: 0.21797571283074754\n"
          ]
        },
        {
          "name": "stderr",
          "output_type": "stream",
          "text": [
            "validation: 100%|██████████| 45/45 [00:18<00:00,  2.46it/s]\n"
          ]
        },
        {
          "name": "stdout",
          "output_type": "stream",
          "text": [
            "Epoch 58, VAL_Loss: 0.2006203532218933\n"
          ]
        },
        {
          "name": "stderr",
          "output_type": "stream",
          "text": [
            "train: 100%|██████████| 402/402 [04:35<00:00,  1.46it/s]\n"
          ]
        },
        {
          "name": "stdout",
          "output_type": "stream",
          "text": [
            "Epoch 59, Loss: 0.21695629103266778\n"
          ]
        },
        {
          "name": "stderr",
          "output_type": "stream",
          "text": [
            "validation: 100%|██████████| 45/45 [00:18<00:00,  2.47it/s]\n"
          ]
        },
        {
          "name": "stdout",
          "output_type": "stream",
          "text": [
            "Epoch 59, VAL_Loss: 0.18589293956756592\n"
          ]
        },
        {
          "name": "stderr",
          "output_type": "stream",
          "text": [
            "train: 100%|██████████| 402/402 [04:34<00:00,  1.46it/s]\n"
          ]
        },
        {
          "name": "stdout",
          "output_type": "stream",
          "text": [
            "Epoch 60, Loss: 0.2160783202493962\n"
          ]
        },
        {
          "name": "stderr",
          "output_type": "stream",
          "text": [
            "validation: 100%|██████████| 45/45 [00:18<00:00,  2.47it/s]\n"
          ]
        },
        {
          "name": "stdout",
          "output_type": "stream",
          "text": [
            "Epoch 60, VAL_Loss: 0.2020757794380188\n"
          ]
        },
        {
          "name": "stderr",
          "output_type": "stream",
          "text": [
            "train: 100%|██████████| 402/402 [04:34<00:00,  1.46it/s]\n"
          ]
        },
        {
          "name": "stdout",
          "output_type": "stream",
          "text": [
            "Epoch 61, Loss: 0.2147973867791209\n"
          ]
        },
        {
          "name": "stderr",
          "output_type": "stream",
          "text": [
            "validation: 100%|██████████| 45/45 [00:18<00:00,  2.46it/s]\n"
          ]
        },
        {
          "name": "stdout",
          "output_type": "stream",
          "text": [
            "Epoch 61, VAL_Loss: 0.2464504837989807\n"
          ]
        },
        {
          "name": "stderr",
          "output_type": "stream",
          "text": [
            "train: 100%|██████████| 402/402 [04:34<00:00,  1.46it/s]\n"
          ]
        },
        {
          "name": "stdout",
          "output_type": "stream",
          "text": [
            "Epoch 62, Loss: 0.21492954035896567\n"
          ]
        },
        {
          "name": "stderr",
          "output_type": "stream",
          "text": [
            "validation: 100%|██████████| 45/45 [00:18<00:00,  2.47it/s]\n"
          ]
        },
        {
          "name": "stdout",
          "output_type": "stream",
          "text": [
            "Epoch 62, VAL_Loss: 0.16073864698410034\n"
          ]
        },
        {
          "name": "stderr",
          "output_type": "stream",
          "text": [
            "train: 100%|██████████| 402/402 [04:35<00:00,  1.46it/s]\n"
          ]
        },
        {
          "name": "stdout",
          "output_type": "stream",
          "text": [
            "Epoch 63, Loss: 0.21323876609256612\n"
          ]
        },
        {
          "name": "stderr",
          "output_type": "stream",
          "text": [
            "validation: 100%|██████████| 45/45 [00:18<00:00,  2.47it/s]\n"
          ]
        },
        {
          "name": "stdout",
          "output_type": "stream",
          "text": [
            "Epoch 63, VAL_Loss: 0.19821351766586304\n"
          ]
        },
        {
          "name": "stderr",
          "output_type": "stream",
          "text": [
            "train: 100%|██████████| 402/402 [04:34<00:00,  1.46it/s]\n"
          ]
        },
        {
          "name": "stdout",
          "output_type": "stream",
          "text": [
            "Epoch 64, Loss: 0.2125149750294377\n"
          ]
        },
        {
          "name": "stderr",
          "output_type": "stream",
          "text": [
            "validation: 100%|██████████| 45/45 [00:18<00:00,  2.47it/s]\n"
          ]
        },
        {
          "name": "stdout",
          "output_type": "stream",
          "text": [
            "Epoch 64, VAL_Loss: 0.206415057182312\n"
          ]
        },
        {
          "name": "stderr",
          "output_type": "stream",
          "text": [
            "train: 100%|██████████| 402/402 [04:34<00:00,  1.46it/s]\n"
          ]
        },
        {
          "name": "stdout",
          "output_type": "stream",
          "text": [
            "Epoch 65, Loss: 0.2113061396043692\n"
          ]
        },
        {
          "name": "stderr",
          "output_type": "stream",
          "text": [
            "validation: 100%|██████████| 45/45 [00:18<00:00,  2.46it/s]\n"
          ]
        },
        {
          "name": "stdout",
          "output_type": "stream",
          "text": [
            "Epoch 65, VAL_Loss: 0.24013537168502808\n"
          ]
        },
        {
          "name": "stderr",
          "output_type": "stream",
          "text": [
            "train: 100%|██████████| 402/402 [04:34<00:00,  1.46it/s]\n"
          ]
        },
        {
          "name": "stdout",
          "output_type": "stream",
          "text": [
            "Epoch 66, Loss: 0.21001685199452869\n"
          ]
        },
        {
          "name": "stderr",
          "output_type": "stream",
          "text": [
            "validation: 100%|██████████| 45/45 [00:18<00:00,  2.47it/s]\n"
          ]
        },
        {
          "name": "stdout",
          "output_type": "stream",
          "text": [
            "Epoch 66, VAL_Loss: 0.225422203540802\n"
          ]
        },
        {
          "name": "stderr",
          "output_type": "stream",
          "text": [
            "train: 100%|██████████| 402/402 [04:34<00:00,  1.46it/s]\n"
          ]
        },
        {
          "name": "stdout",
          "output_type": "stream",
          "text": [
            "Epoch 67, Loss: 0.2100743823383578\n"
          ]
        },
        {
          "name": "stderr",
          "output_type": "stream",
          "text": [
            "validation: 100%|██████████| 45/45 [00:18<00:00,  2.46it/s]\n"
          ]
        },
        {
          "name": "stdout",
          "output_type": "stream",
          "text": [
            "Epoch 67, VAL_Loss: 0.2239585518836975\n"
          ]
        },
        {
          "name": "stderr",
          "output_type": "stream",
          "text": [
            "train: 100%|██████████| 402/402 [04:34<00:00,  1.46it/s]\n"
          ]
        },
        {
          "name": "stdout",
          "output_type": "stream",
          "text": [
            "Epoch 68, Loss: 0.20974241160041657\n"
          ]
        },
        {
          "name": "stderr",
          "output_type": "stream",
          "text": [
            "validation: 100%|██████████| 45/45 [00:18<00:00,  2.47it/s]\n"
          ]
        },
        {
          "name": "stdout",
          "output_type": "stream",
          "text": [
            "Epoch 68, VAL_Loss: 0.21366488933563232\n"
          ]
        },
        {
          "name": "stderr",
          "output_type": "stream",
          "text": [
            "train: 100%|██████████| 402/402 [04:34<00:00,  1.46it/s]\n"
          ]
        },
        {
          "name": "stdout",
          "output_type": "stream",
          "text": [
            "Epoch 69, Loss: 0.20806923582779235\n"
          ]
        },
        {
          "name": "stderr",
          "output_type": "stream",
          "text": [
            "validation: 100%|██████████| 45/45 [00:18<00:00,  2.47it/s]\n"
          ]
        },
        {
          "name": "stdout",
          "output_type": "stream",
          "text": [
            "Epoch 69, VAL_Loss: 0.20792222023010254\n"
          ]
        },
        {
          "name": "stderr",
          "output_type": "stream",
          "text": [
            "train: 100%|██████████| 402/402 [04:34<00:00,  1.46it/s]\n"
          ]
        },
        {
          "name": "stdout",
          "output_type": "stream",
          "text": [
            "Epoch 70, Loss: 0.20764139754262137\n"
          ]
        },
        {
          "name": "stderr",
          "output_type": "stream",
          "text": [
            "validation: 100%|██████████| 45/45 [00:18<00:00,  2.47it/s]\n"
          ]
        },
        {
          "name": "stdout",
          "output_type": "stream",
          "text": [
            "Epoch 70, VAL_Loss: 0.20334315299987793\n"
          ]
        },
        {
          "name": "stderr",
          "output_type": "stream",
          "text": [
            "train: 100%|██████████| 402/402 [04:34<00:00,  1.46it/s]\n"
          ]
        },
        {
          "name": "stdout",
          "output_type": "stream",
          "text": [
            "Epoch 71, Loss: 0.20727210332505144\n"
          ]
        },
        {
          "name": "stderr",
          "output_type": "stream",
          "text": [
            "validation: 100%|██████████| 45/45 [00:18<00:00,  2.47it/s]\n"
          ]
        },
        {
          "name": "stdout",
          "output_type": "stream",
          "text": [
            "Epoch 71, VAL_Loss: 0.25498420000076294\n"
          ]
        },
        {
          "name": "stderr",
          "output_type": "stream",
          "text": [
            "train: 100%|██████████| 402/402 [04:34<00:00,  1.46it/s]\n"
          ]
        },
        {
          "name": "stdout",
          "output_type": "stream",
          "text": [
            "Epoch 72, Loss: 0.20664273447065212\n"
          ]
        },
        {
          "name": "stderr",
          "output_type": "stream",
          "text": [
            "validation: 100%|██████████| 45/45 [00:18<00:00,  2.47it/s]\n"
          ]
        },
        {
          "name": "stdout",
          "output_type": "stream",
          "text": [
            "Epoch 72, VAL_Loss: 0.20379406213760376\n"
          ]
        },
        {
          "name": "stderr",
          "output_type": "stream",
          "text": [
            "train: 100%|██████████| 402/402 [04:34<00:00,  1.46it/s]\n"
          ]
        },
        {
          "name": "stdout",
          "output_type": "stream",
          "text": [
            "Epoch 73, Loss: 0.20565440805990304\n"
          ]
        },
        {
          "name": "stderr",
          "output_type": "stream",
          "text": [
            "validation: 100%|██████████| 45/45 [00:18<00:00,  2.47it/s]\n"
          ]
        },
        {
          "name": "stdout",
          "output_type": "stream",
          "text": [
            "Epoch 73, VAL_Loss: 0.21297574043273926\n"
          ]
        },
        {
          "name": "stderr",
          "output_type": "stream",
          "text": [
            "train: 100%|██████████| 402/402 [04:34<00:00,  1.46it/s]\n"
          ]
        },
        {
          "name": "stdout",
          "output_type": "stream",
          "text": [
            "Epoch 74, Loss: 0.2049172713388851\n"
          ]
        },
        {
          "name": "stderr",
          "output_type": "stream",
          "text": [
            "validation: 100%|██████████| 45/45 [00:18<00:00,  2.46it/s]\n"
          ]
        },
        {
          "name": "stdout",
          "output_type": "stream",
          "text": [
            "Epoch 74, VAL_Loss: 0.2526487112045288\n"
          ]
        },
        {
          "name": "stderr",
          "output_type": "stream",
          "text": [
            "train: 100%|██████████| 402/402 [04:34<00:00,  1.46it/s]\n"
          ]
        },
        {
          "name": "stdout",
          "output_type": "stream",
          "text": [
            "Epoch 75, Loss: 0.20423705838806\n"
          ]
        },
        {
          "name": "stderr",
          "output_type": "stream",
          "text": [
            "validation: 100%|██████████| 45/45 [00:18<00:00,  2.46it/s]\n"
          ]
        },
        {
          "name": "stdout",
          "output_type": "stream",
          "text": [
            "Epoch 75, VAL_Loss: 0.20171105861663818\n"
          ]
        },
        {
          "name": "stderr",
          "output_type": "stream",
          "text": [
            "train: 100%|██████████| 402/402 [04:34<00:00,  1.46it/s]\n"
          ]
        },
        {
          "name": "stdout",
          "output_type": "stream",
          "text": [
            "Epoch 76, Loss: 0.2037837950151358\n"
          ]
        },
        {
          "name": "stderr",
          "output_type": "stream",
          "text": [
            "validation: 100%|██████████| 45/45 [00:18<00:00,  2.47it/s]\n"
          ]
        },
        {
          "name": "stdout",
          "output_type": "stream",
          "text": [
            "Epoch 76, VAL_Loss: 0.14045113325119019\n"
          ]
        },
        {
          "name": "stderr",
          "output_type": "stream",
          "text": [
            "train: 100%|██████████| 402/402 [04:34<00:00,  1.46it/s]\n"
          ]
        },
        {
          "name": "stdout",
          "output_type": "stream",
          "text": [
            "Epoch 77, Loss: 0.20266214769278\n"
          ]
        },
        {
          "name": "stderr",
          "output_type": "stream",
          "text": [
            "validation: 100%|██████████| 45/45 [00:18<00:00,  2.47it/s]\n"
          ]
        },
        {
          "name": "stdout",
          "output_type": "stream",
          "text": [
            "Epoch 77, VAL_Loss: 0.263075590133667\n"
          ]
        },
        {
          "name": "stderr",
          "output_type": "stream",
          "text": [
            "train: 100%|██████████| 402/402 [04:34<00:00,  1.46it/s]\n"
          ]
        },
        {
          "name": "stdout",
          "output_type": "stream",
          "text": [
            "Epoch 78, Loss: 0.20233660180177263\n"
          ]
        },
        {
          "name": "stderr",
          "output_type": "stream",
          "text": [
            "validation: 100%|██████████| 45/45 [00:18<00:00,  2.46it/s]\n"
          ]
        },
        {
          "name": "stdout",
          "output_type": "stream",
          "text": [
            "Epoch 78, VAL_Loss: 0.20169347524642944\n"
          ]
        },
        {
          "name": "stderr",
          "output_type": "stream",
          "text": [
            "train: 100%|██████████| 402/402 [04:34<00:00,  1.46it/s]\n"
          ]
        },
        {
          "name": "stdout",
          "output_type": "stream",
          "text": [
            "Epoch 79, Loss: 0.201859210261065\n"
          ]
        },
        {
          "name": "stderr",
          "output_type": "stream",
          "text": [
            "validation: 100%|██████████| 45/45 [00:18<00:00,  2.47it/s]\n"
          ]
        },
        {
          "name": "stdout",
          "output_type": "stream",
          "text": [
            "Epoch 79, VAL_Loss: 0.19586342573165894\n"
          ]
        },
        {
          "name": "stderr",
          "output_type": "stream",
          "text": [
            "train: 100%|██████████| 402/402 [04:35<00:00,  1.46it/s]\n"
          ]
        },
        {
          "name": "stdout",
          "output_type": "stream",
          "text": [
            "Epoch 80, Loss: 0.20153185324882394\n"
          ]
        },
        {
          "name": "stderr",
          "output_type": "stream",
          "text": [
            "validation: 100%|██████████| 45/45 [00:18<00:00,  2.47it/s]\n"
          ]
        },
        {
          "name": "stdout",
          "output_type": "stream",
          "text": [
            "Epoch 80, VAL_Loss: 0.23956161737442017\n"
          ]
        },
        {
          "name": "stderr",
          "output_type": "stream",
          "text": [
            "train: 100%|██████████| 402/402 [04:35<00:00,  1.46it/s]\n"
          ]
        },
        {
          "name": "stdout",
          "output_type": "stream",
          "text": [
            "Epoch 81, Loss: 0.20013967838453417\n"
          ]
        },
        {
          "name": "stderr",
          "output_type": "stream",
          "text": [
            "validation: 100%|██████████| 45/45 [00:18<00:00,  2.46it/s]\n"
          ]
        },
        {
          "name": "stdout",
          "output_type": "stream",
          "text": [
            "Epoch 81, VAL_Loss: 0.19205009937286377\n"
          ]
        },
        {
          "name": "stderr",
          "output_type": "stream",
          "text": [
            "train: 100%|██████████| 402/402 [04:34<00:00,  1.46it/s]\n"
          ]
        },
        {
          "name": "stdout",
          "output_type": "stream",
          "text": [
            "Epoch 82, Loss: 0.20037102476874394\n"
          ]
        },
        {
          "name": "stderr",
          "output_type": "stream",
          "text": [
            "validation: 100%|██████████| 45/45 [00:18<00:00,  2.46it/s]\n"
          ]
        },
        {
          "name": "stdout",
          "output_type": "stream",
          "text": [
            "Epoch 82, VAL_Loss: 0.1491086483001709\n"
          ]
        },
        {
          "name": "stderr",
          "output_type": "stream",
          "text": [
            "train: 100%|██████████| 402/402 [04:34<00:00,  1.46it/s]\n"
          ]
        },
        {
          "name": "stdout",
          "output_type": "stream",
          "text": [
            "Epoch 83, Loss: 0.2001739903468991\n"
          ]
        },
        {
          "name": "stderr",
          "output_type": "stream",
          "text": [
            "validation: 100%|██████████| 45/45 [00:18<00:00,  2.47it/s]\n"
          ]
        },
        {
          "name": "stdout",
          "output_type": "stream",
          "text": [
            "Epoch 83, VAL_Loss: 0.23545372486114502\n"
          ]
        },
        {
          "name": "stderr",
          "output_type": "stream",
          "text": [
            "train: 100%|██████████| 402/402 [04:34<00:00,  1.46it/s]\n"
          ]
        },
        {
          "name": "stdout",
          "output_type": "stream",
          "text": [
            "Epoch 84, Loss: 0.19934052065830327\n"
          ]
        },
        {
          "name": "stderr",
          "output_type": "stream",
          "text": [
            "validation: 100%|██████████| 45/45 [00:18<00:00,  2.47it/s]\n"
          ]
        },
        {
          "name": "stdout",
          "output_type": "stream",
          "text": [
            "Epoch 84, VAL_Loss: 0.18450182676315308\n"
          ]
        },
        {
          "name": "stderr",
          "output_type": "stream",
          "text": [
            "train: 100%|██████████| 402/402 [04:34<00:00,  1.46it/s]\n"
          ]
        },
        {
          "name": "stdout",
          "output_type": "stream",
          "text": [
            "Epoch 85, Loss: 0.19870200382536324\n"
          ]
        },
        {
          "name": "stderr",
          "output_type": "stream",
          "text": [
            "validation: 100%|██████████| 45/45 [00:18<00:00,  2.47it/s]\n"
          ]
        },
        {
          "name": "stdout",
          "output_type": "stream",
          "text": [
            "Epoch 85, VAL_Loss: 0.23301339149475098\n"
          ]
        },
        {
          "name": "stderr",
          "output_type": "stream",
          "text": [
            "train: 100%|██████████| 402/402 [04:34<00:00,  1.46it/s]\n"
          ]
        },
        {
          "name": "stdout",
          "output_type": "stream",
          "text": [
            "Epoch 86, Loss: 0.19872912082506056\n"
          ]
        },
        {
          "name": "stderr",
          "output_type": "stream",
          "text": [
            "validation: 100%|██████████| 45/45 [00:18<00:00,  2.47it/s]\n"
          ]
        },
        {
          "name": "stdout",
          "output_type": "stream",
          "text": [
            "Epoch 86, VAL_Loss: 0.1897881031036377\n"
          ]
        },
        {
          "name": "stderr",
          "output_type": "stream",
          "text": [
            "train: 100%|██████████| 402/402 [04:34<00:00,  1.46it/s]\n"
          ]
        },
        {
          "name": "stdout",
          "output_type": "stream",
          "text": [
            "Epoch 87, Loss: 0.19791804009409092\n"
          ]
        },
        {
          "name": "stderr",
          "output_type": "stream",
          "text": [
            "validation: 100%|██████████| 45/45 [00:18<00:00,  2.47it/s]\n"
          ]
        },
        {
          "name": "stdout",
          "output_type": "stream",
          "text": [
            "Epoch 87, VAL_Loss: 0.19501638412475586\n"
          ]
        },
        {
          "name": "stderr",
          "output_type": "stream",
          "text": [
            "train: 100%|██████████| 402/402 [04:34<00:00,  1.46it/s]\n"
          ]
        },
        {
          "name": "stdout",
          "output_type": "stream",
          "text": [
            "Epoch 88, Loss: 0.19802104922669445\n"
          ]
        },
        {
          "name": "stderr",
          "output_type": "stream",
          "text": [
            "validation: 100%|██████████| 45/45 [00:18<00:00,  2.47it/s]\n"
          ]
        },
        {
          "name": "stdout",
          "output_type": "stream",
          "text": [
            "Epoch 88, VAL_Loss: 0.17392778396606445\n"
          ]
        },
        {
          "name": "stderr",
          "output_type": "stream",
          "text": [
            "train: 100%|██████████| 402/402 [04:34<00:00,  1.46it/s]\n"
          ]
        },
        {
          "name": "stdout",
          "output_type": "stream",
          "text": [
            "Epoch 89, Loss: 0.1976452920567337\n"
          ]
        },
        {
          "name": "stderr",
          "output_type": "stream",
          "text": [
            "validation: 100%|██████████| 45/45 [00:18<00:00,  2.47it/s]\n"
          ]
        },
        {
          "name": "stdout",
          "output_type": "stream",
          "text": [
            "Epoch 89, VAL_Loss: 0.19186854362487793\n"
          ]
        },
        {
          "name": "stderr",
          "output_type": "stream",
          "text": [
            "train: 100%|██████████| 402/402 [04:35<00:00,  1.46it/s]\n"
          ]
        },
        {
          "name": "stdout",
          "output_type": "stream",
          "text": [
            "Epoch 90, Loss: 0.19763697557781465\n"
          ]
        },
        {
          "name": "stderr",
          "output_type": "stream",
          "text": [
            "validation: 100%|██████████| 45/45 [00:18<00:00,  2.47it/s]\n"
          ]
        },
        {
          "name": "stdout",
          "output_type": "stream",
          "text": [
            "Epoch 90, VAL_Loss: 0.18287527561187744\n"
          ]
        },
        {
          "name": "stderr",
          "output_type": "stream",
          "text": [
            "train: 100%|██████████| 402/402 [04:34<00:00,  1.46it/s]\n"
          ]
        },
        {
          "name": "stdout",
          "output_type": "stream",
          "text": [
            "Epoch 91, Loss: 0.19679045425125616\n"
          ]
        },
        {
          "name": "stderr",
          "output_type": "stream",
          "text": [
            "validation: 100%|██████████| 45/45 [00:18<00:00,  2.47it/s]\n"
          ]
        },
        {
          "name": "stdout",
          "output_type": "stream",
          "text": [
            "Epoch 91, VAL_Loss: 0.19073015451431274\n"
          ]
        },
        {
          "name": "stderr",
          "output_type": "stream",
          "text": [
            "train: 100%|██████████| 402/402 [04:34<00:00,  1.46it/s]\n"
          ]
        },
        {
          "name": "stdout",
          "output_type": "stream",
          "text": [
            "Epoch 92, Loss: 0.19642333827208525\n"
          ]
        },
        {
          "name": "stderr",
          "output_type": "stream",
          "text": [
            "validation: 100%|██████████| 45/45 [00:18<00:00,  2.45it/s]\n"
          ]
        },
        {
          "name": "stdout",
          "output_type": "stream",
          "text": [
            "Epoch 92, VAL_Loss: 0.14243441820144653\n"
          ]
        },
        {
          "name": "stderr",
          "output_type": "stream",
          "text": [
            "train: 100%|██████████| 402/402 [04:35<00:00,  1.46it/s]\n"
          ]
        },
        {
          "name": "stdout",
          "output_type": "stream",
          "text": [
            "Epoch 93, Loss: 0.19662106259545284\n"
          ]
        },
        {
          "name": "stderr",
          "output_type": "stream",
          "text": [
            "validation: 100%|██████████| 45/45 [00:18<00:00,  2.46it/s]\n"
          ]
        },
        {
          "name": "stdout",
          "output_type": "stream",
          "text": [
            "Epoch 93, VAL_Loss: 0.19074738025665283\n"
          ]
        },
        {
          "name": "stderr",
          "output_type": "stream",
          "text": [
            "train: 100%|██████████| 402/402 [04:34<00:00,  1.46it/s]\n"
          ]
        },
        {
          "name": "stdout",
          "output_type": "stream",
          "text": [
            "Epoch 94, Loss: 0.1959332187673939\n"
          ]
        },
        {
          "name": "stderr",
          "output_type": "stream",
          "text": [
            "validation: 100%|██████████| 45/45 [00:18<00:00,  2.47it/s]\n"
          ]
        },
        {
          "name": "stdout",
          "output_type": "stream",
          "text": [
            "Epoch 94, VAL_Loss: 0.16966509819030762\n"
          ]
        },
        {
          "name": "stderr",
          "output_type": "stream",
          "text": [
            "train: 100%|██████████| 402/402 [04:34<00:00,  1.46it/s]\n"
          ]
        },
        {
          "name": "stdout",
          "output_type": "stream",
          "text": [
            "Epoch 95, Loss: 0.19623489018103377\n"
          ]
        },
        {
          "name": "stderr",
          "output_type": "stream",
          "text": [
            "validation: 100%|██████████| 45/45 [00:18<00:00,  2.47it/s]\n"
          ]
        },
        {
          "name": "stdout",
          "output_type": "stream",
          "text": [
            "Epoch 95, VAL_Loss: 0.19049936532974243\n"
          ]
        },
        {
          "name": "stderr",
          "output_type": "stream",
          "text": [
            "train: 100%|██████████| 402/402 [04:34<00:00,  1.46it/s]\n"
          ]
        },
        {
          "name": "stdout",
          "output_type": "stream",
          "text": [
            "Epoch 96, Loss: 0.19619850688312776\n"
          ]
        },
        {
          "name": "stderr",
          "output_type": "stream",
          "text": [
            "validation: 100%|██████████| 45/45 [00:18<00:00,  2.47it/s]\n"
          ]
        },
        {
          "name": "stdout",
          "output_type": "stream",
          "text": [
            "Epoch 96, VAL_Loss: 0.20409125089645386\n"
          ]
        },
        {
          "name": "stderr",
          "output_type": "stream",
          "text": [
            "train: 100%|██████████| 402/402 [04:34<00:00,  1.46it/s]\n"
          ]
        },
        {
          "name": "stdout",
          "output_type": "stream",
          "text": [
            "Epoch 97, Loss: 0.1956392827615216\n"
          ]
        },
        {
          "name": "stderr",
          "output_type": "stream",
          "text": [
            "validation: 100%|██████████| 45/45 [00:18<00:00,  2.46it/s]\n"
          ]
        },
        {
          "name": "stdout",
          "output_type": "stream",
          "text": [
            "Epoch 97, VAL_Loss: 0.23256248235702515\n"
          ]
        },
        {
          "name": "stderr",
          "output_type": "stream",
          "text": [
            "train: 100%|██████████| 402/402 [04:34<00:00,  1.46it/s]\n"
          ]
        },
        {
          "name": "stdout",
          "output_type": "stream",
          "text": [
            "Epoch 98, Loss: 0.19607597915687372\n"
          ]
        },
        {
          "name": "stderr",
          "output_type": "stream",
          "text": [
            "validation: 100%|██████████| 45/45 [00:18<00:00,  2.47it/s]\n"
          ]
        },
        {
          "name": "stdout",
          "output_type": "stream",
          "text": [
            "Epoch 98, VAL_Loss: 0.2041565179824829\n"
          ]
        },
        {
          "name": "stderr",
          "output_type": "stream",
          "text": [
            "train: 100%|██████████| 402/402 [04:34<00:00,  1.46it/s]\n"
          ]
        },
        {
          "name": "stdout",
          "output_type": "stream",
          "text": [
            "Epoch 99, Loss: 0.1957545348660863\n"
          ]
        },
        {
          "name": "stderr",
          "output_type": "stream",
          "text": [
            "validation: 100%|██████████| 45/45 [00:18<00:00,  2.47it/s]\n"
          ]
        },
        {
          "name": "stdout",
          "output_type": "stream",
          "text": [
            "Epoch 99, VAL_Loss: 0.19604533910751343\n"
          ]
        },
        {
          "name": "stderr",
          "output_type": "stream",
          "text": [
            "train: 100%|██████████| 402/402 [04:34<00:00,  1.46it/s]\n"
          ]
        },
        {
          "name": "stdout",
          "output_type": "stream",
          "text": [
            "Epoch 100, Loss: 0.1956379505532298\n"
          ]
        },
        {
          "name": "stderr",
          "output_type": "stream",
          "text": [
            "validation: 100%|██████████| 45/45 [00:18<00:00,  2.47it/s]\n"
          ]
        },
        {
          "name": "stdout",
          "output_type": "stream",
          "text": [
            "Epoch 100, VAL_Loss: 0.19304442405700684\n"
          ]
        },
        {
          "name": "stderr",
          "output_type": "stream",
          "text": [
            "train: 100%|██████████| 402/402 [04:34<00:00,  1.46it/s]\n"
          ]
        },
        {
          "name": "stdout",
          "output_type": "stream",
          "text": [
            "Epoch 101, Loss: 0.1953842973531182\n"
          ]
        },
        {
          "name": "stderr",
          "output_type": "stream",
          "text": [
            "validation: 100%|██████████| 45/45 [00:18<00:00,  2.48it/s]\n"
          ]
        },
        {
          "name": "stdout",
          "output_type": "stream",
          "text": [
            "Epoch 101, VAL_Loss: 0.19221919775009155\n"
          ]
        },
        {
          "name": "stderr",
          "output_type": "stream",
          "text": [
            "train: 100%|██████████| 402/402 [04:34<00:00,  1.46it/s]\n"
          ]
        },
        {
          "name": "stdout",
          "output_type": "stream",
          "text": [
            "Epoch 102, Loss: 0.19533127931813102\n"
          ]
        },
        {
          "name": "stderr",
          "output_type": "stream",
          "text": [
            "validation: 100%|██████████| 45/45 [00:18<00:00,  2.46it/s]\n"
          ]
        },
        {
          "name": "stdout",
          "output_type": "stream",
          "text": [
            "Epoch 102, VAL_Loss: 0.24139726161956787\n"
          ]
        },
        {
          "name": "stderr",
          "output_type": "stream",
          "text": [
            "train: 100%|██████████| 402/402 [04:34<00:00,  1.46it/s]\n"
          ]
        },
        {
          "name": "stdout",
          "output_type": "stream",
          "text": [
            "Epoch 103, Loss: 0.19539884414838915\n"
          ]
        },
        {
          "name": "stderr",
          "output_type": "stream",
          "text": [
            "validation: 100%|██████████| 45/45 [00:18<00:00,  2.47it/s]\n"
          ]
        },
        {
          "name": "stdout",
          "output_type": "stream",
          "text": [
            "Epoch 103, VAL_Loss: 0.2114059329032898\n"
          ]
        },
        {
          "name": "stderr",
          "output_type": "stream",
          "text": [
            "train: 100%|██████████| 402/402 [04:34<00:00,  1.46it/s]\n"
          ]
        },
        {
          "name": "stdout",
          "output_type": "stream",
          "text": [
            "Epoch 104, Loss: 0.19558087198888485\n"
          ]
        },
        {
          "name": "stderr",
          "output_type": "stream",
          "text": [
            "validation: 100%|██████████| 45/45 [00:18<00:00,  2.48it/s]\n"
          ]
        },
        {
          "name": "stdout",
          "output_type": "stream",
          "text": [
            "Epoch 104, VAL_Loss: 0.2099187970161438\n"
          ]
        },
        {
          "name": "stderr",
          "output_type": "stream",
          "text": [
            "train: 100%|██████████| 402/402 [04:34<00:00,  1.46it/s]\n"
          ]
        },
        {
          "name": "stdout",
          "output_type": "stream",
          "text": [
            "Epoch 105, Loss: 0.19496332635333882\n"
          ]
        },
        {
          "name": "stderr",
          "output_type": "stream",
          "text": [
            "validation: 100%|██████████| 45/45 [00:18<00:00,  2.47it/s]\n"
          ]
        },
        {
          "name": "stdout",
          "output_type": "stream",
          "text": [
            "Epoch 105, VAL_Loss: 0.21290093660354614\n"
          ]
        },
        {
          "name": "stderr",
          "output_type": "stream",
          "text": [
            "train: 100%|██████████| 402/402 [04:34<00:00,  1.47it/s]\n"
          ]
        },
        {
          "name": "stdout",
          "output_type": "stream",
          "text": [
            "Epoch 106, Loss: 0.19496959566476926\n"
          ]
        },
        {
          "name": "stderr",
          "output_type": "stream",
          "text": [
            "validation: 100%|██████████| 45/45 [00:18<00:00,  2.48it/s]\n"
          ]
        },
        {
          "name": "stdout",
          "output_type": "stream",
          "text": [
            "Epoch 106, VAL_Loss: 0.20511460304260254\n"
          ]
        },
        {
          "name": "stderr",
          "output_type": "stream",
          "text": [
            "train: 100%|██████████| 402/402 [04:34<00:00,  1.47it/s]\n"
          ]
        },
        {
          "name": "stdout",
          "output_type": "stream",
          "text": [
            "Epoch 107, Loss: 0.1953947971116251\n"
          ]
        },
        {
          "name": "stderr",
          "output_type": "stream",
          "text": [
            "validation: 100%|██████████| 45/45 [00:18<00:00,  2.47it/s]\n"
          ]
        },
        {
          "name": "stdout",
          "output_type": "stream",
          "text": [
            "Epoch 107, VAL_Loss: 0.14338034391403198\n"
          ]
        },
        {
          "name": "stderr",
          "output_type": "stream",
          "text": [
            "train: 100%|██████████| 402/402 [04:34<00:00,  1.47it/s]\n"
          ]
        },
        {
          "name": "stdout",
          "output_type": "stream",
          "text": [
            "Epoch 108, Loss: 0.19518615891091265\n"
          ]
        },
        {
          "name": "stderr",
          "output_type": "stream",
          "text": [
            "validation: 100%|██████████| 45/45 [00:18<00:00,  2.47it/s]\n"
          ]
        },
        {
          "name": "stdout",
          "output_type": "stream",
          "text": [
            "Epoch 108, VAL_Loss: 0.2206982970237732\n"
          ]
        },
        {
          "name": "stderr",
          "output_type": "stream",
          "text": [
            "train: 100%|██████████| 402/402 [04:34<00:00,  1.47it/s]\n"
          ]
        },
        {
          "name": "stdout",
          "output_type": "stream",
          "text": [
            "Epoch 109, Loss: 0.19515875485999074\n"
          ]
        },
        {
          "name": "stderr",
          "output_type": "stream",
          "text": [
            "validation: 100%|██████████| 45/45 [00:18<00:00,  2.48it/s]\n"
          ]
        },
        {
          "name": "stdout",
          "output_type": "stream",
          "text": [
            "Epoch 109, VAL_Loss: 0.16741293668746948\n"
          ]
        },
        {
          "name": "stderr",
          "output_type": "stream",
          "text": [
            "train: 100%|██████████| 402/402 [04:34<00:00,  1.47it/s]\n"
          ]
        },
        {
          "name": "stdout",
          "output_type": "stream",
          "text": [
            "Epoch 110, Loss: 0.19504454984000666\n"
          ]
        },
        {
          "name": "stderr",
          "output_type": "stream",
          "text": [
            "validation: 100%|██████████| 45/45 [00:18<00:00,  2.47it/s]\n"
          ]
        },
        {
          "name": "stdout",
          "output_type": "stream",
          "text": [
            "Epoch 110, VAL_Loss: 0.19439399242401123\n"
          ]
        },
        {
          "name": "stderr",
          "output_type": "stream",
          "text": [
            "train: 100%|██████████| 402/402 [04:34<00:00,  1.47it/s]\n"
          ]
        },
        {
          "name": "stdout",
          "output_type": "stream",
          "text": [
            "Epoch 111, Loss: 0.19456504974792252\n"
          ]
        },
        {
          "name": "stderr",
          "output_type": "stream",
          "text": [
            "validation: 100%|██████████| 45/45 [00:18<00:00,  2.48it/s]\n"
          ]
        },
        {
          "name": "stdout",
          "output_type": "stream",
          "text": [
            "Epoch 111, VAL_Loss: 0.1253761649131775\n"
          ]
        },
        {
          "name": "stderr",
          "output_type": "stream",
          "text": [
            "train: 100%|██████████| 402/402 [04:34<00:00,  1.47it/s]\n"
          ]
        },
        {
          "name": "stdout",
          "output_type": "stream",
          "text": [
            "Epoch 112, Loss: 0.19541309010330124\n"
          ]
        },
        {
          "name": "stderr",
          "output_type": "stream",
          "text": [
            "validation: 100%|██████████| 45/45 [00:18<00:00,  2.49it/s]\n"
          ]
        },
        {
          "name": "stdout",
          "output_type": "stream",
          "text": [
            "Epoch 112, VAL_Loss: 0.21207982301712036\n"
          ]
        },
        {
          "name": "stderr",
          "output_type": "stream",
          "text": [
            "train: 100%|██████████| 402/402 [04:34<00:00,  1.46it/s]\n"
          ]
        },
        {
          "name": "stdout",
          "output_type": "stream",
          "text": [
            "Epoch 113, Loss: 0.19484060083455707\n"
          ]
        },
        {
          "name": "stderr",
          "output_type": "stream",
          "text": [
            "validation: 100%|██████████| 45/45 [00:18<00:00,  2.47it/s]\n"
          ]
        },
        {
          "name": "stdout",
          "output_type": "stream",
          "text": [
            "Epoch 113, VAL_Loss: 0.21932584047317505\n"
          ]
        },
        {
          "name": "stderr",
          "output_type": "stream",
          "text": [
            "train: 100%|██████████| 402/402 [04:34<00:00,  1.47it/s]\n"
          ]
        },
        {
          "name": "stdout",
          "output_type": "stream",
          "text": [
            "Epoch 114, Loss: 0.195635677421864\n"
          ]
        },
        {
          "name": "stderr",
          "output_type": "stream",
          "text": [
            "validation: 100%|██████████| 45/45 [00:18<00:00,  2.48it/s]\n"
          ]
        },
        {
          "name": "stdout",
          "output_type": "stream",
          "text": [
            "Epoch 114, VAL_Loss: 0.18526023626327515\n"
          ]
        },
        {
          "name": "stderr",
          "output_type": "stream",
          "text": [
            "train: 100%|██████████| 402/402 [04:34<00:00,  1.46it/s]\n"
          ]
        },
        {
          "name": "stdout",
          "output_type": "stream",
          "text": [
            "Epoch 115, Loss: 0.19465008704223444\n"
          ]
        },
        {
          "name": "stderr",
          "output_type": "stream",
          "text": [
            "validation: 100%|██████████| 45/45 [00:18<00:00,  2.48it/s]\n"
          ]
        },
        {
          "name": "stdout",
          "output_type": "stream",
          "text": [
            "Epoch 115, VAL_Loss: 0.17814159393310547\n"
          ]
        },
        {
          "name": "stderr",
          "output_type": "stream",
          "text": [
            "train: 100%|██████████| 402/402 [04:34<00:00,  1.46it/s]\n"
          ]
        },
        {
          "name": "stdout",
          "output_type": "stream",
          "text": [
            "Epoch 116, Loss: 0.19502508877521724\n"
          ]
        },
        {
          "name": "stderr",
          "output_type": "stream",
          "text": [
            "validation: 100%|██████████| 45/45 [00:18<00:00,  2.48it/s]\n"
          ]
        },
        {
          "name": "stdout",
          "output_type": "stream",
          "text": [
            "Epoch 116, VAL_Loss: 0.18308627605438232\n"
          ]
        },
        {
          "name": "stderr",
          "output_type": "stream",
          "text": [
            "train: 100%|██████████| 402/402 [04:34<00:00,  1.47it/s]\n"
          ]
        },
        {
          "name": "stdout",
          "output_type": "stream",
          "text": [
            "Epoch 117, Loss: 0.1947250047429877\n"
          ]
        },
        {
          "name": "stderr",
          "output_type": "stream",
          "text": [
            "validation: 100%|██████████| 45/45 [00:18<00:00,  2.47it/s]\n"
          ]
        },
        {
          "name": "stdout",
          "output_type": "stream",
          "text": [
            "Epoch 117, VAL_Loss: 0.15963566303253174\n"
          ]
        },
        {
          "name": "stderr",
          "output_type": "stream",
          "text": [
            "train: 100%|██████████| 402/402 [04:34<00:00,  1.47it/s]\n"
          ]
        },
        {
          "name": "stdout",
          "output_type": "stream",
          "text": [
            "Epoch 118, Loss: 0.1946443833818483\n"
          ]
        },
        {
          "name": "stderr",
          "output_type": "stream",
          "text": [
            "validation: 100%|██████████| 45/45 [00:18<00:00,  2.47it/s]\n"
          ]
        },
        {
          "name": "stdout",
          "output_type": "stream",
          "text": [
            "Epoch 118, VAL_Loss: 0.22272080183029175\n"
          ]
        },
        {
          "name": "stderr",
          "output_type": "stream",
          "text": [
            "train: 100%|██████████| 402/402 [04:34<00:00,  1.47it/s]\n"
          ]
        },
        {
          "name": "stdout",
          "output_type": "stream",
          "text": [
            "Epoch 119, Loss: 0.1948445891562979\n"
          ]
        },
        {
          "name": "stderr",
          "output_type": "stream",
          "text": [
            "validation: 100%|██████████| 45/45 [00:18<00:00,  2.48it/s]\n"
          ]
        },
        {
          "name": "stdout",
          "output_type": "stream",
          "text": [
            "Epoch 119, VAL_Loss: 0.17793548107147217\n"
          ]
        },
        {
          "name": "stderr",
          "output_type": "stream",
          "text": [
            "train: 100%|██████████| 402/402 [04:34<00:00,  1.46it/s]\n"
          ]
        },
        {
          "name": "stdout",
          "output_type": "stream",
          "text": [
            "Epoch 120, Loss: 0.19500751652527804\n"
          ]
        },
        {
          "name": "stderr",
          "output_type": "stream",
          "text": [
            "validation: 100%|██████████| 45/45 [00:18<00:00,  2.48it/s]\n"
          ]
        },
        {
          "name": "stdout",
          "output_type": "stream",
          "text": [
            "Epoch 120, VAL_Loss: 0.2037590742111206\n"
          ]
        },
        {
          "name": "stderr",
          "output_type": "stream",
          "text": [
            "train: 100%|██████████| 402/402 [04:34<00:00,  1.47it/s]\n"
          ]
        },
        {
          "name": "stdout",
          "output_type": "stream",
          "text": [
            "Epoch 121, Loss: 0.1948312237784637\n"
          ]
        },
        {
          "name": "stderr",
          "output_type": "stream",
          "text": [
            "validation: 100%|██████████| 45/45 [00:18<00:00,  2.47it/s]\n"
          ]
        },
        {
          "name": "stdout",
          "output_type": "stream",
          "text": [
            "Epoch 121, VAL_Loss: 0.1490333080291748\n"
          ]
        },
        {
          "name": "stderr",
          "output_type": "stream",
          "text": [
            "train: 100%|██████████| 402/402 [04:34<00:00,  1.46it/s]\n"
          ]
        },
        {
          "name": "stdout",
          "output_type": "stream",
          "text": [
            "Epoch 122, Loss: 0.19427338791130788\n"
          ]
        },
        {
          "name": "stderr",
          "output_type": "stream",
          "text": [
            "validation: 100%|██████████| 45/45 [00:18<00:00,  2.47it/s]\n"
          ]
        },
        {
          "name": "stdout",
          "output_type": "stream",
          "text": [
            "Epoch 122, VAL_Loss: 0.23261839151382446\n"
          ]
        },
        {
          "name": "stderr",
          "output_type": "stream",
          "text": [
            "train: 100%|██████████| 402/402 [04:34<00:00,  1.46it/s]\n"
          ]
        },
        {
          "name": "stdout",
          "output_type": "stream",
          "text": [
            "Epoch 123, Loss: 0.19464790954518674\n"
          ]
        },
        {
          "name": "stderr",
          "output_type": "stream",
          "text": [
            "validation: 100%|██████████| 45/45 [00:18<00:00,  2.47it/s]\n"
          ]
        },
        {
          "name": "stdout",
          "output_type": "stream",
          "text": [
            "Epoch 123, VAL_Loss: 0.21156030893325806\n"
          ]
        },
        {
          "name": "stderr",
          "output_type": "stream",
          "text": [
            "train: 100%|██████████| 402/402 [04:34<00:00,  1.46it/s]\n"
          ]
        },
        {
          "name": "stdout",
          "output_type": "stream",
          "text": [
            "Epoch 124, Loss: 0.19555289872843234\n"
          ]
        },
        {
          "name": "stderr",
          "output_type": "stream",
          "text": [
            "validation: 100%|██████████| 45/45 [00:18<00:00,  2.47it/s]\n"
          ]
        },
        {
          "name": "stdout",
          "output_type": "stream",
          "text": [
            "Epoch 124, VAL_Loss: 0.18662035465240479\n"
          ]
        },
        {
          "name": "stderr",
          "output_type": "stream",
          "text": [
            "train: 100%|██████████| 402/402 [04:34<00:00,  1.47it/s]\n"
          ]
        },
        {
          "name": "stdout",
          "output_type": "stream",
          "text": [
            "Epoch 125, Loss: 0.19496623927087925\n"
          ]
        },
        {
          "name": "stderr",
          "output_type": "stream",
          "text": [
            "validation: 100%|██████████| 45/45 [00:18<00:00,  2.48it/s]\n"
          ]
        },
        {
          "name": "stdout",
          "output_type": "stream",
          "text": [
            "Epoch 125, VAL_Loss: 0.20349061489105225\n"
          ]
        },
        {
          "name": "stderr",
          "output_type": "stream",
          "text": [
            "train: 100%|██████████| 402/402 [04:34<00:00,  1.46it/s]\n"
          ]
        },
        {
          "name": "stdout",
          "output_type": "stream",
          "text": [
            "Epoch 126, Loss: 0.19585755393279725\n"
          ]
        },
        {
          "name": "stderr",
          "output_type": "stream",
          "text": [
            "validation: 100%|██████████| 45/45 [00:18<00:00,  2.47it/s]\n"
          ]
        },
        {
          "name": "stdout",
          "output_type": "stream",
          "text": [
            "Epoch 126, VAL_Loss: 0.22892773151397705\n"
          ]
        },
        {
          "name": "stderr",
          "output_type": "stream",
          "text": [
            "train: 100%|██████████| 402/402 [04:34<00:00,  1.46it/s]\n"
          ]
        },
        {
          "name": "stdout",
          "output_type": "stream",
          "text": [
            "Epoch 127, Loss: 0.1952180496199214\n"
          ]
        },
        {
          "name": "stderr",
          "output_type": "stream",
          "text": [
            "validation: 100%|██████████| 45/45 [00:18<00:00,  2.48it/s]\n"
          ]
        },
        {
          "name": "stdout",
          "output_type": "stream",
          "text": [
            "Epoch 127, VAL_Loss: 0.14757245779037476\n"
          ]
        },
        {
          "name": "stderr",
          "output_type": "stream",
          "text": [
            "train: 100%|██████████| 402/402 [04:34<00:00,  1.47it/s]\n"
          ]
        },
        {
          "name": "stdout",
          "output_type": "stream",
          "text": [
            "Epoch 128, Loss: 0.1953517096256142\n"
          ]
        },
        {
          "name": "stderr",
          "output_type": "stream",
          "text": [
            "validation: 100%|██████████| 45/45 [00:18<00:00,  2.47it/s]\n"
          ]
        },
        {
          "name": "stdout",
          "output_type": "stream",
          "text": [
            "Epoch 128, VAL_Loss: 0.2001255750656128\n"
          ]
        },
        {
          "name": "stderr",
          "output_type": "stream",
          "text": [
            "train: 100%|██████████| 402/402 [04:34<00:00,  1.46it/s]\n"
          ]
        },
        {
          "name": "stdout",
          "output_type": "stream",
          "text": [
            "Epoch 129, Loss: 0.19640737846123046\n"
          ]
        },
        {
          "name": "stderr",
          "output_type": "stream",
          "text": [
            "validation: 100%|██████████| 45/45 [00:18<00:00,  2.45it/s]\n"
          ]
        },
        {
          "name": "stdout",
          "output_type": "stream",
          "text": [
            "Epoch 129, VAL_Loss: 0.18538659811019897\n"
          ]
        },
        {
          "name": "stderr",
          "output_type": "stream",
          "text": [
            "train: 100%|██████████| 402/402 [04:35<00:00,  1.46it/s]\n"
          ]
        },
        {
          "name": "stdout",
          "output_type": "stream",
          "text": [
            "Epoch 130, Loss: 0.19531843184831724\n"
          ]
        },
        {
          "name": "stderr",
          "output_type": "stream",
          "text": [
            "validation: 100%|██████████| 45/45 [00:18<00:00,  2.48it/s]\n"
          ]
        },
        {
          "name": "stdout",
          "output_type": "stream",
          "text": [
            "Epoch 130, VAL_Loss: 0.18940865993499756\n"
          ]
        },
        {
          "name": "stderr",
          "output_type": "stream",
          "text": [
            "train: 100%|██████████| 402/402 [04:34<00:00,  1.46it/s]\n"
          ]
        },
        {
          "name": "stdout",
          "output_type": "stream",
          "text": [
            "Epoch 131, Loss: 0.1958113785703384\n"
          ]
        },
        {
          "name": "stderr",
          "output_type": "stream",
          "text": [
            "validation: 100%|██████████| 45/45 [00:18<00:00,  2.47it/s]\n"
          ]
        },
        {
          "name": "stdout",
          "output_type": "stream",
          "text": [
            "Epoch 131, VAL_Loss: 0.1757705807685852\n"
          ]
        },
        {
          "name": "stderr",
          "output_type": "stream",
          "text": [
            "train: 100%|██████████| 402/402 [04:34<00:00,  1.46it/s]\n"
          ]
        },
        {
          "name": "stdout",
          "output_type": "stream",
          "text": [
            "Epoch 132, Loss: 0.19619865619128024\n"
          ]
        },
        {
          "name": "stderr",
          "output_type": "stream",
          "text": [
            "validation: 100%|██████████| 45/45 [00:18<00:00,  2.48it/s]\n"
          ]
        },
        {
          "name": "stdout",
          "output_type": "stream",
          "text": [
            "Epoch 132, VAL_Loss: 0.1618778109550476\n"
          ]
        },
        {
          "name": "stderr",
          "output_type": "stream",
          "text": [
            "train: 100%|██████████| 402/402 [04:34<00:00,  1.46it/s]\n"
          ]
        },
        {
          "name": "stdout",
          "output_type": "stream",
          "text": [
            "Epoch 133, Loss: 0.1956737032577173\n"
          ]
        },
        {
          "name": "stderr",
          "output_type": "stream",
          "text": [
            "validation: 100%|██████████| 45/45 [00:18<00:00,  2.48it/s]\n"
          ]
        },
        {
          "name": "stdout",
          "output_type": "stream",
          "text": [
            "Epoch 133, VAL_Loss: 0.22540068626403809\n"
          ]
        },
        {
          "name": "stderr",
          "output_type": "stream",
          "text": [
            "train: 100%|██████████| 402/402 [04:34<00:00,  1.46it/s]\n"
          ]
        },
        {
          "name": "stdout",
          "output_type": "stream",
          "text": [
            "Epoch 134, Loss: 0.19660509225740955\n"
          ]
        },
        {
          "name": "stderr",
          "output_type": "stream",
          "text": [
            "validation: 100%|██████████| 45/45 [00:18<00:00,  2.48it/s]\n"
          ]
        },
        {
          "name": "stdout",
          "output_type": "stream",
          "text": [
            "Epoch 134, VAL_Loss: 0.21207958459854126\n"
          ]
        },
        {
          "name": "stderr",
          "output_type": "stream",
          "text": [
            "train: 100%|██████████| 402/402 [04:34<00:00,  1.47it/s]\n"
          ]
        },
        {
          "name": "stdout",
          "output_type": "stream",
          "text": [
            "Epoch 135, Loss: 0.19697064902651962\n"
          ]
        },
        {
          "name": "stderr",
          "output_type": "stream",
          "text": [
            "validation: 100%|██████████| 45/45 [00:18<00:00,  2.48it/s]\n"
          ]
        },
        {
          "name": "stdout",
          "output_type": "stream",
          "text": [
            "Epoch 135, VAL_Loss: 0.25064945220947266\n"
          ]
        },
        {
          "name": "stderr",
          "output_type": "stream",
          "text": [
            "train: 100%|██████████| 402/402 [04:34<00:00,  1.46it/s]\n"
          ]
        },
        {
          "name": "stdout",
          "output_type": "stream",
          "text": [
            "Epoch 136, Loss: 0.1965411212017287\n"
          ]
        },
        {
          "name": "stderr",
          "output_type": "stream",
          "text": [
            "validation: 100%|██████████| 45/45 [00:18<00:00,  2.48it/s]\n"
          ]
        },
        {
          "name": "stdout",
          "output_type": "stream",
          "text": [
            "Epoch 136, VAL_Loss: 0.133309006690979\n"
          ]
        },
        {
          "name": "stderr",
          "output_type": "stream",
          "text": [
            "train: 100%|██████████| 402/402 [04:34<00:00,  1.46it/s]\n"
          ]
        },
        {
          "name": "stdout",
          "output_type": "stream",
          "text": [
            "Epoch 137, Loss: 0.19738472397647686\n"
          ]
        },
        {
          "name": "stderr",
          "output_type": "stream",
          "text": [
            "validation: 100%|██████████| 45/45 [00:18<00:00,  2.47it/s]\n"
          ]
        },
        {
          "name": "stdout",
          "output_type": "stream",
          "text": [
            "Epoch 137, VAL_Loss: 0.23147684335708618\n"
          ]
        },
        {
          "name": "stderr",
          "output_type": "stream",
          "text": [
            "train: 100%|██████████| 402/402 [04:34<00:00,  1.46it/s]\n"
          ]
        },
        {
          "name": "stdout",
          "output_type": "stream",
          "text": [
            "Epoch 138, Loss: 0.19792616634226556\n"
          ]
        },
        {
          "name": "stderr",
          "output_type": "stream",
          "text": [
            "validation: 100%|██████████| 45/45 [00:18<00:00,  2.47it/s]\n"
          ]
        },
        {
          "name": "stdout",
          "output_type": "stream",
          "text": [
            "Epoch 138, VAL_Loss: 0.18465864658355713\n"
          ]
        },
        {
          "name": "stderr",
          "output_type": "stream",
          "text": [
            "train: 100%|██████████| 402/402 [04:34<00:00,  1.46it/s]\n"
          ]
        },
        {
          "name": "stdout",
          "output_type": "stream",
          "text": [
            "Epoch 139, Loss: 0.19905748251658767\n"
          ]
        },
        {
          "name": "stderr",
          "output_type": "stream",
          "text": [
            "validation: 100%|██████████| 45/45 [00:18<00:00,  2.49it/s]\n"
          ]
        },
        {
          "name": "stdout",
          "output_type": "stream",
          "text": [
            "Epoch 139, VAL_Loss: 0.19833248853683472\n"
          ]
        },
        {
          "name": "stderr",
          "output_type": "stream",
          "text": [
            "train: 100%|██████████| 402/402 [04:34<00:00,  1.46it/s]\n"
          ]
        },
        {
          "name": "stdout",
          "output_type": "stream",
          "text": [
            "Epoch 140, Loss: 0.19886316321975556\n"
          ]
        },
        {
          "name": "stderr",
          "output_type": "stream",
          "text": [
            "validation: 100%|██████████| 45/45 [00:18<00:00,  2.47it/s]\n"
          ]
        },
        {
          "name": "stdout",
          "output_type": "stream",
          "text": [
            "Epoch 140, VAL_Loss: 0.17574584484100342\n"
          ]
        },
        {
          "name": "stderr",
          "output_type": "stream",
          "text": [
            "train: 100%|██████████| 402/402 [04:34<00:00,  1.46it/s]\n"
          ]
        },
        {
          "name": "stdout",
          "output_type": "stream",
          "text": [
            "Epoch 141, Loss: 0.19781334216321877\n"
          ]
        },
        {
          "name": "stderr",
          "output_type": "stream",
          "text": [
            "validation: 100%|██████████| 45/45 [00:18<00:00,  2.47it/s]\n"
          ]
        },
        {
          "name": "stdout",
          "output_type": "stream",
          "text": [
            "Epoch 141, VAL_Loss: 0.2712175250053406\n"
          ]
        },
        {
          "name": "stderr",
          "output_type": "stream",
          "text": [
            "train: 100%|██████████| 402/402 [04:34<00:00,  1.46it/s]\n"
          ]
        },
        {
          "name": "stdout",
          "output_type": "stream",
          "text": [
            "Epoch 142, Loss: 0.19914151691085663\n"
          ]
        },
        {
          "name": "stderr",
          "output_type": "stream",
          "text": [
            "validation: 100%|██████████| 45/45 [00:18<00:00,  2.48it/s]\n"
          ]
        },
        {
          "name": "stdout",
          "output_type": "stream",
          "text": [
            "Epoch 142, VAL_Loss: 0.18574607372283936\n"
          ]
        },
        {
          "name": "stderr",
          "output_type": "stream",
          "text": [
            "train: 100%|██████████| 402/402 [04:35<00:00,  1.46it/s]\n"
          ]
        },
        {
          "name": "stdout",
          "output_type": "stream",
          "text": [
            "Epoch 143, Loss: 0.19967605507195885\n"
          ]
        },
        {
          "name": "stderr",
          "output_type": "stream",
          "text": [
            "validation: 100%|██████████| 45/45 [00:18<00:00,  2.48it/s]\n"
          ]
        },
        {
          "name": "stdout",
          "output_type": "stream",
          "text": [
            "Epoch 143, VAL_Loss: 0.192379891872406\n"
          ]
        },
        {
          "name": "stderr",
          "output_type": "stream",
          "text": [
            "train: 100%|██████████| 402/402 [04:34<00:00,  1.46it/s]\n"
          ]
        },
        {
          "name": "stdout",
          "output_type": "stream",
          "text": [
            "Epoch 144, Loss: 0.20031323080039143\n"
          ]
        },
        {
          "name": "stderr",
          "output_type": "stream",
          "text": [
            "validation: 100%|██████████| 45/45 [00:18<00:00,  2.48it/s]\n"
          ]
        },
        {
          "name": "stdout",
          "output_type": "stream",
          "text": [
            "Epoch 144, VAL_Loss: 0.20110821723937988\n"
          ]
        },
        {
          "name": "stderr",
          "output_type": "stream",
          "text": [
            "train: 100%|██████████| 402/402 [04:35<00:00,  1.46it/s]\n"
          ]
        },
        {
          "name": "stdout",
          "output_type": "stream",
          "text": [
            "Epoch 145, Loss: 0.20165296647679154\n"
          ]
        },
        {
          "name": "stderr",
          "output_type": "stream",
          "text": [
            "validation: 100%|██████████| 45/45 [00:18<00:00,  2.48it/s]\n"
          ]
        },
        {
          "name": "stdout",
          "output_type": "stream",
          "text": [
            "Epoch 145, VAL_Loss: 0.20037829875946045\n"
          ]
        },
        {
          "name": "stderr",
          "output_type": "stream",
          "text": [
            "train: 100%|██████████| 402/402 [04:34<00:00,  1.46it/s]\n"
          ]
        },
        {
          "name": "stdout",
          "output_type": "stream",
          "text": [
            "Epoch 146, Loss: 0.20018571437294805\n"
          ]
        },
        {
          "name": "stderr",
          "output_type": "stream",
          "text": [
            "validation: 100%|██████████| 45/45 [00:18<00:00,  2.48it/s]\n"
          ]
        },
        {
          "name": "stdout",
          "output_type": "stream",
          "text": [
            "Epoch 146, VAL_Loss: 0.24018198251724243\n"
          ]
        },
        {
          "name": "stderr",
          "output_type": "stream",
          "text": [
            "train: 100%|██████████| 402/402 [04:34<00:00,  1.46it/s]\n"
          ]
        },
        {
          "name": "stdout",
          "output_type": "stream",
          "text": [
            "Epoch 147, Loss: 0.20108785335697346\n"
          ]
        },
        {
          "name": "stderr",
          "output_type": "stream",
          "text": [
            "validation: 100%|██████████| 45/45 [00:18<00:00,  2.48it/s]\n"
          ]
        },
        {
          "name": "stdout",
          "output_type": "stream",
          "text": [
            "Epoch 147, VAL_Loss: 0.21068698167800903\n"
          ]
        },
        {
          "name": "stderr",
          "output_type": "stream",
          "text": [
            "train: 100%|██████████| 402/402 [04:34<00:00,  1.46it/s]\n"
          ]
        },
        {
          "name": "stdout",
          "output_type": "stream",
          "text": [
            "Epoch 148, Loss: 0.202170719406498\n"
          ]
        },
        {
          "name": "stderr",
          "output_type": "stream",
          "text": [
            "validation: 100%|██████████| 45/45 [00:18<00:00,  2.48it/s]\n"
          ]
        },
        {
          "name": "stdout",
          "output_type": "stream",
          "text": [
            "Epoch 148, VAL_Loss: 0.23781275749206543\n"
          ]
        },
        {
          "name": "stderr",
          "output_type": "stream",
          "text": [
            "train: 100%|██████████| 402/402 [04:34<00:00,  1.46it/s]\n"
          ]
        },
        {
          "name": "stdout",
          "output_type": "stream",
          "text": [
            "Epoch 149, Loss: 0.20098925570943463\n"
          ]
        },
        {
          "name": "stderr",
          "output_type": "stream",
          "text": [
            "validation: 100%|██████████| 45/45 [00:18<00:00,  2.47it/s]\n"
          ]
        },
        {
          "name": "stdout",
          "output_type": "stream",
          "text": [
            "Epoch 149, VAL_Loss: 0.22070258855819702\n"
          ]
        },
        {
          "name": "stderr",
          "output_type": "stream",
          "text": [
            "train: 100%|██████████| 402/402 [04:34<00:00,  1.46it/s]\n"
          ]
        },
        {
          "name": "stdout",
          "output_type": "stream",
          "text": [
            "Epoch 150, Loss: 0.20182013689582026\n"
          ]
        },
        {
          "name": "stderr",
          "output_type": "stream",
          "text": [
            "validation: 100%|██████████| 45/45 [00:18<00:00,  2.48it/s]"
          ]
        },
        {
          "name": "stdout",
          "output_type": "stream",
          "text": [
            "Epoch 150, VAL_Loss: 0.1957266926765442\n"
          ]
        },
        {
          "name": "stderr",
          "output_type": "stream",
          "text": [
            "\n"
          ]
        }
      ],
      "source": [
        "# model 초기화\n",
        "# model = UNet().to(device)\n",
        "# model = UNetFormer().to(device)\n",
        "\n",
        "# loss function과 optimizer 정의\n",
        "# criterion = torch.nn.BCEWithLogitsLoss()\n",
        "optimizer = torch.optim.Adam(model.parameters(), lr=0.01)\n",
        "# optimizer = torch.optim.SGD(model.parameters(), lr=0.01, momentum=0.9, weight_decay=0.0005)\n",
        "scheduler = torch.optim.lr_scheduler.CosineAnnealingLR(optimizer, T_max=100, eta_min=0.0001)\n",
        "Dice_Loss = smp.losses.DiceLoss(mode='binary')\n",
        "train_running_loss_history = []\n",
        "val_running_loss_history = []\n",
        "\n",
        "# training loop\n",
        "for epoch in range(150):  # 10 에폭 동안 학습합니다.\n",
        "    model.train()\n",
        "    epoch_loss = 0\n",
        "    val_epoch_loss = 0\n",
        "    for images, masks in tqdm(train_dataloader, desc = 'train'):\n",
        "        images = images.float().to(device)\n",
        "        masks = masks.float().to(device)\n",
        "\n",
        "        optimizer.zero_grad()\n",
        "        outputs = model(images)\n",
        "        # outputs = outputs.reshape(-1, 1, 224, 224)\n",
        "\n",
        "        loss = Dice_Loss(outputs, masks.unsqueeze(1))\n",
        "        # dice_score = calculate_dice_scores(outputs, masks.unsqueeze(1))\n",
        "        # loss = 1 - dice_score\n",
        "\n",
        "        loss.backward()\n",
        "        optimizer.step()\n",
        "\n",
        "        epoch_loss += loss.item()\n",
        "\n",
        "    train_running_loss_history.append(epoch_loss)\n",
        "    print(f'Epoch {epoch+1}, Loss: {epoch_loss/len(train_dataloader)}')\n",
        "\n",
        "    with torch.no_grad():\n",
        "        model.eval()\n",
        "        for val_images, val_masks in tqdm(val_dataloader, desc = 'validation'):\n",
        "            val_images = val_images.float().to(device)\n",
        "            val_masks = val_masks.float().to(device)\n",
        "\n",
        "            val_outputs = model(val_images)\n",
        "            # val_outputs = val_outputs.reshape(-1, 1, 224, 224)\n",
        "\n",
        "            validation_loss = Dice_Loss(val_outputs, val_masks.unsqueeze(1))\n",
        "\n",
        "            # val_dice_score = calculate_dice_scores(val_outputs, val_masks.unsqueeze(1))\n",
        "            # val_loss = 1- val_dice_score\n",
        "\n",
        "            val_epoch_loss += loss.item()\n",
        "\n",
        "    val_running_loss_history.append(val_epoch_loss)\n",
        "    print(f'Epoch {epoch+1}, VAL_Loss: {val_epoch_loss/len(val_dataloader)}')\n",
        "\n",
        "    scheduler.step()"
      ]
    },
    {
      "cell_type": "code",
      "execution_count": 23,
      "id": "oXkjFboz5Q7W",
      "metadata": {
        "id": "oXkjFboz5Q7W"
      },
      "outputs": [
        {
          "data": {
            "text/plain": [
              "<matplotlib.legend.Legend at 0x25272b78850>"
            ]
          },
          "execution_count": 23,
          "metadata": {},
          "output_type": "execute_result"
        },
        {
          "data": {
            "image/png": "[encoded data removed]",
            "text/plain": [
              "<Figure size 640x480 with 1 Axes>"
            ]
          },
          "metadata": {},
          "output_type": "display_data"
        }
      ],
      "source": [
        "plt.plot(train_running_loss_history, label='training loss')\n",
        "plt.plot(val_running_loss_history, label='val loss')\n",
        "plt.legend()"
      ]
    },
    {
      "cell_type": "markdown",
      "id": "c32eb51c-a3fe-4e11-a616-3a717ba16f7e",
      "metadata": {
        "id": "c32eb51c-a3fe-4e11-a616-3a717ba16f7e"
      },
      "source": [
        "## Inference"
      ]
    },
    {
      "cell_type": "code",
      "execution_count": 24,
      "id": "12371c8b-0c78-47df-89ec-2d8b55c8ea94",
      "metadata": {
        "id": "12371c8b-0c78-47df-89ec-2d8b55c8ea94"
      },
      "outputs": [],
      "source": [
        "test_dataset = SatelliteDataset(csv_file='./test.csv', transform=transform, infer=True)\n",
        "test_dataloader = DataLoader(test_dataset, batch_size=16, shuffle=False)"
      ]
    },
    {
      "cell_type": "code",
      "execution_count": 25,
      "id": "355b431c-ac8e-4c40-9046-4d53e4bab14a",
      "metadata": {
        "id": "355b431c-ac8e-4c40-9046-4d53e4bab14a"
      },
      "outputs": [
        {
          "name": "stderr",
          "output_type": "stream",
          "text": [
            "100%|██████████| 3790/3790 [13:56<00:00,  4.53it/s]\n"
          ]
        }
      ],
      "source": [
        "with torch.no_grad():\n",
        "    model.eval()\n",
        "    result = []\n",
        "    for images in tqdm(test_dataloader):\n",
        "        images = images.float().to(device)\n",
        "\n",
        "        outputs = model(images)\n",
        "        masks = torch.sigmoid(outputs).cpu().numpy()\n",
        "        masks = np.squeeze(masks, axis=1)\n",
        "        masks = (masks > 0.35).astype(np.uint8) # Threshold = 0.35\n",
        "\n",
        "        for i in range(len(images)):\n",
        "            mask_rle = rle_encode(masks[i])\n",
        "            if mask_rle == '': # 예측된 건물 픽셀이 아예 없는 경우 -1\n",
        "                result.append(-1)\n",
        "            else:\n",
        "                result.append(mask_rle)"
      ]
    },
    {
      "cell_type": "markdown",
      "id": "36c2cbbb-04f1-4f9c-b4df-4b744dfce046",
      "metadata": {
        "id": "36c2cbbb-04f1-4f9c-b4df-4b744dfce046"
      },
      "source": [
        "## Submission"
      ]
    },
    {
      "cell_type": "code",
      "execution_count": 26,
      "id": "f6543d00-32b3-4f2d-a572-d0879fd0a497",
      "metadata": {
        "id": "f6543d00-32b3-4f2d-a572-d0879fd0a497"
      },
      "outputs": [],
      "source": [
        "submit = pd.read_csv('./sample_submission.csv')\n",
        "submit['mask_rle'] = result"
      ]
    },
    {
      "cell_type": "code",
      "execution_count": 27,
      "id": "da10cb6f-0826-4755-a376-97b695ae8f86",
      "metadata": {
        "id": "da10cb6f-0826-4755-a376-97b695ae8f86"
      },
      "outputs": [],
      "source": [
        "submit.to_csv('./submit.csv', index=False)"
      ]
    },
    {
      "cell_type": "code",
      "execution_count": null,
      "id": "HKDYdBuSCwBw",
      "metadata": {
        "id": "HKDYdBuSCwBw"
      },
      "outputs": [],
      "source": []
    }
  ],
  "metadata": {
    "accelerator": "GPU",
    "colab": {
      "gpuType": "V100",
      "provenance": []
    },
    "kernelspec": {
      "display_name": "Python 3",
      "name": "python3"
    },
    "language_info": {
      "codemirror_mode": {
        "name": "ipython",
        "version": 3
      },
      "file_extension": ".py",
      "mimetype": "text/x-python",
      "name": "python",
      "nbconvert_exporter": "python",
      "pygments_lexer": "ipython3",
      "version": "3.11.4"
    }
  },
  "nbformat": 4,
  "nbformat_minor": 5
}
